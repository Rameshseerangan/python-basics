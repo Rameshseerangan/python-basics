{
 "cells": [
  {
   "cell_type": "code",
   "execution_count": 21,
   "id": "e7a1ce36",
   "metadata": {},
   "outputs": [],
   "source": [
    "def makepizza (size,*toppings):\n",
    "\tprint(f\"making a{size}-pizz with following.toppings:\")\n",
    "\tfor t in toppings:\n",
    "\t\tprint(f\"-{t}\")\n",
    "\n",
    "\n",
    "\n"
   ]
  },
  {
   "cell_type": "code",
   "execution_count": 25,
   "id": "f0c07377",
   "metadata": {},
   "outputs": [
    {
     "ename": "ModuleNotFoundError",
     "evalue": "No module named 'sub'",
     "output_type": "error",
     "traceback": [
      "\u001b[1;31m---------------------------------------------------------------------------\u001b[0m",
      "\u001b[1;31mModuleNotFoundError\u001b[0m                       Traceback (most recent call last)",
      "Input \u001b[1;32mIn [25]\u001b[0m, in \u001b[0;36m<cell line: 1>\u001b[1;34m()\u001b[0m\n\u001b[1;32m----> 1\u001b[0m \u001b[38;5;28;01mimport\u001b[39;00m \u001b[38;5;21;01msub\u001b[39;00m\n\u001b[0;32m      2\u001b[0m makepizza(\u001b[38;5;241m7\u001b[39m,\u001b[38;5;124m\"\u001b[39m\u001b[38;5;124mchikken\u001b[39m\u001b[38;5;124m\"\u001b[39m)\n",
      "\u001b[1;31mModuleNotFoundError\u001b[0m: No module named 'sub'"
     ]
    }
   ],
   "source": [
    "import sub\n",
    "makepizza(7,\"chikken\")"
   ]
  },
  {
   "cell_type": "code",
   "execution_count": 26,
   "id": "dbdb5983",
   "metadata": {},
   "outputs": [],
   "source": [
    "def squre(a):\n",
    "    return a+a"
   ]
  },
  {
   "cell_type": "code",
   "execution_count": 27,
   "id": "147a87ef",
   "metadata": {},
   "outputs": [
    {
     "data": {
      "text/plain": [
       "8"
      ]
     },
     "execution_count": 27,
     "metadata": {},
     "output_type": "execute_result"
    }
   ],
   "source": [
    "squre(4)"
   ]
  },
  {
   "cell_type": "code",
   "execution_count": 30,
   "id": "c03d4fa3",
   "metadata": {},
   "outputs": [],
   "source": [
    "#squere_alies = squere\n",
    "def squre(a):\n",
    "    return a*a\n",
    "\n"
   ]
  },
  {
   "cell_type": "code",
   "execution_count": 31,
   "id": "e061dbeb",
   "metadata": {},
   "outputs": [],
   "source": [
    "x = squre"
   ]
  },
  {
   "cell_type": "code",
   "execution_count": 32,
   "id": "2793447e",
   "metadata": {},
   "outputs": [
    {
     "data": {
      "text/plain": [
       "25"
      ]
     },
     "execution_count": 32,
     "metadata": {},
     "output_type": "execute_result"
    }
   ],
   "source": [
    "squre(5)"
   ]
  },
  {
   "cell_type": "code",
   "execution_count": 37,
   "id": "c550d8d2",
   "metadata": {},
   "outputs": [],
   "source": [
    "#function as argument\n",
    "def process(fun,value):\n",
    "    return fun(value)"
   ]
  },
  {
   "cell_type": "code",
   "execution_count": 38,
   "id": "15bf6b99",
   "metadata": {},
   "outputs": [
    {
     "data": {
      "text/plain": [
       "25"
      ]
     },
     "execution_count": 38,
     "metadata": {},
     "output_type": "execute_result"
    }
   ],
   "source": [
    "process(squre,5)"
   ]
  },
  {
   "cell_type": "code",
   "execution_count": 39,
   "id": "f4b47645",
   "metadata": {},
   "outputs": [],
   "source": [
    "def a(x):\n",
    "    return x+2\n"
   ]
  },
  {
   "cell_type": "code",
   "execution_count": 40,
   "id": "b5e107ee",
   "metadata": {},
   "outputs": [
    {
     "data": {
      "text/plain": [
       "5"
      ]
     },
     "execution_count": 40,
     "metadata": {},
     "output_type": "execute_result"
    }
   ],
   "source": [
    "process(a,3)"
   ]
  },
  {
   "cell_type": "code",
   "execution_count": 41,
   "id": "6f5557e2",
   "metadata": {},
   "outputs": [],
   "source": [
    "def p(y):\n",
    "    return y-2"
   ]
  },
  {
   "cell_type": "code",
   "execution_count": 42,
   "id": "de3fbfbb",
   "metadata": {},
   "outputs": [
    {
     "data": {
      "text/plain": [
       "2"
      ]
     },
     "execution_count": 42,
     "metadata": {},
     "output_type": "execute_result"
    }
   ],
   "source": [
    "process(p,4)"
   ]
  },
  {
   "cell_type": "code",
   "execution_count": 43,
   "id": "34fd0272",
   "metadata": {},
   "outputs": [],
   "source": [
    "def a(x,y):\n",
    "    return x(y)"
   ]
  },
  {
   "cell_type": "code",
   "execution_count": 44,
   "id": "10c2f0f8",
   "metadata": {},
   "outputs": [],
   "source": [
    "def sum1(plus):\n",
    "    return plus +4"
   ]
  },
  {
   "cell_type": "code",
   "execution_count": 45,
   "id": "74675633",
   "metadata": {},
   "outputs": [
    {
     "data": {
      "text/plain": [
       "7"
      ]
     },
     "execution_count": 45,
     "metadata": {},
     "output_type": "execute_result"
    }
   ],
   "source": [
    "a(sum1,3)"
   ]
  },
  {
   "cell_type": "code",
   "execution_count": 46,
   "id": "ca812462",
   "metadata": {},
   "outputs": [],
   "source": [
    "def sum2(function,sq):\n",
    "    result = []\n",
    "    for i in sq:\n",
    "        result.append(function(i))\n",
    "    return result\n",
    "    "
   ]
  },
  {
   "cell_type": "code",
   "execution_count": 47,
   "id": "496903ac",
   "metadata": {},
   "outputs": [
    {
     "data": {
      "text/plain": [
       "[16]"
      ]
     },
     "execution_count": 47,
     "metadata": {},
     "output_type": "execute_result"
    }
   ],
   "source": [
    "sum2(squre,[4])"
   ]
  },
  {
   "cell_type": "code",
   "execution_count": 48,
   "id": "bcaf521c",
   "metadata": {},
   "outputs": [
    {
     "data": {
      "text/plain": [
       "[4, 9, 16, 25]"
      ]
     },
     "execution_count": 48,
     "metadata": {},
     "output_type": "execute_result"
    }
   ],
   "source": [
    "sum2(squre,[2,3,4,5])"
   ]
  },
  {
   "cell_type": "code",
   "execution_count": 49,
   "id": "4ebf0e19",
   "metadata": {},
   "outputs": [],
   "source": [
    "def  multifun(func,multivalue):\n",
    "    result = []\n",
    "    for a in func:\n",
    "        result.append(a(multivalue))\n",
    "    return result"
   ]
  },
  {
   "cell_type": "code",
   "execution_count": 50,
   "id": "7051b60a",
   "metadata": {},
   "outputs": [
    {
     "data": {
      "text/plain": [
       "[16, 2]"
      ]
     },
     "execution_count": 50,
     "metadata": {},
     "output_type": "execute_result"
    }
   ],
   "source": [
    "multifun([squre,p],4)"
   ]
  },
  {
   "cell_type": "code",
   "execution_count": 51,
   "id": "286feff6",
   "metadata": {},
   "outputs": [],
   "source": [
    "def  multifun(func,multivalue):\n",
    "    result = []\n",
    "    if a in func:\n",
    "        result.append(a(multivalue))\n",
    "    return result"
   ]
  },
  {
   "cell_type": "code",
   "execution_count": 52,
   "id": "c725171f",
   "metadata": {},
   "outputs": [
    {
     "data": {
      "text/plain": [
       "[]"
      ]
     },
     "execution_count": 52,
     "metadata": {},
     "output_type": "execute_result"
    }
   ],
   "source": [
    "multifun([squre,p],4)"
   ]
  },
  {
   "cell_type": "code",
   "execution_count": 53,
   "id": "9302fa2b",
   "metadata": {},
   "outputs": [],
   "source": [
    "def sum3(function,sq):\n",
    "    result = []\n",
    "    if 4 in sq:\n",
    "        result.append(function(4))\n",
    "    return result\n",
    "    "
   ]
  },
  {
   "cell_type": "code",
   "execution_count": 54,
   "id": "06fc99ab",
   "metadata": {},
   "outputs": [
    {
     "ename": "NameError",
     "evalue": "name 'function' is not defined",
     "output_type": "error",
     "traceback": [
      "\u001b[1;31m---------------------------------------------------------------------------\u001b[0m",
      "\u001b[1;31mNameError\u001b[0m                                 Traceback (most recent call last)",
      "Input \u001b[1;32mIn [54]\u001b[0m, in \u001b[0;36m<cell line: 1>\u001b[1;34m()\u001b[0m\n\u001b[1;32m----> 1\u001b[0m sum3 \u001b[38;5;241m=\u001b[39m (\u001b[43mfunction\u001b[49m,[\u001b[38;5;241m4\u001b[39m])\n",
      "\u001b[1;31mNameError\u001b[0m: name 'function' is not defined"
     ]
    }
   ],
   "source": [
    "sum3 = (function,[4])"
   ]
  },
  {
   "cell_type": "code",
   "execution_count": 55,
   "id": "00277e02",
   "metadata": {},
   "outputs": [
    {
     "ename": "SyntaxError",
     "evalue": "invalid syntax (713503041.py, line 1)",
     "output_type": "error",
     "traceback": [
      "\u001b[1;36m  Input \u001b[1;32mIn [55]\u001b[1;36m\u001b[0m\n\u001b[1;33m    def maths:\u001b[0m\n\u001b[1;37m             ^\u001b[0m\n\u001b[1;31mSyntaxError\u001b[0m\u001b[1;31m:\u001b[0m invalid syntax\n"
     ]
    }
   ],
   "source": [
    "def maths:\n",
    "    \n",
    "    a = 10\n",
    "    b = 20\n",
    "    print(a+b)"
   ]
  },
  {
   "cell_type": "code",
   "execution_count": null,
   "id": "f2680f9a",
   "metadata": {},
   "outputs": [],
   "source": []
  },
  {
   "cell_type": "code",
   "execution_count": null,
   "id": "9fe083a3",
   "metadata": {},
   "outputs": [],
   "source": []
  },
  {
   "cell_type": "code",
   "execution_count": null,
   "id": "8391564e",
   "metadata": {},
   "outputs": [],
   "source": []
  },
  {
   "cell_type": "code",
   "execution_count": null,
   "id": "12b56eb8",
   "metadata": {},
   "outputs": [],
   "source": []
  }
 ],
 "metadata": {
  "kernelspec": {
   "display_name": "Python 3 (ipykernel)",
   "language": "python",
   "name": "python3"
  },
  "language_info": {
   "codemirror_mode": {
    "name": "ipython",
    "version": 3
   },
   "file_extension": ".py",
   "mimetype": "text/x-python",
   "name": "python",
   "nbconvert_exporter": "python",
   "pygments_lexer": "ipython3",
   "version": "3.9.12"
  }
 },
 "nbformat": 4,
 "nbformat_minor": 5
}

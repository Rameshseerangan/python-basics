{
 "cells": [
  {
   "cell_type": "code",
   "execution_count": 45,
   "id": "68ee007f",
   "metadata": {},
   "outputs": [],
   "source": [
    "#encapsulation \n",
    "class student:\n",
    "    sname = \"ram\"\n",
    "    sage = 20\n",
    "    sdept = \"bca\""
   ]
  },
  {
   "cell_type": "code",
   "execution_count": 46,
   "id": "1459b721",
   "metadata": {},
   "outputs": [],
   "source": [
    "x = student()"
   ]
  },
  {
   "cell_type": "code",
   "execution_count": 47,
   "id": "49125891",
   "metadata": {},
   "outputs": [
    {
     "data": {
      "text/plain": [
       "20"
      ]
     },
     "execution_count": 47,
     "metadata": {},
     "output_type": "execute_result"
    }
   ],
   "source": [
    "x.sage"
   ]
  },
  {
   "cell_type": "code",
   "execution_count": 48,
   "id": "c07773df",
   "metadata": {},
   "outputs": [
    {
     "data": {
      "text/plain": [
       "'bca'"
      ]
     },
     "execution_count": 48,
     "metadata": {},
     "output_type": "execute_result"
    }
   ],
   "source": [
    "x.sdept"
   ]
  },
  {
   "cell_type": "code",
   "execution_count": 49,
   "id": "ec59de7f",
   "metadata": {},
   "outputs": [
    {
     "data": {
      "text/plain": [
       "'ram'"
      ]
     },
     "execution_count": 49,
     "metadata": {},
     "output_type": "execute_result"
    }
   ],
   "source": [
    "x.sname"
   ]
  },
  {
   "cell_type": "code",
   "execution_count": 50,
   "id": "a627f3cf",
   "metadata": {},
   "outputs": [],
   "source": [
    "x.sname = \"jp\""
   ]
  },
  {
   "cell_type": "code",
   "execution_count": 51,
   "id": "9afd0343",
   "metadata": {},
   "outputs": [
    {
     "data": {
      "text/plain": [
       "'jp'"
      ]
     },
     "execution_count": 51,
     "metadata": {},
     "output_type": "execute_result"
    }
   ],
   "source": [
    "x.sname"
   ]
  },
  {
   "cell_type": "code",
   "execution_count": 52,
   "id": "ffb9ee39",
   "metadata": {},
   "outputs": [],
   "source": [
    "x.sage = 46\n"
   ]
  },
  {
   "cell_type": "code",
   "execution_count": 53,
   "id": "b518d862",
   "metadata": {},
   "outputs": [
    {
     "data": {
      "text/plain": [
       "46"
      ]
     },
     "execution_count": 53,
     "metadata": {},
     "output_type": "execute_result"
    }
   ],
   "source": [
    "x.sage"
   ]
  },
  {
   "cell_type": "code",
   "execution_count": 60,
   "id": "cd6a960e",
   "metadata": {},
   "outputs": [],
   "source": [
    "#encapsulation \n",
    "class student:\n",
    "    __sname = \"ram\"\n",
    "    sage = 20\n",
    "    sdept = \"bca\"\n",
    "    \n",
    "    def show(self):\n",
    "        print(self.__sname,self.sage,self.sdept)"
   ]
  },
  {
   "cell_type": "code",
   "execution_count": 61,
   "id": "c373ca7c",
   "metadata": {},
   "outputs": [],
   "source": [
    "x = student()"
   ]
  },
  {
   "cell_type": "code",
   "execution_count": 63,
   "id": "7f84ba3f",
   "metadata": {},
   "outputs": [
    {
     "name": "stdout",
     "output_type": "stream",
     "text": [
      "ram 20 bca\n"
     ]
    }
   ],
   "source": [
    "x.show()"
   ]
  },
  {
   "cell_type": "code",
   "execution_count": 56,
   "id": "754bf0cd",
   "metadata": {},
   "outputs": [
    {
     "data": {
      "text/plain": [
       "20"
      ]
     },
     "execution_count": 56,
     "metadata": {},
     "output_type": "execute_result"
    }
   ],
   "source": [
    "x.sage"
   ]
  },
  {
   "cell_type": "code",
   "execution_count": 58,
   "id": "1548c7e2",
   "metadata": {
    "scrolled": true
   },
   "outputs": [
    {
     "data": {
      "text/plain": [
       "'bca'"
      ]
     },
     "execution_count": 58,
     "metadata": {},
     "output_type": "execute_result"
    }
   ],
   "source": [
    "x.sdept"
   ]
  },
  {
   "cell_type": "code",
   "execution_count": null,
   "id": "0e7e648a",
   "metadata": {},
   "outputs": [],
   "source": []
  },
  {
   "cell_type": "code",
   "execution_count": 32,
   "id": "60774c32",
   "metadata": {},
   "outputs": [],
   "source": [
    "class student:\n",
    "    __sname = \"ram\"\n",
    "    sage = 20\n",
    "    sdept = \"bca\"\n",
    "    \n",
    "    def display(self):\n",
    "        print(self.__sname,self.sage,self.sdept)"
   ]
  },
  {
   "cell_type": "code",
   "execution_count": 33,
   "id": "84cab9d1",
   "metadata": {},
   "outputs": [],
   "source": [
    "y = student()"
   ]
  },
  {
   "cell_type": "code",
   "execution_count": 34,
   "id": "acfb3e6c",
   "metadata": {},
   "outputs": [
    {
     "name": "stdout",
     "output_type": "stream",
     "text": [
      "ram 20 bca\n"
     ]
    }
   ],
   "source": [
    "y.display()"
   ]
  },
  {
   "cell_type": "code",
   "execution_count": 35,
   "id": "7d4af733",
   "metadata": {},
   "outputs": [
    {
     "data": {
      "text/plain": [
       "20"
      ]
     },
     "execution_count": 35,
     "metadata": {},
     "output_type": "execute_result"
    }
   ],
   "source": [
    "y.sage"
   ]
  },
  {
   "cell_type": "code",
   "execution_count": 36,
   "id": "425b15c2",
   "metadata": {},
   "outputs": [
    {
     "data": {
      "text/plain": [
       "'bca'"
      ]
     },
     "execution_count": 36,
     "metadata": {},
     "output_type": "execute_result"
    }
   ],
   "source": [
    "y.sdept"
   ]
  },
  {
   "cell_type": "code",
   "execution_count": 38,
   "id": "3dc9f9a4",
   "metadata": {},
   "outputs": [
    {
     "name": "stdout",
     "output_type": "stream",
     "text": [
      "ram 20 bca\n"
     ]
    }
   ],
   "source": [
    "y.display()"
   ]
  },
  {
   "cell_type": "code",
   "execution_count": 20,
   "id": "17c95cdd",
   "metadata": {},
   "outputs": [],
   "source": [
    "class numeric:\n",
    "    count = 0\n",
    "    \n",
    "    def disp(self):\n",
    "        self.count+=1\n",
    "        print(\"numeric is\",self.count)"
   ]
  },
  {
   "cell_type": "code",
   "execution_count": 21,
   "id": "93b2644e",
   "metadata": {},
   "outputs": [],
   "source": [
    "y = numeric()"
   ]
  },
  {
   "cell_type": "code",
   "execution_count": 23,
   "id": "88343914",
   "metadata": {},
   "outputs": [
    {
     "name": "stdout",
     "output_type": "stream",
     "text": [
      "numeric is 1\n"
     ]
    }
   ],
   "source": [
    "y.disp()"
   ]
  },
  {
   "cell_type": "code",
   "execution_count": 24,
   "id": "1c96c25b",
   "metadata": {},
   "outputs": [
    {
     "name": "stdout",
     "output_type": "stream",
     "text": [
      "numeric is 2\n"
     ]
    }
   ],
   "source": [
    "y.disp()"
   ]
  },
  {
   "cell_type": "code",
   "execution_count": 25,
   "id": "d3548bb1",
   "metadata": {},
   "outputs": [
    {
     "name": "stdout",
     "output_type": "stream",
     "text": [
      "numeric is 3\n"
     ]
    }
   ],
   "source": [
    "y.disp()"
   ]
  },
  {
   "cell_type": "code",
   "execution_count": 26,
   "id": "27048717",
   "metadata": {},
   "outputs": [
    {
     "name": "stdout",
     "output_type": "stream",
     "text": [
      "numeric is 4\n"
     ]
    }
   ],
   "source": [
    "y.disp()"
   ]
  },
  {
   "cell_type": "code",
   "execution_count": 27,
   "id": "6318a86a",
   "metadata": {},
   "outputs": [
    {
     "data": {
      "text/plain": [
       "4"
      ]
     },
     "execution_count": 27,
     "metadata": {},
     "output_type": "execute_result"
    }
   ],
   "source": [
    "y.count"
   ]
  },
  {
   "cell_type": "code",
   "execution_count": 28,
   "id": "a92ef33c",
   "metadata": {},
   "outputs": [],
   "source": [
    "y.count = 100"
   ]
  },
  {
   "cell_type": "code",
   "execution_count": 30,
   "id": "a7aaac14",
   "metadata": {},
   "outputs": [
    {
     "name": "stdout",
     "output_type": "stream",
     "text": [
      "numeric is 101\n"
     ]
    }
   ],
   "source": [
    "y.disp()"
   ]
  },
  {
   "cell_type": "code",
   "execution_count": 31,
   "id": "2040ca8e",
   "metadata": {},
   "outputs": [],
   "source": [
    "class numeric:\n",
    "    __count = 0\n",
    "    \n",
    "    def disp(self):\n",
    "        self.__count+=1\n",
    "        print(\"numeric is\",self.__count)"
   ]
  },
  {
   "cell_type": "code",
   "execution_count": 32,
   "id": "2f1eba79",
   "metadata": {},
   "outputs": [],
   "source": [
    "o = numeric()"
   ]
  },
  {
   "cell_type": "code",
   "execution_count": 33,
   "id": "6601dad8",
   "metadata": {},
   "outputs": [
    {
     "name": "stdout",
     "output_type": "stream",
     "text": [
      "numeric is 1\n"
     ]
    }
   ],
   "source": [
    "o.disp()"
   ]
  },
  {
   "cell_type": "code",
   "execution_count": 35,
   "id": "3905fd11",
   "metadata": {},
   "outputs": [
    {
     "name": "stdout",
     "output_type": "stream",
     "text": [
      "numeric is 2\n"
     ]
    }
   ],
   "source": [
    "o.disp()"
   ]
  },
  {
   "cell_type": "code",
   "execution_count": 37,
   "id": "70f4fe59",
   "metadata": {},
   "outputs": [
    {
     "name": "stdout",
     "output_type": "stream",
     "text": [
      "numeric is 3\n"
     ]
    }
   ],
   "source": [
    "o.disp()"
   ]
  },
  {
   "cell_type": "code",
   "execution_count": 1,
   "id": "2c5510d4",
   "metadata": {},
   "outputs": [
    {
     "ename": "NameError",
     "evalue": "name 'o' is not defined",
     "output_type": "error",
     "traceback": [
      "\u001b[1;31m---------------------------------------------------------------------------\u001b[0m",
      "\u001b[1;31mNameError\u001b[0m                                 Traceback (most recent call last)",
      "Input \u001b[1;32mIn [1]\u001b[0m, in \u001b[0;36m<cell line: 1>\u001b[1;34m()\u001b[0m\n\u001b[1;32m----> 1\u001b[0m \u001b[43mo\u001b[49m\u001b[38;5;241m.\u001b[39m__count\n",
      "\u001b[1;31mNameError\u001b[0m: name 'o' is not defined"
     ]
    }
   ],
   "source": [
    "o.__count"
   ]
  },
  {
   "cell_type": "code",
   "execution_count": 39,
   "id": "5e83055e",
   "metadata": {},
   "outputs": [],
   "source": [
    "o.__count = 200"
   ]
  },
  {
   "cell_type": "code",
   "execution_count": 41,
   "id": "810f0f73",
   "metadata": {},
   "outputs": [
    {
     "name": "stdout",
     "output_type": "stream",
     "text": [
      "numeric is 4\n"
     ]
    }
   ],
   "source": [
    "o.disp()"
   ]
  },
  {
   "cell_type": "code",
   "execution_count": 51,
   "id": "cea08534",
   "metadata": {},
   "outputs": [],
   "source": [
    "class banking:\n",
    "    __acbalance = 1000\n",
    "    \n",
    "    def withdraw(self):\n",
    "        withdraw =int(input(\"amount of withdraw\"))\n",
    "        self.__acbalance -= withdraw\n",
    "        print(\"ac balance:\",self.__acbalance)\n",
    "        "
   ]
  },
  {
   "cell_type": "code",
   "execution_count": 52,
   "id": "7e6d73be",
   "metadata": {},
   "outputs": [],
   "source": [
    "x =banking()"
   ]
  },
  {
   "cell_type": "code",
   "execution_count": 53,
   "id": "3ff654f3",
   "metadata": {},
   "outputs": [
    {
     "name": "stdout",
     "output_type": "stream",
     "text": [
      "amount of withdraw100\n",
      "ac balance: 900\n"
     ]
    }
   ],
   "source": [
    "x.withdraw()"
   ]
  },
  {
   "cell_type": "code",
   "execution_count": 68,
   "id": "baad53eb",
   "metadata": {},
   "outputs": [],
   "source": [
    "class banking:\n",
    "    __acbalance = 1000\n",
    "    \n",
    "    def withdraw(self):\n",
    "        withdraw =int(input(\"amount of withdraw\"))\n",
    "        self.__acbalance -= withdraw\n",
    "        print(\"ac balance:\",self.__acbalance)\n",
    "    \n",
    "    def deposit (self):\n",
    "        deposit = int(input(\"amount is deposit \"))\n",
    "        self.__acbalance+= deposit \n",
    "        print(\"ac balance:\",self.__acbalance )\n",
    "        "
   ]
  },
  {
   "cell_type": "code",
   "execution_count": 69,
   "id": "cf0ba735",
   "metadata": {},
   "outputs": [],
   "source": [
    "x = banking()"
   ]
  },
  {
   "cell_type": "code",
   "execution_count": 70,
   "id": "ea716113",
   "metadata": {},
   "outputs": [
    {
     "name": "stdout",
     "output_type": "stream",
     "text": [
      "amount of withdraw300\n",
      "ac balance: 700\n"
     ]
    }
   ],
   "source": [
    "x.withdraw()"
   ]
  },
  {
   "cell_type": "code",
   "execution_count": 71,
   "id": "db96d166",
   "metadata": {},
   "outputs": [
    {
     "name": "stdout",
     "output_type": "stream",
     "text": [
      "amount is deposit 700\n",
      "ac balance: 1400\n"
     ]
    }
   ],
   "source": [
    "x.deposit()"
   ]
  },
  {
   "cell_type": "code",
   "execution_count": 1,
   "id": "d2bc5e70",
   "metadata": {},
   "outputs": [],
   "source": [
    "class htop:\n",
    "    name = \"ram\"\n",
    "    age = 30\n",
    "    salary = 392492"
   ]
  },
  {
   "cell_type": "code",
   "execution_count": 2,
   "id": "4cab2920",
   "metadata": {},
   "outputs": [],
   "source": [
    "obj = htop()"
   ]
  },
  {
   "cell_type": "code",
   "execution_count": 3,
   "id": "9218c746",
   "metadata": {},
   "outputs": [
    {
     "data": {
      "text/plain": [
       "'ram'"
      ]
     },
     "execution_count": 3,
     "metadata": {},
     "output_type": "execute_result"
    }
   ],
   "source": [
    "obj.name"
   ]
  },
  {
   "cell_type": "code",
   "execution_count": 4,
   "id": "ec2057ac",
   "metadata": {},
   "outputs": [
    {
     "data": {
      "text/plain": [
       "30"
      ]
     },
     "execution_count": 4,
     "metadata": {},
     "output_type": "execute_result"
    }
   ],
   "source": [
    "obj.age"
   ]
  },
  {
   "cell_type": "code",
   "execution_count": 5,
   "id": "bb587319",
   "metadata": {},
   "outputs": [
    {
     "data": {
      "text/plain": [
       "392492"
      ]
     },
     "execution_count": 5,
     "metadata": {},
     "output_type": "execute_result"
    }
   ],
   "source": [
    "obj.salary"
   ]
  },
  {
   "cell_type": "code",
   "execution_count": 6,
   "id": "fbc7c987",
   "metadata": {},
   "outputs": [],
   "source": [
    "obj.age = 20"
   ]
  },
  {
   "cell_type": "code",
   "execution_count": 7,
   "id": "5e1b45f0",
   "metadata": {},
   "outputs": [
    {
     "data": {
      "text/plain": [
       "20"
      ]
     },
     "execution_count": 7,
     "metadata": {},
     "output_type": "execute_result"
    }
   ],
   "source": [
    "obj.age"
   ]
  },
  {
   "cell_type": "code",
   "execution_count": 8,
   "id": "27011a0a",
   "metadata": {},
   "outputs": [],
   "source": [
    "class htop:\n",
    "    name = \"ram\"\n",
    "    __age = 30\n",
    "    salary = 392492"
   ]
  },
  {
   "cell_type": "code",
   "execution_count": 9,
   "id": "47042081",
   "metadata": {},
   "outputs": [
    {
     "data": {
      "text/plain": [
       "20"
      ]
     },
     "execution_count": 9,
     "metadata": {},
     "output_type": "execute_result"
    }
   ],
   "source": [
    "obj.age"
   ]
  },
  {
   "cell_type": "code",
   "execution_count": 10,
   "id": "d71b56b0",
   "metadata": {},
   "outputs": [],
   "source": [
    "obj.age = 30"
   ]
  },
  {
   "cell_type": "code",
   "execution_count": 11,
   "id": "fd35eeec",
   "metadata": {},
   "outputs": [
    {
     "data": {
      "text/plain": [
       "30"
      ]
     },
     "execution_count": 11,
     "metadata": {},
     "output_type": "execute_result"
    }
   ],
   "source": [
    "obj.age\n"
   ]
  },
  {
   "cell_type": "code",
   "execution_count": 8,
   "id": "5322e17c",
   "metadata": {},
   "outputs": [],
   "source": [
    "class men:\n",
    "    name = \"ram\"\n",
    "    __age = 30\n",
    "    salary = 392492"
   ]
  },
  {
   "cell_type": "code",
   "execution_count": 9,
   "id": "bb385fec",
   "metadata": {},
   "outputs": [],
   "source": [
    "x = men()"
   ]
  },
  {
   "cell_type": "code",
   "execution_count": 10,
   "id": "2d5e3215",
   "metadata": {},
   "outputs": [
    {
     "data": {
      "text/plain": [
       "'ram'"
      ]
     },
     "execution_count": 10,
     "metadata": {},
     "output_type": "execute_result"
    }
   ],
   "source": [
    "x.name"
   ]
  },
  {
   "cell_type": "code",
   "execution_count": 11,
   "id": "55f666ab",
   "metadata": {},
   "outputs": [
    {
     "data": {
      "text/plain": [
       "392492"
      ]
     },
     "execution_count": 11,
     "metadata": {},
     "output_type": "execute_result"
    }
   ],
   "source": [
    "x.salary"
   ]
  },
  {
   "cell_type": "code",
   "execution_count": 14,
   "id": "18754532",
   "metadata": {},
   "outputs": [
    {
     "ename": "AttributeError",
     "evalue": "'men' object has no attribute 'age'",
     "output_type": "error",
     "traceback": [
      "\u001b[1;31m---------------------------------------------------------------------------\u001b[0m",
      "\u001b[1;31mAttributeError\u001b[0m                            Traceback (most recent call last)",
      "Input \u001b[1;32mIn [14]\u001b[0m, in \u001b[0;36m<cell line: 1>\u001b[1;34m()\u001b[0m\n\u001b[1;32m----> 1\u001b[0m \u001b[43mx\u001b[49m\u001b[38;5;241;43m.\u001b[39;49m\u001b[43mage\u001b[49m\n",
      "\u001b[1;31mAttributeError\u001b[0m: 'men' object has no attribute 'age'"
     ]
    }
   ],
   "source": [
    "x.age"
   ]
  },
  {
   "cell_type": "code",
   "execution_count": 13,
   "id": "21f1a814",
   "metadata": {},
   "outputs": [],
   "source": [
    "class men:\n",
    "    name = \"ram\"\n",
    "    age = 30\n",
    "    salary = 392492\n",
    "    \n",
    "    def dispaly(self):\n",
    "        print(\"mname:\",self.name)\n",
    "        print(\"mage:\",self.age)\n",
    "        print(\"salary:\",self.salary)"
   ]
  },
  {
   "cell_type": "code",
   "execution_count": 5,
   "id": "ac14f32b",
   "metadata": {},
   "outputs": [],
   "source": [
    "obj = men()"
   ]
  },
  {
   "cell_type": "code",
   "execution_count": 6,
   "id": "b47ab3ec",
   "metadata": {},
   "outputs": [
    {
     "name": "stdout",
     "output_type": "stream",
     "text": [
      "mname: ram\n",
      "mage: 30\n",
      "salary: 392492\n"
     ]
    }
   ],
   "source": [
    "obj.dispaly()"
   ]
  },
  {
   "cell_type": "code",
   "execution_count": 26,
   "id": "ec8fb8d7",
   "metadata": {},
   "outputs": [
    {
     "data": {
      "text/plain": [
       "'ram'"
      ]
     },
     "execution_count": 26,
     "metadata": {},
     "output_type": "execute_result"
    }
   ],
   "source": [
    "obj.name"
   ]
  },
  {
   "cell_type": "code",
   "execution_count": 27,
   "id": "c9ba8634",
   "metadata": {},
   "outputs": [
    {
     "data": {
      "text/plain": [
       "392492"
      ]
     },
     "execution_count": 27,
     "metadata": {},
     "output_type": "execute_result"
    }
   ],
   "source": [
    "obj.salary"
   ]
  },
  {
   "cell_type": "code",
   "execution_count": 52,
   "id": "694dda9b",
   "metadata": {},
   "outputs": [],
   "source": [
    "class numeric:\n",
    "    count = 1000\n",
    "    \n",
    "    def disp(self):\n",
    "        self.count+=1\n",
    "        print(\"numeric is\",self.count)"
   ]
  },
  {
   "cell_type": "code",
   "execution_count": 53,
   "id": "a5b52907",
   "metadata": {},
   "outputs": [],
   "source": [
    "s = numeric()"
   ]
  },
  {
   "cell_type": "code",
   "execution_count": 54,
   "id": "8ad4f754",
   "metadata": {},
   "outputs": [
    {
     "data": {
      "text/plain": [
       "1000"
      ]
     },
     "execution_count": 54,
     "metadata": {},
     "output_type": "execute_result"
    }
   ],
   "source": [
    "s.count"
   ]
  },
  {
   "cell_type": "code",
   "execution_count": 55,
   "id": "c0e05610",
   "metadata": {},
   "outputs": [
    {
     "data": {
      "text/plain": [
       "1000"
      ]
     },
     "execution_count": 55,
     "metadata": {},
     "output_type": "execute_result"
    }
   ],
   "source": [
    "s.count"
   ]
  },
  {
   "cell_type": "code",
   "execution_count": 56,
   "id": "a7ddd426",
   "metadata": {},
   "outputs": [
    {
     "name": "stdout",
     "output_type": "stream",
     "text": [
      "numeric is 1001\n"
     ]
    }
   ],
   "source": [
    "s.disp()"
   ]
  },
  {
   "cell_type": "code",
   "execution_count": 57,
   "id": "0114b91c",
   "metadata": {},
   "outputs": [
    {
     "name": "stdout",
     "output_type": "stream",
     "text": [
      "numeric is 1002\n"
     ]
    }
   ],
   "source": [
    "s.disp()"
   ]
  },
  {
   "cell_type": "code",
   "execution_count": 58,
   "id": "7a358711",
   "metadata": {},
   "outputs": [],
   "source": [
    "class sample:\n",
    "    conunt =50\n",
    "    \n",
    "    def disp(self):\n",
    "        self.count+=1\n",
    "        print(\"sample is\",self.count)\n",
    "        "
   ]
  },
  {
   "cell_type": "code",
   "execution_count": 59,
   "id": "66676c4f",
   "metadata": {},
   "outputs": [],
   "source": [
    "obj =sample()"
   ]
  },
  {
   "cell_type": "code",
   "execution_count": 60,
   "id": "a67fdbf2",
   "metadata": {},
   "outputs": [
    {
     "data": {
      "text/plain": [
       "50"
      ]
     },
     "execution_count": 60,
     "metadata": {},
     "output_type": "execute_result"
    }
   ],
   "source": [
    "obj.conunt"
   ]
  },
  {
   "cell_type": "code",
   "execution_count": 61,
   "id": "06195876",
   "metadata": {},
   "outputs": [
    {
     "ename": "AttributeError",
     "evalue": "'sample' object has no attribute 'count'",
     "output_type": "error",
     "traceback": [
      "\u001b[1;31m---------------------------------------------------------------------------\u001b[0m",
      "\u001b[1;31mAttributeError\u001b[0m                            Traceback (most recent call last)",
      "Input \u001b[1;32mIn [61]\u001b[0m, in \u001b[0;36m<cell line: 1>\u001b[1;34m()\u001b[0m\n\u001b[1;32m----> 1\u001b[0m \u001b[43mobj\u001b[49m\u001b[38;5;241;43m.\u001b[39;49m\u001b[43mdisp\u001b[49m\u001b[43m(\u001b[49m\u001b[43m)\u001b[49m\n",
      "Input \u001b[1;32mIn [58]\u001b[0m, in \u001b[0;36msample.disp\u001b[1;34m(self)\u001b[0m\n\u001b[0;32m      4\u001b[0m \u001b[38;5;28;01mdef\u001b[39;00m \u001b[38;5;21mdisp\u001b[39m(\u001b[38;5;28mself\u001b[39m):\n\u001b[1;32m----> 5\u001b[0m     \u001b[38;5;28mself\u001b[39m\u001b[38;5;241m.\u001b[39mcount\u001b[38;5;241m+\u001b[39m\u001b[38;5;241m=\u001b[39m\u001b[38;5;241m1\u001b[39m\n\u001b[0;32m      6\u001b[0m     \u001b[38;5;28mprint\u001b[39m(\u001b[38;5;124m\"\u001b[39m\u001b[38;5;124msample is\u001b[39m\u001b[38;5;124m\"\u001b[39m,\u001b[38;5;28mself\u001b[39m\u001b[38;5;241m.\u001b[39mcount)\n",
      "\u001b[1;31mAttributeError\u001b[0m: 'sample' object has no attribute 'count'"
     ]
    }
   ],
   "source": [
    "obj.disp()"
   ]
  },
  {
   "cell_type": "code",
   "execution_count": 65,
   "id": "773f24e5",
   "metadata": {},
   "outputs": [],
   "source": [
    "class numeric:\n",
    "    count = 1000\n",
    "    \n",
    "    def disp(self):\n",
    "        self.count-=1\n",
    "        print(\"numeric is\",self.count)"
   ]
  },
  {
   "cell_type": "code",
   "execution_count": 66,
   "id": "b20f508c",
   "metadata": {},
   "outputs": [],
   "source": [
    "x = numeric()"
   ]
  },
  {
   "cell_type": "code",
   "execution_count": 68,
   "id": "df1bd241",
   "metadata": {},
   "outputs": [
    {
     "data": {
      "text/plain": [
       "1000"
      ]
     },
     "execution_count": 68,
     "metadata": {},
     "output_type": "execute_result"
    }
   ],
   "source": [
    "x.count"
   ]
  },
  {
   "cell_type": "code",
   "execution_count": 69,
   "id": "537a4724",
   "metadata": {},
   "outputs": [
    {
     "name": "stdout",
     "output_type": "stream",
     "text": [
      "numeric is 999\n"
     ]
    }
   ],
   "source": [
    "x.disp()"
   ]
  },
  {
   "cell_type": "code",
   "execution_count": 70,
   "id": "d4fa8905",
   "metadata": {},
   "outputs": [
    {
     "name": "stdout",
     "output_type": "stream",
     "text": [
      "numeric is 998\n"
     ]
    }
   ],
   "source": [
    "x.disp()"
   ]
  },
  {
   "cell_type": "code",
   "execution_count": 77,
   "id": "2e2a8a43",
   "metadata": {},
   "outputs": [],
   "source": [
    "class numeric:\n",
    "    count = 1000\n",
    "    \n",
    "    def disp(self):\n",
    "        self.count*=2\n",
    "        print(\"numeric is\",self.count)"
   ]
  },
  {
   "cell_type": "code",
   "execution_count": 78,
   "id": "10215643",
   "metadata": {},
   "outputs": [],
   "source": [
    "o = numeric()"
   ]
  },
  {
   "cell_type": "code",
   "execution_count": 79,
   "id": "89a19ee1",
   "metadata": {},
   "outputs": [
    {
     "data": {
      "text/plain": [
       "1000"
      ]
     },
     "execution_count": 79,
     "metadata": {},
     "output_type": "execute_result"
    }
   ],
   "source": [
    "o.count"
   ]
  },
  {
   "cell_type": "code",
   "execution_count": 80,
   "id": "d35fccc5",
   "metadata": {},
   "outputs": [
    {
     "name": "stdout",
     "output_type": "stream",
     "text": [
      "numeric is 2000\n"
     ]
    }
   ],
   "source": [
    "o.disp()"
   ]
  },
  {
   "cell_type": "code",
   "execution_count": 81,
   "id": "e73c7c1f",
   "metadata": {},
   "outputs": [
    {
     "name": "stdout",
     "output_type": "stream",
     "text": [
      "numeric is 4000\n"
     ]
    }
   ],
   "source": [
    "o.disp()"
   ]
  },
  {
   "cell_type": "code",
   "execution_count": 88,
   "id": "156ede70",
   "metadata": {},
   "outputs": [],
   "source": [
    "class finance:\n",
    "    __acbalance = 30000\n",
    "    \n",
    "    def getting_amount(self):\n",
    "        getting =int(input(\"amount of getting \"))\n",
    "        self.__acbalance -= getting\n",
    "        print(\"ac balance:\",self.__acbalance)\n",
    "    \n",
    "    def paying_amount (self):\n",
    "        paying = int(input(\"amount of paying \"))\n",
    "        self.__acbalance+= paying  \n",
    "        print(\"ac balance:\",self.__acbalance )"
   ]
  },
  {
   "cell_type": "code",
   "execution_count": 89,
   "id": "4ee76259",
   "metadata": {},
   "outputs": [],
   "source": [
    "b = finance()"
   ]
  },
  {
   "cell_type": "code",
   "execution_count": 90,
   "id": "9a65aa8a",
   "metadata": {},
   "outputs": [
    {
     "name": "stdout",
     "output_type": "stream",
     "text": [
      "amount of getting 15000\n",
      "ac balance: 15000\n"
     ]
    }
   ],
   "source": [
    "b.getting_amount()"
   ]
  },
  {
   "cell_type": "code",
   "execution_count": 91,
   "id": "569850f5",
   "metadata": {},
   "outputs": [
    {
     "name": "stdout",
     "output_type": "stream",
     "text": [
      "amount of paying 10000\n",
      "ac balance: 25000\n"
     ]
    }
   ],
   "source": [
    "b.paying_amount()"
   ]
  },
  {
   "cell_type": "code",
   "execution_count": 93,
   "id": "18fd35fb",
   "metadata": {},
   "outputs": [],
   "source": [
    "class clg_fees:\n",
    "    __fees_amount = 100000\n",
    "    \n",
    "    def paid_amount(self):\n",
    "        paid = int(input(\"paying amount is:\"))\n",
    "        self.__fees_amount -=paid\n",
    "        print(\"pendingamount:\",self.__fees_amount)\n",
    "        \n",
    "   \n",
    "        "
   ]
  },
  {
   "cell_type": "code",
   "execution_count": 94,
   "id": "fa258c73",
   "metadata": {},
   "outputs": [],
   "source": [
    "x = clg_fees()"
   ]
  },
  {
   "cell_type": "code",
   "execution_count": 95,
   "id": "d784edb1",
   "metadata": {},
   "outputs": [
    {
     "name": "stdout",
     "output_type": "stream",
     "text": [
      "paying amount is:80000\n",
      "pendingamount: 20000\n"
     ]
    }
   ],
   "source": [
    "x.paid_amount()"
   ]
  },
  {
   "cell_type": "code",
   "execution_count": 150,
   "id": "792bbfc0",
   "metadata": {},
   "outputs": [],
   "source": [
    "class banking:\n",
    "    __acbalance =5000\n",
    "    \n",
    "    def withdraw(self):\n",
    "        withdraw =int(input(\"amount of withdraw :\"))\n",
    "        self.__acbalance -= withdraw\n",
    "        print(\"ac balance:\",self.__acbalance)\n",
    "       \n",
    "    def deposit (self):\n",
    "        deposit = int(input(\"amount is deposit \"))\n",
    "        self.__acbalance+= deposit \n",
    "        print(\"ac balance:\",self.__acbalance )\n",
    "        "
   ]
  },
  {
   "cell_type": "code",
   "execution_count": 151,
   "id": "6705f7d3",
   "metadata": {},
   "outputs": [],
   "source": [
    "x = banking()\n"
   ]
  },
  {
   "cell_type": "code",
   "execution_count": 152,
   "id": "3ac1da3a",
   "metadata": {},
   "outputs": [
    {
     "name": "stdout",
     "output_type": "stream",
     "text": [
      "amount of withdraw :8000\n",
      "ac balance: -3000\n"
     ]
    }
   ],
   "source": [
    "x.withdraw()"
   ]
  },
  {
   "cell_type": "code",
   "execution_count": 153,
   "id": "83e6be89",
   "metadata": {},
   "outputs": [
    {
     "name": "stdout",
     "output_type": "stream",
     "text": [
      "amount is deposit 9000\n",
      "ac balance: 6000\n"
     ]
    }
   ],
   "source": [
    "x.deposit()"
   ]
  },
  {
   "cell_type": "code",
   "execution_count": 154,
   "id": "ba68ccfc",
   "metadata": {},
   "outputs": [
    {
     "name": "stdout",
     "output_type": "stream",
     "text": [
      "amount of withdraw :10000\n",
      "ac balance: -4000\n"
     ]
    }
   ],
   "source": [
    "x.withdraw()"
   ]
  },
  {
   "cell_type": "code",
   "execution_count": null,
   "id": "376b7af5",
   "metadata": {},
   "outputs": [],
   "source": []
  },
  {
   "cell_type": "code",
   "execution_count": 25,
   "id": "89a1b25b",
   "metadata": {},
   "outputs": [
    {
     "name": "stdout",
     "output_type": "stream",
     "text": [
      "amount of withdraw3000\n",
      "ac balance: -2000\n"
     ]
    }
   ],
   "source": [
    "x.withdraw()"
   ]
  },
  {
   "cell_type": "code",
   "execution_count": 147,
   "id": "48685b2a",
   "metadata": {},
   "outputs": [
    {
     "ename": "TypeError",
     "evalue": "'>=' not supported between instances of 'int' and 'function'",
     "output_type": "error",
     "traceback": [
      "\u001b[1;31m---------------------------------------------------------------------------\u001b[0m",
      "\u001b[1;31mTypeError\u001b[0m                                 Traceback (most recent call last)",
      "Input \u001b[1;32mIn [147]\u001b[0m, in \u001b[0;36m<cell line: 1>\u001b[1;34m()\u001b[0m\n\u001b[1;32m----> 1\u001b[0m \u001b[38;5;28;01mclass\u001b[39;00m \u001b[38;5;21;01mbanking\u001b[39;00m:\n\u001b[0;32m      2\u001b[0m     __acbalance \u001b[38;5;241m=\u001b[39m \u001b[38;5;241m1000\u001b[39m\n\u001b[0;32m      4\u001b[0m     \u001b[38;5;28;01mdef\u001b[39;00m \u001b[38;5;21mwithdraw\u001b[39m(\u001b[38;5;28mself\u001b[39m):\n",
      "Input \u001b[1;32mIn [147]\u001b[0m, in \u001b[0;36mbanking\u001b[1;34m()\u001b[0m\n\u001b[0;32m      6\u001b[0m     \u001b[38;5;28mself\u001b[39m\u001b[38;5;241m.\u001b[39m__acbalance \u001b[38;5;241m-\u001b[39m\u001b[38;5;241m=\u001b[39m withdraw\n\u001b[0;32m      7\u001b[0m     \u001b[38;5;28mprint\u001b[39m(\u001b[38;5;124m\"\u001b[39m\u001b[38;5;124mac balance:\u001b[39m\u001b[38;5;124m\"\u001b[39m,\u001b[38;5;28mself\u001b[39m\u001b[38;5;241m.\u001b[39m__acbalance)\n\u001b[1;32m----> 8\u001b[0m \u001b[38;5;28;01mif\u001b[39;00m \u001b[43m__acbalance\u001b[49m\u001b[43m \u001b[49m\u001b[38;5;241;43m>\u001b[39;49m\u001b[38;5;241;43m=\u001b[39;49m\u001b[43m \u001b[49m\u001b[43mwithdraw\u001b[49m:\n\u001b[0;32m      9\u001b[0m     \u001b[38;5;28mprint\u001b[39m(\u001b[38;5;124m\"\u001b[39m\u001b[38;5;124mlow\u001b[39m\u001b[38;5;124m\"\u001b[39m)\n\u001b[0;32m     11\u001b[0m \u001b[38;5;28;01mdef\u001b[39;00m \u001b[38;5;21mdeposit\u001b[39m (\u001b[38;5;28mself\u001b[39m):\n",
      "\u001b[1;31mTypeError\u001b[0m: '>=' not supported between instances of 'int' and 'function'"
     ]
    }
   ],
   "source": [
    "class banking:\n",
    "    __acbalance = 1000\n",
    "    \n",
    "    def withdraw(self):\n",
    "        withdraw =int(input(\"amount of withdraw\"))\n",
    "        self.__acbalance -= withdraw\n",
    "        print(\"ac balance:\",self.__acbalance)\n",
    "    if __acbalance >= withdraw:\n",
    "        print(\"low\")\n",
    "       \n",
    "    def deposit (self):\n",
    "        deposit = int(input(\"amount is deposit \"))\n",
    "        self.__acbalance+= deposit \n",
    "        print(\"ac balance:\",self.__acbalance )"
   ]
  },
  {
   "cell_type": "code",
   "execution_count": 148,
   "id": "9f68ea74",
   "metadata": {},
   "outputs": [],
   "source": [
    "obj = banking()"
   ]
  },
  {
   "cell_type": "code",
   "execution_count": 149,
   "id": "a2d1f834",
   "metadata": {},
   "outputs": [
    {
     "ename": "KeyboardInterrupt",
     "evalue": "Interrupted by user",
     "output_type": "error",
     "traceback": [
      "\u001b[1;31m---------------------------------------------------------------------------\u001b[0m",
      "\u001b[1;31mKeyboardInterrupt\u001b[0m                         Traceback (most recent call last)",
      "Input \u001b[1;32mIn [149]\u001b[0m, in \u001b[0;36m<cell line: 1>\u001b[1;34m()\u001b[0m\n\u001b[1;32m----> 1\u001b[0m \u001b[43mobj\u001b[49m\u001b[38;5;241;43m.\u001b[39;49m\u001b[43mwithdraw\u001b[49m\u001b[43m(\u001b[49m\u001b[43m)\u001b[49m\n",
      "Input \u001b[1;32mIn [144]\u001b[0m, in \u001b[0;36mbanking.withdraw\u001b[1;34m(self)\u001b[0m\n\u001b[0;32m      4\u001b[0m \u001b[38;5;28;01mdef\u001b[39;00m \u001b[38;5;21mwithdraw\u001b[39m(\u001b[38;5;28mself\u001b[39m):\n\u001b[1;32m----> 5\u001b[0m     withdraw \u001b[38;5;241m=\u001b[39m\u001b[38;5;28mint\u001b[39m(\u001b[38;5;28;43minput\u001b[39;49m\u001b[43m(\u001b[49m\u001b[38;5;124;43m\"\u001b[39;49m\u001b[38;5;124;43mamount of withdraw\u001b[39;49m\u001b[38;5;124;43m\"\u001b[39;49m\u001b[43m)\u001b[49m)\n\u001b[0;32m      6\u001b[0m     \u001b[38;5;28mself\u001b[39m\u001b[38;5;241m.\u001b[39m__acbalance \u001b[38;5;241m-\u001b[39m\u001b[38;5;241m=\u001b[39m withdraw\n\u001b[0;32m      7\u001b[0m     \u001b[38;5;28mprint\u001b[39m(\u001b[38;5;124m\"\u001b[39m\u001b[38;5;124mac balance:\u001b[39m\u001b[38;5;124m\"\u001b[39m,\u001b[38;5;28mself\u001b[39m\u001b[38;5;241m.\u001b[39m__acbalance)\n",
      "File \u001b[1;32m~\\anaconda3\\lib\\site-packages\\ipykernel\\kernelbase.py:1075\u001b[0m, in \u001b[0;36mKernel.raw_input\u001b[1;34m(self, prompt)\u001b[0m\n\u001b[0;32m   1071\u001b[0m \u001b[38;5;28;01mif\u001b[39;00m \u001b[38;5;129;01mnot\u001b[39;00m \u001b[38;5;28mself\u001b[39m\u001b[38;5;241m.\u001b[39m_allow_stdin:\n\u001b[0;32m   1072\u001b[0m     \u001b[38;5;28;01mraise\u001b[39;00m StdinNotImplementedError(\n\u001b[0;32m   1073\u001b[0m         \u001b[38;5;124m\"\u001b[39m\u001b[38;5;124mraw_input was called, but this frontend does not support input requests.\u001b[39m\u001b[38;5;124m\"\u001b[39m\n\u001b[0;32m   1074\u001b[0m     )\n\u001b[1;32m-> 1075\u001b[0m \u001b[38;5;28;01mreturn\u001b[39;00m \u001b[38;5;28;43mself\u001b[39;49m\u001b[38;5;241;43m.\u001b[39;49m\u001b[43m_input_request\u001b[49m\u001b[43m(\u001b[49m\n\u001b[0;32m   1076\u001b[0m \u001b[43m    \u001b[49m\u001b[38;5;28;43mstr\u001b[39;49m\u001b[43m(\u001b[49m\u001b[43mprompt\u001b[49m\u001b[43m)\u001b[49m\u001b[43m,\u001b[49m\n\u001b[0;32m   1077\u001b[0m \u001b[43m    \u001b[49m\u001b[38;5;28;43mself\u001b[39;49m\u001b[38;5;241;43m.\u001b[39;49m\u001b[43m_parent_ident\u001b[49m\u001b[43m[\u001b[49m\u001b[38;5;124;43m\"\u001b[39;49m\u001b[38;5;124;43mshell\u001b[39;49m\u001b[38;5;124;43m\"\u001b[39;49m\u001b[43m]\u001b[49m\u001b[43m,\u001b[49m\n\u001b[0;32m   1078\u001b[0m \u001b[43m    \u001b[49m\u001b[38;5;28;43mself\u001b[39;49m\u001b[38;5;241;43m.\u001b[39;49m\u001b[43mget_parent\u001b[49m\u001b[43m(\u001b[49m\u001b[38;5;124;43m\"\u001b[39;49m\u001b[38;5;124;43mshell\u001b[39;49m\u001b[38;5;124;43m\"\u001b[39;49m\u001b[43m)\u001b[49m\u001b[43m,\u001b[49m\n\u001b[0;32m   1079\u001b[0m \u001b[43m    \u001b[49m\u001b[43mpassword\u001b[49m\u001b[38;5;241;43m=\u001b[39;49m\u001b[38;5;28;43;01mFalse\u001b[39;49;00m\u001b[43m,\u001b[49m\n\u001b[0;32m   1080\u001b[0m \u001b[43m\u001b[49m\u001b[43m)\u001b[49m\n",
      "File \u001b[1;32m~\\anaconda3\\lib\\site-packages\\ipykernel\\kernelbase.py:1120\u001b[0m, in \u001b[0;36mKernel._input_request\u001b[1;34m(self, prompt, ident, parent, password)\u001b[0m\n\u001b[0;32m   1117\u001b[0m             \u001b[38;5;28;01mbreak\u001b[39;00m\n\u001b[0;32m   1118\u001b[0m \u001b[38;5;28;01mexcept\u001b[39;00m \u001b[38;5;167;01mKeyboardInterrupt\u001b[39;00m:\n\u001b[0;32m   1119\u001b[0m     \u001b[38;5;66;03m# re-raise KeyboardInterrupt, to truncate traceback\u001b[39;00m\n\u001b[1;32m-> 1120\u001b[0m     \u001b[38;5;28;01mraise\u001b[39;00m \u001b[38;5;167;01mKeyboardInterrupt\u001b[39;00m(\u001b[38;5;124m\"\u001b[39m\u001b[38;5;124mInterrupted by user\u001b[39m\u001b[38;5;124m\"\u001b[39m) \u001b[38;5;28;01mfrom\u001b[39;00m \u001b[38;5;28mNone\u001b[39m\n\u001b[0;32m   1121\u001b[0m \u001b[38;5;28;01mexcept\u001b[39;00m \u001b[38;5;167;01mException\u001b[39;00m:\n\u001b[0;32m   1122\u001b[0m     \u001b[38;5;28mself\u001b[39m\u001b[38;5;241m.\u001b[39mlog\u001b[38;5;241m.\u001b[39mwarning(\u001b[38;5;124m\"\u001b[39m\u001b[38;5;124mInvalid Message:\u001b[39m\u001b[38;5;124m\"\u001b[39m, exc_info\u001b[38;5;241m=\u001b[39m\u001b[38;5;28;01mTrue\u001b[39;00m)\n",
      "\u001b[1;31mKeyboardInterrupt\u001b[0m: Interrupted by user"
     ]
    }
   ],
   "source": [
    "obj.withdraw()"
   ]
  },
  {
   "cell_type": "code",
   "execution_count": 129,
   "id": "2f079b20",
   "metadata": {},
   "outputs": [
    {
     "name": "stdout",
     "output_type": "stream",
     "text": [
      "amount is deposit 4000\n",
      "ac balance: 8400\n"
     ]
    }
   ],
   "source": [
    "obj.deposit()"
   ]
  },
  {
   "cell_type": "code",
   "execution_count": 130,
   "id": "4d0cc427",
   "metadata": {},
   "outputs": [
    {
     "name": "stdout",
     "output_type": "stream",
     "text": [
      "amount of withdraw10000\n",
      "ac balance: -1600\n"
     ]
    }
   ],
   "source": [
    "obj.withdraw()\n"
   ]
  },
  {
   "cell_type": "code",
   "execution_count": 81,
   "id": "876b16a9",
   "metadata": {},
   "outputs": [],
   "source": [
    "class banking:\n",
    "    __acbalance = 1000\n",
    "    \n",
    "    def withdraw(self):\n",
    "        withdraw =int(input(\"amount of withdraw\"))\n",
    "        self.__acbalance -= withdraw\n",
    "        print(\"ac balance:\",self.__acbalance)\n",
    "        __acbalance = 1000\n",
    "        while __acbalance >withdraw:\n",
    "            print(\"low balance\")\n",
    "            __acbalance -=1\n",
    "        \n",
    "        else:\n",
    "            print(\"low\")"
   ]
  },
  {
   "cell_type": "code",
   "execution_count": null,
   "id": "d4ec9420",
   "metadata": {},
   "outputs": [],
   "source": []
  },
  {
   "cell_type": "code",
   "execution_count": 82,
   "id": "a5342179",
   "metadata": {},
   "outputs": [],
   "source": [
    "l= banking()"
   ]
  },
  {
   "cell_type": "code",
   "execution_count": 83,
   "id": "8c685deb",
   "metadata": {},
   "outputs": [
    {
     "ename": "KeyboardInterrupt",
     "evalue": "Interrupted by user",
     "output_type": "error",
     "traceback": [
      "\u001b[1;31m---------------------------------------------------------------------------\u001b[0m",
      "\u001b[1;31mKeyboardInterrupt\u001b[0m                         Traceback (most recent call last)",
      "Input \u001b[1;32mIn [83]\u001b[0m, in \u001b[0;36m<cell line: 1>\u001b[1;34m()\u001b[0m\n\u001b[1;32m----> 1\u001b[0m \u001b[43ml\u001b[49m\u001b[38;5;241;43m.\u001b[39;49m\u001b[43mwithdraw\u001b[49m\u001b[43m(\u001b[49m\u001b[43m)\u001b[49m\n",
      "Input \u001b[1;32mIn [81]\u001b[0m, in \u001b[0;36mbanking.withdraw\u001b[1;34m(self)\u001b[0m\n\u001b[0;32m      4\u001b[0m \u001b[38;5;28;01mdef\u001b[39;00m \u001b[38;5;21mwithdraw\u001b[39m(\u001b[38;5;28mself\u001b[39m):\n\u001b[1;32m----> 5\u001b[0m     withdraw \u001b[38;5;241m=\u001b[39m\u001b[38;5;28mint\u001b[39m(\u001b[38;5;28;43minput\u001b[39;49m\u001b[43m(\u001b[49m\u001b[38;5;124;43m\"\u001b[39;49m\u001b[38;5;124;43mamount of withdraw\u001b[39;49m\u001b[38;5;124;43m\"\u001b[39;49m\u001b[43m)\u001b[49m)\n\u001b[0;32m      6\u001b[0m     \u001b[38;5;28mself\u001b[39m\u001b[38;5;241m.\u001b[39m__acbalance \u001b[38;5;241m-\u001b[39m\u001b[38;5;241m=\u001b[39m withdraw\n\u001b[0;32m      7\u001b[0m     \u001b[38;5;28mprint\u001b[39m(\u001b[38;5;124m\"\u001b[39m\u001b[38;5;124mac balance:\u001b[39m\u001b[38;5;124m\"\u001b[39m,\u001b[38;5;28mself\u001b[39m\u001b[38;5;241m.\u001b[39m__acbalance)\n",
      "File \u001b[1;32m~\\anaconda3\\lib\\site-packages\\ipykernel\\kernelbase.py:1075\u001b[0m, in \u001b[0;36mKernel.raw_input\u001b[1;34m(self, prompt)\u001b[0m\n\u001b[0;32m   1071\u001b[0m \u001b[38;5;28;01mif\u001b[39;00m \u001b[38;5;129;01mnot\u001b[39;00m \u001b[38;5;28mself\u001b[39m\u001b[38;5;241m.\u001b[39m_allow_stdin:\n\u001b[0;32m   1072\u001b[0m     \u001b[38;5;28;01mraise\u001b[39;00m StdinNotImplementedError(\n\u001b[0;32m   1073\u001b[0m         \u001b[38;5;124m\"\u001b[39m\u001b[38;5;124mraw_input was called, but this frontend does not support input requests.\u001b[39m\u001b[38;5;124m\"\u001b[39m\n\u001b[0;32m   1074\u001b[0m     )\n\u001b[1;32m-> 1075\u001b[0m \u001b[38;5;28;01mreturn\u001b[39;00m \u001b[38;5;28;43mself\u001b[39;49m\u001b[38;5;241;43m.\u001b[39;49m\u001b[43m_input_request\u001b[49m\u001b[43m(\u001b[49m\n\u001b[0;32m   1076\u001b[0m \u001b[43m    \u001b[49m\u001b[38;5;28;43mstr\u001b[39;49m\u001b[43m(\u001b[49m\u001b[43mprompt\u001b[49m\u001b[43m)\u001b[49m\u001b[43m,\u001b[49m\n\u001b[0;32m   1077\u001b[0m \u001b[43m    \u001b[49m\u001b[38;5;28;43mself\u001b[39;49m\u001b[38;5;241;43m.\u001b[39;49m\u001b[43m_parent_ident\u001b[49m\u001b[43m[\u001b[49m\u001b[38;5;124;43m\"\u001b[39;49m\u001b[38;5;124;43mshell\u001b[39;49m\u001b[38;5;124;43m\"\u001b[39;49m\u001b[43m]\u001b[49m\u001b[43m,\u001b[49m\n\u001b[0;32m   1078\u001b[0m \u001b[43m    \u001b[49m\u001b[38;5;28;43mself\u001b[39;49m\u001b[38;5;241;43m.\u001b[39;49m\u001b[43mget_parent\u001b[49m\u001b[43m(\u001b[49m\u001b[38;5;124;43m\"\u001b[39;49m\u001b[38;5;124;43mshell\u001b[39;49m\u001b[38;5;124;43m\"\u001b[39;49m\u001b[43m)\u001b[49m\u001b[43m,\u001b[49m\n\u001b[0;32m   1079\u001b[0m \u001b[43m    \u001b[49m\u001b[43mpassword\u001b[49m\u001b[38;5;241;43m=\u001b[39;49m\u001b[38;5;28;43;01mFalse\u001b[39;49;00m\u001b[43m,\u001b[49m\n\u001b[0;32m   1080\u001b[0m \u001b[43m\u001b[49m\u001b[43m)\u001b[49m\n",
      "File \u001b[1;32m~\\anaconda3\\lib\\site-packages\\ipykernel\\kernelbase.py:1120\u001b[0m, in \u001b[0;36mKernel._input_request\u001b[1;34m(self, prompt, ident, parent, password)\u001b[0m\n\u001b[0;32m   1117\u001b[0m             \u001b[38;5;28;01mbreak\u001b[39;00m\n\u001b[0;32m   1118\u001b[0m \u001b[38;5;28;01mexcept\u001b[39;00m \u001b[38;5;167;01mKeyboardInterrupt\u001b[39;00m:\n\u001b[0;32m   1119\u001b[0m     \u001b[38;5;66;03m# re-raise KeyboardInterrupt, to truncate traceback\u001b[39;00m\n\u001b[1;32m-> 1120\u001b[0m     \u001b[38;5;28;01mraise\u001b[39;00m \u001b[38;5;167;01mKeyboardInterrupt\u001b[39;00m(\u001b[38;5;124m\"\u001b[39m\u001b[38;5;124mInterrupted by user\u001b[39m\u001b[38;5;124m\"\u001b[39m) \u001b[38;5;28;01mfrom\u001b[39;00m \u001b[38;5;28mNone\u001b[39m\n\u001b[0;32m   1121\u001b[0m \u001b[38;5;28;01mexcept\u001b[39;00m \u001b[38;5;167;01mException\u001b[39;00m:\n\u001b[0;32m   1122\u001b[0m     \u001b[38;5;28mself\u001b[39m\u001b[38;5;241m.\u001b[39mlog\u001b[38;5;241m.\u001b[39mwarning(\u001b[38;5;124m\"\u001b[39m\u001b[38;5;124mInvalid Message:\u001b[39m\u001b[38;5;124m\"\u001b[39m, exc_info\u001b[38;5;241m=\u001b[39m\u001b[38;5;28;01mTrue\u001b[39;00m)\n",
      "\u001b[1;31mKeyboardInterrupt\u001b[0m: Interrupted by user"
     ]
    }
   ],
   "source": [
    "l.withdraw()"
   ]
  },
  {
   "cell_type": "code",
   "execution_count": 71,
   "id": "2e7063ca",
   "metadata": {},
   "outputs": [],
   "source": [
    "class banking:\n",
    "    __acbalance = 1000\n",
    "    \n",
    "    def withdraw(self):\n",
    "        withdraw =int(input(\"amount of withdraw\"))\n",
    "        self.__acbalance -= withdraw\n",
    "        print(\"ac balance:\",self.__acbalance)\n",
    "        while __acbalance >withdraw:\n",
    "            print(acbalance)\n",
    "        else:\n",
    "            print(\"low bal\")"
   ]
  },
  {
   "cell_type": "code",
   "execution_count": 74,
   "id": "588183a9",
   "metadata": {},
   "outputs": [],
   "source": [
    "obj1  =banking()"
   ]
  },
  {
   "cell_type": "code",
   "execution_count": 73,
   "id": "87bdbd15",
   "metadata": {},
   "outputs": [
    {
     "name": "stdout",
     "output_type": "stream",
     "text": [
      "amount of withdraw900\n",
      "ac balance: 100\n"
     ]
    },
    {
     "ename": "NameError",
     "evalue": "name '_banking__acbalance' is not defined",
     "output_type": "error",
     "traceback": [
      "\u001b[1;31m---------------------------------------------------------------------------\u001b[0m",
      "\u001b[1;31mNameError\u001b[0m                                 Traceback (most recent call last)",
      "Input \u001b[1;32mIn [73]\u001b[0m, in \u001b[0;36m<cell line: 1>\u001b[1;34m()\u001b[0m\n\u001b[1;32m----> 1\u001b[0m \u001b[43mobj1\u001b[49m\u001b[38;5;241;43m.\u001b[39;49m\u001b[43mwithdraw\u001b[49m\u001b[43m(\u001b[49m\u001b[43m)\u001b[49m\n",
      "Input \u001b[1;32mIn [71]\u001b[0m, in \u001b[0;36mbanking.withdraw\u001b[1;34m(self)\u001b[0m\n\u001b[0;32m      6\u001b[0m \u001b[38;5;28mself\u001b[39m\u001b[38;5;241m.\u001b[39m__acbalance \u001b[38;5;241m-\u001b[39m\u001b[38;5;241m=\u001b[39m withdraw\n\u001b[0;32m      7\u001b[0m \u001b[38;5;28mprint\u001b[39m(\u001b[38;5;124m\"\u001b[39m\u001b[38;5;124mac balance:\u001b[39m\u001b[38;5;124m\"\u001b[39m,\u001b[38;5;28mself\u001b[39m\u001b[38;5;241m.\u001b[39m__acbalance)\n\u001b[1;32m----> 8\u001b[0m \u001b[38;5;28;01mwhile\u001b[39;00m __acbalance \u001b[38;5;241m>\u001b[39mwithdraw:\n\u001b[0;32m      9\u001b[0m     \u001b[38;5;28mprint\u001b[39m(acbalance)\n\u001b[0;32m     10\u001b[0m \u001b[38;5;28;01melse\u001b[39;00m:\n",
      "\u001b[1;31mNameError\u001b[0m: name '_banking__acbalance' is not defined"
     ]
    }
   ],
   "source": [
    "obj1.withdraw()"
   ]
  },
  {
   "cell_type": "code",
   "execution_count": 68,
   "id": "236ca818",
   "metadata": {},
   "outputs": [],
   "source": [
    "class banking:\n",
    "    __acbalance = 1000\n",
    "    \n",
    "    def withdraw(self):\n",
    "        withdraw =int(input(\"amount of withdraw\"))\n",
    "        self.__acbalance -= withdraw\n",
    "        print(\"ac balance:\",self.__acbalance)\n",
    "        \n",
    "        while __acbalance >=withdraw:\n",
    "            print(\"ac balance:\",self.__acbalance)\n",
    "           \n",
    "        \n",
    "        else:\n",
    "            print(\"your ac balance is low\")"
   ]
  },
  {
   "cell_type": "code",
   "execution_count": 69,
   "id": "9dc81a2d",
   "metadata": {},
   "outputs": [],
   "source": [
    "obj = banking()"
   ]
  },
  {
   "cell_type": "code",
   "execution_count": 156,
   "id": "f7587f62",
   "metadata": {},
   "outputs": [
    {
     "name": "stdout",
     "output_type": "stream",
     "text": [
      "amount of withdraw9000\n",
      "ac balance: -8900\n"
     ]
    }
   ],
   "source": [
    "obj.withdraw()"
   ]
  },
  {
   "cell_type": "code",
   "execution_count": 232,
   "id": "f1b02676",
   "metadata": {},
   "outputs": [],
   "source": [
    "class banking:\n",
    "    __acbalance =5000\n",
    "    \n",
    "    def withdraw(self):\n",
    "        withdraw =int(input(\"amount of withdraw :\"))\n",
    "        self.__acbalance -= withdraw\n",
    "        print(\"ac balance:\",self.__acbalance)\n",
    "       \n",
    "    def deposit (self):\n",
    "        deposit = int(input(\"amount is deposit \"))\n",
    "        self.__acbalance+= deposit \n",
    "        print(\"ac balance:\",self.__acbalance )\n",
    "        \n",
    "    "
   ]
  },
  {
   "cell_type": "code",
   "execution_count": 262,
   "id": "93f55c03",
   "metadata": {},
   "outputs": [],
   "source": [
    "class banking:\n",
    "    __acbalance =5000\n",
    "    \n",
    "    def withdraw(self):\n",
    "        withdraw =int(input(\"amount of withdraw :\"))\n",
    "        if self.__acbalance<=withdraw:\n",
    "            print(\"low\",)\n",
    "        else:\n",
    "            self.__acbalance -= withdraw\n",
    "            print(\"ac balance:\",self.__acbalance)\n",
    "        \n",
    "\n",
    "    def deposit (self):\n",
    "        deposit = int(input(\"amount is deposit \"))\n",
    "        self.__acbalance+= deposit \n",
    "        print(\"ac balance:\",self.__acbalance )\n",
    "    def display(self):\n",
    "        print(\"ac balance\",self.__acbalance)"
   ]
  },
  {
   "cell_type": "code",
   "execution_count": 263,
   "id": "3ddd00f8",
   "metadata": {},
   "outputs": [],
   "source": [
    "obj = banking()"
   ]
  },
  {
   "cell_type": "code",
   "execution_count": 264,
   "id": "16be9067",
   "metadata": {},
   "outputs": [
    {
     "name": "stdout",
     "output_type": "stream",
     "text": [
      "ac balance 5000\n"
     ]
    }
   ],
   "source": [
    "obj.display()"
   ]
  },
  {
   "cell_type": "code",
   "execution_count": 265,
   "id": "6b12fe57",
   "metadata": {},
   "outputs": [
    {
     "name": "stdout",
     "output_type": "stream",
     "text": [
      "amount of withdraw :9000\n",
      "low\n"
     ]
    }
   ],
   "source": [
    "obj.withdraw()\n"
   ]
  },
  {
   "cell_type": "code",
   "execution_count": 266,
   "id": "87199dd7",
   "metadata": {},
   "outputs": [
    {
     "name": "stdout",
     "output_type": "stream",
     "text": [
      "amount is deposit 1000\n",
      "ac balance: 6000\n"
     ]
    }
   ],
   "source": [
    "obj.deposit()\n"
   ]
  },
  {
   "cell_type": "code",
   "execution_count": 267,
   "id": "5dd50f93",
   "metadata": {},
   "outputs": [
    {
     "name": "stdout",
     "output_type": "stream",
     "text": [
      "amount of withdraw :4000\n",
      "ac balance: 2000\n"
     ]
    }
   ],
   "source": [
    "obj.withdraw()"
   ]
  },
  {
   "cell_type": "code",
   "execution_count": 268,
   "id": "9d8f8396",
   "metadata": {},
   "outputs": [
    {
     "name": "stdout",
     "output_type": "stream",
     "text": [
      "amount of withdraw :1600\n",
      "ac balance: 400\n"
     ]
    }
   ],
   "source": [
    "obj.withdraw()\n"
   ]
  },
  {
   "cell_type": "code",
   "execution_count": 269,
   "id": "613ceda2",
   "metadata": {},
   "outputs": [
    {
     "name": "stdout",
     "output_type": "stream",
     "text": [
      "ac balance 400\n"
     ]
    }
   ],
   "source": [
    "obj.display()"
   ]
  },
  {
   "cell_type": "code",
   "execution_count": 2,
   "id": "a11d47fc",
   "metadata": {},
   "outputs": [
    {
     "name": "stdout",
     "output_type": "stream",
     "text": [
      "Temperature Conversion Program\n",
      "1. Fahrenheit to Celsius\n",
      "2. Celsius to Fahrenheit\n",
      "Enter your choice (1/2): 2\n",
      "Enter temperature in Celsius: 25\n",
      "25.0°C is equal to 77.00°F\n"
     ]
    }
   ],
   "source": [
    "def fahrenheit_to_celsius(fahrenheit):\n",
    "    celsius = (fahrenheit - 32) * 5/9\n",
    "    return celsius\n",
    "\n",
    "def celsius_to_fahrenheit(celsius):\n",
    "    fahrenheit = (celsius * 9/5) + 32\n",
    "    return fahrenheit\n",
    "\n",
    "print(\"Temperature Conversion Program\")\n",
    "print(\"1. Fahrenheit to Celsius\")\n",
    "print(\"2. Celsius to Fahrenheit\")\n",
    "\n",
    "choice = int(input(\"Enter your choice (1/2): \"))\n",
    "\n",
    "if choice == 1:\n",
    "    f_temp = float(input(\"Enter temperature in Fahrenheit: \"))\n",
    "    c_temp = fahrenheit_to_celsius(f_temp)\n",
    "    print(f\"{f_temp}°F is equal to {c_temp:.2f}°C\")\n",
    "elif choice == 2:\n",
    "    c_temp = float(input(\"Enter temperature in Celsius: \"))\n",
    "    f_temp = celsius_to_fahrenheit(c_temp)\n",
    "    print(f\"{c_temp}°C is equal to {f_temp:.2f}°F\")\n",
    "else:\n",
    "    print(\"Invalid choice\")\n",
    "    "
   ]
  },
  {
   "cell_type": "code",
   "execution_count": null,
   "id": "8ae6e14f",
   "metadata": {},
   "outputs": [],
   "source": []
  },
  {
   "cell_type": "code",
   "execution_count": null,
   "id": "e5f14935",
   "metadata": {},
   "outputs": [],
   "source": []
  },
  {
   "cell_type": "code",
   "execution_count": null,
   "id": "ef35deec",
   "metadata": {},
   "outputs": [],
   "source": []
  },
  {
   "cell_type": "code",
   "execution_count": null,
   "id": "addccbd9",
   "metadata": {},
   "outputs": [],
   "source": []
  },
  {
   "cell_type": "code",
   "execution_count": null,
   "id": "8e7e69af",
   "metadata": {},
   "outputs": [],
   "source": []
  },
  {
   "cell_type": "code",
   "execution_count": null,
   "id": "7819d770",
   "metadata": {},
   "outputs": [],
   "source": []
  },
  {
   "cell_type": "code",
   "execution_count": null,
   "id": "d92549df",
   "metadata": {},
   "outputs": [],
   "source": []
  },
  {
   "cell_type": "code",
   "execution_count": null,
   "id": "fcfeee6a",
   "metadata": {},
   "outputs": [],
   "source": []
  },
  {
   "cell_type": "code",
   "execution_count": null,
   "id": "057ef82f",
   "metadata": {},
   "outputs": [],
   "source": []
  },
  {
   "cell_type": "code",
   "execution_count": null,
   "id": "419a35a0",
   "metadata": {},
   "outputs": [],
   "source": []
  },
  {
   "cell_type": "code",
   "execution_count": null,
   "id": "ef584bf5",
   "metadata": {},
   "outputs": [],
   "source": []
  }
 ],
 "metadata": {
  "kernelspec": {
   "display_name": "Python 3 (ipykernel)",
   "language": "python",
   "name": "python3"
  },
  "language_info": {
   "codemirror_mode": {
    "name": "ipython",
    "version": 3
   },
   "file_extension": ".py",
   "mimetype": "text/x-python",
   "name": "python",
   "nbconvert_exporter": "python",
   "pygments_lexer": "ipython3",
   "version": "3.9.12"
  }
 },
 "nbformat": 4,
 "nbformat_minor": 5
}

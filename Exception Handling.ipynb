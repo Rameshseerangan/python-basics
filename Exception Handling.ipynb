{
 "cells": [
  {
   "cell_type": "code",
   "execution_count": 1,
   "id": "cd39c5b8",
   "metadata": {},
   "outputs": [
    {
     "ename": "ZeroDivisionError",
     "evalue": "division by zero",
     "output_type": "error",
     "traceback": [
      "\u001b[1;31m---------------------------------------------------------------------------\u001b[0m",
      "\u001b[1;31mZeroDivisionError\u001b[0m                         Traceback (most recent call last)",
      "Input \u001b[1;32mIn [1]\u001b[0m, in \u001b[0;36m<cell line: 1>\u001b[1;34m()\u001b[0m\n\u001b[1;32m----> 1\u001b[0m \u001b[38;5;241;43m5\u001b[39;49m\u001b[38;5;241;43m/\u001b[39;49m\u001b[38;5;241;43m0\u001b[39;49m\n",
      "\u001b[1;31mZeroDivisionError\u001b[0m: division by zero"
     ]
    }
   ],
   "source": [
    "5/0"
   ]
  },
  {
   "cell_type": "code",
   "execution_count": null,
   "id": "44276ee4",
   "metadata": {},
   "outputs": [],
   "source": [
    "# when your using expetion handling method you have to use below  key word .\n",
    "#1.while True,2.break 3,try,4.except(FileNotFound,exception, "
   ]
  },
  {
   "cell_type": "code",
   "execution_count": null,
   "id": "79bd3b9d",
   "metadata": {},
   "outputs": [],
   "source": []
  },
  {
   "cell_type": "code",
   "execution_count": 2,
   "id": "78963c82",
   "metadata": {},
   "outputs": [
    {
     "ename": "ZeroDivisionError",
     "evalue": "division by zero",
     "output_type": "error",
     "traceback": [
      "\u001b[1;31m---------------------------------------------------------------------------\u001b[0m",
      "\u001b[1;31mZeroDivisionError\u001b[0m                         Traceback (most recent call last)",
      "Input \u001b[1;32mIn [2]\u001b[0m, in \u001b[0;36m<cell line: 1>\u001b[1;34m()\u001b[0m\n\u001b[1;32m----> 1\u001b[0m \u001b[38;5;28mprint\u001b[39m(\u001b[38;5;241;43m5\u001b[39;49m\u001b[38;5;241;43m/\u001b[39;49m\u001b[38;5;241;43m0\u001b[39;49m)\n",
      "\u001b[1;31mZeroDivisionError\u001b[0m: division by zero"
     ]
    }
   ],
   "source": [
    "print(5/0)"
   ]
  },
  {
   "cell_type": "code",
   "execution_count": 6,
   "id": "d6bd1a88",
   "metadata": {},
   "outputs": [
    {
     "name": "stdout",
     "output_type": "stream",
     "text": [
      "get output\n"
     ]
    }
   ],
   "source": [
    "try:\n",
    "    print(5/0)\n",
    "except ZeroDivisionError:\n",
    "        print(\"get output\")"
   ]
  },
  {
   "cell_type": "code",
   "execution_count": 7,
   "id": "270ae221",
   "metadata": {},
   "outputs": [
    {
     "name": "stdout",
     "output_type": "stream",
     "text": [
      "hello\n"
     ]
    }
   ],
   "source": [
    "try:\n",
    "    print(5/0)\n",
    "except Exception:\n",
    "    print(\"hello\")"
   ]
  },
  {
   "cell_type": "code",
   "execution_count": 8,
   "id": "04965e4b",
   "metadata": {},
   "outputs": [
    {
     "name": "stdout",
     "output_type": "stream",
     "text": [
      "hello\n"
     ]
    }
   ],
   "source": [
    "try:\n",
    "    print(5/0)\n",
    "except Exception:\n",
    "    print(\"hello\")"
   ]
  },
  {
   "cell_type": "code",
   "execution_count": 2,
   "id": "664cf182",
   "metadata": {},
   "outputs": [
    {
     "name": "stdout",
     "output_type": "stream",
     "text": [
      "Give me two numbers, and i'll divide them.\n",
      "Enter 'q' to quit.\n",
      "\n",
      "First Number: 2\n",
      "\n",
      "Second Number: 6\n",
      "0.3333333333333333\n"
     ]
    }
   ],
   "source": [
    "print(\"Give me two numbers, and i'll divide them.\")\n",
    "print(\"Enter 'q' to quit.\")\n",
    "\n",
    "while True:\n",
    "    first_number = input(\"\\nFirst Number: \")\n",
    "    if first_number == 'q':\n",
    "        break\n",
    "    second_number = input(\"\\nSecond Number: \")\n",
    "    if second_number == 'q':\n",
    "        break\n",
    "    answer = int(first_number) / int(second_number)\n",
    "    print(answer)\n",
    "    break\n"
   ]
  },
  {
   "cell_type": "code",
   "execution_count": null,
   "id": "41a48a60",
   "metadata": {},
   "outputs": [],
   "source": [
    "print(\"Give me two numbers, and i'll divide them.\")\n",
    "print(\"Enter 'q' to quit.\")\n",
    "\n",
    "while True:\n",
    "    first_number = input(\"\\nFirst Number: \")\n",
    "    if first_number == 'q':\n",
    "        break\n",
    "    second_number = input(\"\\nSecond Number: \")\n",
    "    if second_number == 'q':\n",
    "        break\n",
    "    answer = int(first_number) / int(second_number)\n",
    "    print(answer)\n",
    "    break"
   ]
  },
  {
   "cell_type": "code",
   "execution_count": null,
   "id": "5031701d",
   "metadata": {},
   "outputs": [],
   "source": [
    "print(\"Give me two numbers, and i'll divide them.\")\n",
    "print(\"Enter 'q' to quit.\")\n",
    "\n",
    "while True:\n",
    "    first_number = input(\"\\nFirst Number: \")\n",
    "    if first_number == '1'.first_number:\n",
    "        break\n",
    "    second_number = input(\"\\nSecond Number: \")\n",
    "    if second_number == 'q':\n",
    "        break\n",
    "    answer = int(first_number) / int(second_number)\n",
    "    print(answer)\n",
    "    break"
   ]
  },
  {
   "cell_type": "code",
   "execution_count": null,
   "id": "2b02ae96",
   "metadata": {},
   "outputs": [],
   "source": [
    "print(\"Give me two numbers, and i'll divide them.\")\n",
    "print(\"Enter 'q' to quit.\")\n",
    "\n",
    "while True:\n",
    "    first_number = input(\"\\nFirst Number: \")\n",
    "    if first_number == '':\n",
    "        raise(\"in\")\n",
    "        break\n",
    "    second_number = input(\"\\nSecond Number: \")\n",
    "    if second_number == 'q':\n",
    "        break\n",
    "    answer = int(first_number) / int(second_number)\n",
    "    print(answer)\n",
    "    break"
   ]
  },
  {
   "cell_type": "code",
   "execution_count": null,
   "id": "84dbcb2e",
   "metadata": {},
   "outputs": [],
   "source": [
    "print(\"enter two number\")\n",
    "print(\"enter 'x' to exit\")\n",
    "\n",
    "\n",
    "\n",
    "firstnumber = input(\"\\n first number:\")\n",
    "if firstnumber ==\"x\":\n",
    "    break\n",
    "secondnumber = input(\"\\n second number:\")\n",
    "if secondnumber ==\"x\":\n",
    "    break\n",
    "answer = int(firstnumber) / int(secondnumber)\n",
    "print(answer)\n",
    "break\n",
    "      "
   ]
  },
  {
   "cell_type": "code",
   "execution_count": null,
   "id": "23317055",
   "metadata": {},
   "outputs": [],
   "source": []
  },
  {
   "cell_type": "code",
   "execution_count": null,
   "id": "1493cb75",
   "metadata": {},
   "outputs": [],
   "source": []
  },
  {
   "cell_type": "code",
   "execution_count": null,
   "id": "3b0864ea",
   "metadata": {},
   "outputs": [],
   "source": [
    "print(\"enter two number\")\n",
    "print(\"enter 'x' to exit\")\n",
    "\n",
    "while True:\n",
    "    \n",
    "    firstnumber = input(\"\\n first number:\")\n",
    "    if firstnumber ==\"x\":\n",
    "        break\n",
    "        \n",
    "    secondnumber = input(\"\\n second number:\")\n",
    "    if secondnumber ==\"x\":\n",
    "        break\n",
    "           \n",
    "        answer = int(firstnumber) / int(secondnumber)\n",
    "        print(answer)\n",
    "        break\n",
    "        "
   ]
  },
  {
   "cell_type": "code",
   "execution_count": null,
   "id": "d0a15f26",
   "metadata": {},
   "outputs": [],
   "source": []
  },
  {
   "cell_type": "code",
   "execution_count": null,
   "id": "b4036757",
   "metadata": {},
   "outputs": [],
   "source": []
  },
  {
   "cell_type": "code",
   "execution_count": null,
   "id": "91db1e29",
   "metadata": {},
   "outputs": [],
   "source": []
  },
  {
   "cell_type": "code",
   "execution_count": null,
   "id": "a53254f5",
   "metadata": {},
   "outputs": [],
   "source": []
  },
  {
   "cell_type": "code",
   "execution_count": null,
   "id": "6797a341",
   "metadata": {},
   "outputs": [],
   "source": []
  },
  {
   "cell_type": "code",
   "execution_count": null,
   "id": "055cfce6",
   "metadata": {},
   "outputs": [],
   "source": [
    "print(\"Give me two numbers, and i'll divide them.\")\n",
    "print(\"Enter 'q' to quit.\")\n",
    "\n",
    "while True:\n",
    "    first_number = input(\"\\nFirst Number: \")\n",
    "    if first_number == 'q':\n",
    "        break\n",
    "    second_number = input(\"\\nSecond Number: \")\n",
    "    if second_number == 'q':\n",
    "        break\n",
    "    answer = int(first_number) / int(second_number)\n",
    "    print(answer)\n",
    "    "
   ]
  },
  {
   "cell_type": "code",
   "execution_count": null,
   "id": "cb80ba6b",
   "metadata": {},
   "outputs": [],
   "source": [
    "print(\"Give me two numbers, and i'll divide them.\")\n",
    "print(\"Enter 'q' to quit.\")\n",
    "\n",
    "while True:\n",
    "    first_number = input(\"\\nFirst Number: \")\n",
    "    if first_number == 'q':\n",
    "        break\n",
    "    second_number = input(\"\\nSecond Number: \")\n",
    "    if second_number == 'q':\n",
    "        break\n",
    "    try:\n",
    "        answer = int(first_number) / int(second_number)\n",
    "    \n",
    "    except Exception:\n",
    "        print(\"You can't divide by 0!\")\n",
    "        \n",
    "    else:\n",
    "        print(answer)\n",
    "    \n"
   ]
  },
  {
   "cell_type": "code",
   "execution_count": 21,
   "id": "7798b3a2",
   "metadata": {},
   "outputs": [
    {
     "name": "stdout",
     "output_type": "stream",
     "text": [
      "Give me two numbers, and i'll divide them.\n",
      "Enter 'q' to quit.\n",
      "\n",
      "First Number: 2\n",
      "\n",
      "Second Number: 0\n",
      "You can't divide by 0!\n",
      "\n",
      "First Number: 39\n",
      "\n",
      "Second Number: 1\n",
      "39.0\n"
     ]
    }
   ],
   "source": [
    "print(\"Give me two numbers, and i'll divide them.\")\n",
    "print(\"Enter 'q' to quit.\")\n",
    "\n",
    "while True:\n",
    "    first_number = input(\"\\nFirst Number: \")\n",
    "    if first_number == 'q':\n",
    "        break\n",
    "    second_number = input(\"\\nSecond Number: \")\n",
    "    if second_number == 'q':\n",
    "        break\n",
    "    try:\n",
    "        answer = int(first_number) / int(second_number)\n",
    "    \n",
    "    except Exception:\n",
    "        print(\"You can't divide by 0!\")\n",
    "        \n",
    "    else:\n",
    "        print(answer)\n",
    "        break\n",
    "    \n"
   ]
  },
  {
   "cell_type": "code",
   "execution_count": 4,
   "id": "2a07b8e4",
   "metadata": {},
   "outputs": [
    {
     "name": "stdout",
     "output_type": "stream",
     "text": [
      "#Exception handling\n",
      "\n",
      "#Handling Zero Division error\n",
      "print(5/0)\n",
      "\n",
      "#using try-except Blocks\n",
      "\n",
      "try:\n",
      "    print(5/0)\n",
      "except ZeroDivisionError:\n",
      "    print(\"You can't divide by zero!\")\n",
      "\n",
      "print(\"Give me two numbers, and i'll divide them.\")\n",
      "print(\"Enter 'q' to quit.\")\n",
      "\n",
      "while True:\n",
      "    first_number = input(\"\\nFirst Number: \")\n",
      "    if first_number == 'q':\n",
      "        break\n",
      "    second_number = input(\"\\nSecond Number: \")\n",
      "    if second_number == 'q':\n",
      "        break\n",
      "    answer = int(first_number) / int(second_number)\n",
      "    print(answer)\n",
      "    break\n",
      "\n",
      "#using Exception(without mentioning specific error)\n",
      "\n",
      "print(\"Give me two numbers, and i'll divide them.\")\n",
      "print(\"Enter 'q' to quit.\")\n",
      "\n",
      "while True:\n",
      "    first_number = input(\"\\nFirst Number: \")\n",
      "    if first_number == 'q':\n",
      "        break\n",
      "    second_number = input(\"\\nSecond Number: \")\n",
      "    if second_number == 'q':\n",
      "        break\n",
      "    try:\n",
      "        answer = int(first_number) / int(second_number)\n",
      "    \n",
      "    except Exception:\n",
      "        print(\"You can't divide by 0!\")\n",
      "        \n",
      "    else:\n",
      "        print(answer)\n",
      "    break\n",
      "\n",
      "\n",
      "\n",
      "# Handling FileNotFoundError Exception\n",
      "\n",
      "file_name = \"sample5.txt\"\n",
      "with open('C:/Jayaprakash/Python/sample5.txt') as text:\n",
      "    contents = text.read()\n",
      "print(contents)\n",
      "\n",
      "\n",
      "file_name = \"sample5.txt\"\n",
      "try:\n",
      "    with open('C:/Jayaprakash/Python/sample5.txt') as text:\n",
      "        contents = text.read()\n",
      "        print(contents)\n",
      "except FileNotFoundError:\n",
      "    print(f\"Sorry, the file{file_name} does not exist.\")    \n",
      "\n",
      "\n",
      "file_name = \"sample5.txt\"\n",
      "try:\n",
      "    with open('C:/Jayaprakash/Python/sample5.txt') as text:\n",
      "        contents = text.read()\n",
      "        print(contents)\n",
      "except Exception:\n",
      "    print(f\"Sorry, the file {file_name} does not exist.\")\n"
     ]
    }
   ],
   "source": [
    "with open(\"C:/Users/Ramesh/OneDrive/Desktop/python123/Exception Handling.txt\",\"r\") as d:\n",
    "    example = d.read()\n",
    "    print(example)"
   ]
  },
  {
   "cell_type": "code",
   "execution_count": 6,
   "id": "1060ff30",
   "metadata": {},
   "outputs": [
    {
     "name": "stdout",
     "output_type": "stream",
     "text": [
      "hai hello good evening\n",
      "#Exception handling\n",
      "\n",
      "#Handling Zero Division error\n",
      "print(5/0)\n",
      "\n",
      "#using try-except Blocks\n",
      "\n",
      "try:\n",
      "    print(5/0)\n",
      "except ZeroDivisionError:\n",
      "    print(\"You can't divide by zero!\")\n",
      "\n",
      "print(\"Give me two numbers, and i'll divide them.\")\n",
      "print(\"Enter 'q' to quit.\")\n",
      "\n",
      "while True:\n",
      "    first_number = input(\"\\nFirst Number: \")\n",
      "    if first_number == 'q':\n",
      "        break\n",
      "    second_number = input(\"\\nSecond Number: \")\n",
      "    if second_number == 'q':\n",
      "        break\n",
      "    answer = int(first_number) / int(second_number)\n",
      "    print(answer)\n",
      "    break\n",
      "\n",
      "#using Exception(without mentioning specific error)\n",
      "\n",
      "print(\"Give me two numbers, and i'll divide them.\")\n",
      "print(\"Enter 'q' to quit.\")\n",
      "\n",
      "while True:\n",
      "    first_number = input(\"\\nFirst Number: \")\n",
      "    if first_number == 'q':\n",
      "        break\n",
      "    second_number = input(\"\\nSecond Number: \")\n",
      "    if second_number == 'q':\n",
      "        break\n",
      "    try:\n",
      "        answer = int(first_number) / int(second_number)\n",
      "    \n",
      "    except Exception:\n",
      "        print(\"You can't divide by 0!\")\n",
      "        \n",
      "    else:\n",
      "        print(answer)\n",
      "    break\n",
      "\n",
      "\n",
      "\n",
      "# Handling FileNotFoundError Exception\n",
      "\n",
      "file_name = \"sample5.txt\"\n",
      "with open('C:/Jayaprakash/Python/sample5.txt') as text:\n",
      "    contents = text.read()\n",
      "print(contents)\n",
      "\n",
      "\n",
      "file_name = \"sample5.txt\"\n",
      "try:\n",
      "    with open('C:/Jayaprakash/Python/sample5.txt') as text:\n",
      "        contents = text.read()\n",
      "        print(contents)\n",
      "except FileNotFoundError:\n",
      "    print(f\"Sorry, the file{file_name} does not exist.\")    \n",
      "\n",
      "\n",
      "file_name = \"sample5.txt\"\n",
      "try:\n",
      "    with open('C:/Jayaprakash/Python/sample5.txt') as text:\n",
      "        contents = text.read()\n",
      "        print(contents)\n",
      "except Exception:\n",
      "    print(f\"Sorry, the file {file_name} does not exist.\")\n"
     ]
    }
   ],
   "source": [
    "with open(\"C:/Users/Ramesh/OneDrive/Desktop/python123/sample1.txt\",\"r\") as a:\n",
    "    example = a.read()\n",
    "    print(example)\n",
    "\n",
    "with open(\"C:/Users/Ramesh/OneDrive/Desktop/python123/Exception Handling.txt\",\"r\") as d:\n",
    "    example1 = d.read()\n",
    "    print(example1)"
   ]
  },
  {
   "cell_type": "code",
   "execution_count": 14,
   "id": "74a0d8de",
   "metadata": {},
   "outputs": [
    {
     "name": "stdout",
     "output_type": "stream",
     "text": [
      "hai hello good evening\n"
     ]
    }
   ],
   "source": [
    "file_name = \"sample1.txt\"\n",
    "try:\n",
    "    with open(\"C:/Users/Ramesh/OneDrive/Desktop/python123/sample1.txt\",) as a:\n",
    "        example = a.read()\n",
    "        print(example)\n",
    "        \n",
    "except exception:\n",
    "    print(\"sorry{file_name} not found\")\n",
    "\n"
   ]
  },
  {
   "cell_type": "code",
   "execution_count": 16,
   "id": "ba54a274",
   "metadata": {},
   "outputs": [
    {
     "name": "stdout",
     "output_type": "stream",
     "text": [
      "sorry{file_name} not found\n"
     ]
    }
   ],
   "source": [
    "file_name = \"sample.txt\"\n",
    "try:\n",
    "    with open(\"C:/Users/Ramesh/OneDrive/Desktop/python123/sample.txt\",) as a:\n",
    "        example = a.read()\n",
    "        print(example)\n",
    "        \n",
    "except FileNotFoundError:\n",
    "    print(\"sorry{file_name} not found\")"
   ]
  },
  {
   "cell_type": "code",
   "execution_count": 3,
   "id": "b65fac81",
   "metadata": {},
   "outputs": [
    {
     "name": "stdout",
     "output_type": "stream",
     "text": [
      "sorry{file_name} not found\n"
     ]
    }
   ],
   "source": [
    "file_name = \"sample.txt\"\n",
    "try:\n",
    "    with open(\"C:/Users/Ramesh/OneDrive/Desktop/python123/sample.txt\",) as a:\n",
    "        example = a.read()\n",
    "        print(example)\n",
    "        \n",
    "except FileNotFoundError:\n",
    "    print(\"sorry{file_name} not found\")"
   ]
  },
  {
   "cell_type": "code",
   "execution_count": null,
   "id": "45ebb219",
   "metadata": {},
   "outputs": [],
   "source": []
  },
  {
   "cell_type": "code",
   "execution_count": null,
   "id": "acc8be00",
   "metadata": {},
   "outputs": [],
   "source": []
  },
  {
   "cell_type": "code",
   "execution_count": null,
   "id": "ca163bbf",
   "metadata": {},
   "outputs": [],
   "source": []
  },
  {
   "cell_type": "code",
   "execution_count": null,
   "id": "3a264f78",
   "metadata": {},
   "outputs": [],
   "source": []
  },
  {
   "cell_type": "code",
   "execution_count": null,
   "id": "a257b5ba",
   "metadata": {},
   "outputs": [],
   "source": []
  },
  {
   "cell_type": "code",
   "execution_count": null,
   "id": "ed8282b2",
   "metadata": {},
   "outputs": [],
   "source": []
  },
  {
   "cell_type": "code",
   "execution_count": null,
   "id": "2d0a18da",
   "metadata": {},
   "outputs": [],
   "source": []
  },
  {
   "cell_type": "code",
   "execution_count": null,
   "id": "f380bbde",
   "metadata": {},
   "outputs": [],
   "source": []
  },
  {
   "cell_type": "code",
   "execution_count": null,
   "id": "dd8380d3",
   "metadata": {},
   "outputs": [],
   "source": []
  },
  {
   "cell_type": "code",
   "execution_count": null,
   "id": "76ac041d",
   "metadata": {},
   "outputs": [],
   "source": []
  },
  {
   "cell_type": "code",
   "execution_count": null,
   "id": "45ae5f63",
   "metadata": {},
   "outputs": [],
   "source": []
  },
  {
   "cell_type": "code",
   "execution_count": null,
   "id": "921a39ed",
   "metadata": {},
   "outputs": [],
   "source": []
  },
  {
   "cell_type": "code",
   "execution_count": null,
   "id": "5f7df984",
   "metadata": {},
   "outputs": [],
   "source": []
  },
  {
   "cell_type": "code",
   "execution_count": null,
   "id": "ed08483e",
   "metadata": {},
   "outputs": [],
   "source": []
  },
  {
   "cell_type": "code",
   "execution_count": null,
   "id": "aac42788",
   "metadata": {},
   "outputs": [],
   "source": []
  },
  {
   "cell_type": "code",
   "execution_count": null,
   "id": "ffd0af88",
   "metadata": {},
   "outputs": [],
   "source": []
  },
  {
   "cell_type": "code",
   "execution_count": null,
   "id": "272f0feb",
   "metadata": {},
   "outputs": [],
   "source": []
  },
  {
   "cell_type": "code",
   "execution_count": null,
   "id": "0e6fcc1b",
   "metadata": {},
   "outputs": [],
   "source": []
  }
 ],
 "metadata": {
  "kernelspec": {
   "display_name": "Python 3 (ipykernel)",
   "language": "python",
   "name": "python3"
  },
  "language_info": {
   "codemirror_mode": {
    "name": "ipython",
    "version": 3
   },
   "file_extension": ".py",
   "mimetype": "text/x-python",
   "name": "python",
   "nbconvert_exporter": "python",
   "pygments_lexer": "ipython3",
   "version": "3.9.12"
  }
 },
 "nbformat": 4,
 "nbformat_minor": 5
}

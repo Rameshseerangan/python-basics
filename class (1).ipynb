{
 "cells": [
  {
   "cell_type": "code",
   "execution_count": 17,
   "id": "f21b23bb",
   "metadata": {},
   "outputs": [],
   "source": [
    "class employee:\n",
    "    empname =\"ramesh\"\n",
    "    empage = 20\n",
    "    empsalary = 7500"
   ]
  },
  {
   "cell_type": "code",
   "execution_count": 18,
   "id": "99c523c3",
   "metadata": {},
   "outputs": [],
   "source": [
    "obj  = employee()\n",
    "\n",
    "\n"
   ]
  },
  {
   "cell_type": "code",
   "execution_count": 19,
   "id": "40817851",
   "metadata": {},
   "outputs": [
    {
     "data": {
      "text/plain": [
       "'ramesh'"
      ]
     },
     "execution_count": 19,
     "metadata": {},
     "output_type": "execute_result"
    }
   ],
   "source": [
    "obj.empname"
   ]
  },
  {
   "cell_type": "code",
   "execution_count": 20,
   "id": "80f49866",
   "metadata": {},
   "outputs": [
    {
     "data": {
      "text/plain": [
       "20"
      ]
     },
     "execution_count": 20,
     "metadata": {},
     "output_type": "execute_result"
    }
   ],
   "source": [
    "obj.empage"
   ]
  },
  {
   "cell_type": "code",
   "execution_count": 21,
   "id": "1bb2a1f3",
   "metadata": {},
   "outputs": [
    {
     "data": {
      "text/plain": [
       "7500"
      ]
     },
     "execution_count": 21,
     "metadata": {},
     "output_type": "execute_result"
    }
   ],
   "source": [
    "obj.empsalary"
   ]
  },
  {
   "cell_type": "code",
   "execution_count": 22,
   "id": "2dbbdcb9",
   "metadata": {},
   "outputs": [],
   "source": [
    "class hindustan:\n",
    "    dept = \"arts\"\n",
    "    deptcode = \"bce6364\"\n",
    "    depthod = \"sherin\"\n",
    "    \n",
    "    "
   ]
  },
  {
   "cell_type": "code",
   "execution_count": 23,
   "id": "00693b5b",
   "metadata": {},
   "outputs": [],
   "source": [
    "obj = hindustan()"
   ]
  },
  {
   "cell_type": "code",
   "execution_count": 26,
   "id": "845736aa",
   "metadata": {},
   "outputs": [
    {
     "data": {
      "text/plain": [
       "'arts'"
      ]
     },
     "execution_count": 26,
     "metadata": {},
     "output_type": "execute_result"
    }
   ],
   "source": [
    "obj.dept\n"
   ]
  },
  {
   "cell_type": "code",
   "execution_count": 27,
   "id": "66fda878",
   "metadata": {},
   "outputs": [
    {
     "data": {
      "text/plain": [
       "'bce6364'"
      ]
     },
     "execution_count": 27,
     "metadata": {},
     "output_type": "execute_result"
    }
   ],
   "source": [
    "obj.deptcode\n"
   ]
  },
  {
   "cell_type": "code",
   "execution_count": 28,
   "id": "a53860d7",
   "metadata": {},
   "outputs": [
    {
     "data": {
      "text/plain": [
       "'sherin'"
      ]
     },
     "execution_count": 28,
     "metadata": {},
     "output_type": "execute_result"
    }
   ],
   "source": [
    "\n",
    "obj.depthod"
   ]
  },
  {
   "cell_type": "code",
   "execution_count": 1,
   "id": "391b8245",
   "metadata": {},
   "outputs": [],
   "source": [
    "class employee:\n",
    "    ename = \"sanju\"\n",
    "    eage = 40\n",
    "    empsalary = 40000\n",
    "    \n",
    "    def disp(self):\n",
    "        print(\"employeename:%s\\nemployeeage:%s\\nempsalary:%s\"%(ename,eage,esalary))"
   ]
  },
  {
   "cell_type": "code",
   "execution_count": 2,
   "id": "71480d33",
   "metadata": {},
   "outputs": [],
   "source": [
    "obj = employee()"
   ]
  },
  {
   "cell_type": "code",
   "execution_count": 3,
   "id": "dead0a96",
   "metadata": {},
   "outputs": [
    {
     "ename": "NameError",
     "evalue": "name 'ename' is not defined",
     "output_type": "error",
     "traceback": [
      "\u001b[1;31m---------------------------------------------------------------------------\u001b[0m",
      "\u001b[1;31mNameError\u001b[0m                                 Traceback (most recent call last)",
      "Input \u001b[1;32mIn [3]\u001b[0m, in \u001b[0;36m<cell line: 1>\u001b[1;34m()\u001b[0m\n\u001b[1;32m----> 1\u001b[0m obj\u001b[38;5;241m.\u001b[39mdisp(\u001b[43mename\u001b[49m)\n",
      "\u001b[1;31mNameError\u001b[0m: name 'ename' is not defined"
     ]
    }
   ],
   "source": [
    "obj.disp(ename)"
   ]
  },
  {
   "cell_type": "code",
   "execution_count": 42,
   "id": "3f096df9",
   "metadata": {},
   "outputs": [
    {
     "data": {
      "text/plain": [
       "'sanju'"
      ]
     },
     "execution_count": 42,
     "metadata": {},
     "output_type": "execute_result"
    }
   ],
   "source": [
    "obj.ename"
   ]
  },
  {
   "cell_type": "code",
   "execution_count": 76,
   "id": "12bb5333",
   "metadata": {},
   "outputs": [],
   "source": [
    "class employee:\n",
    "    ename = \"sanju\"\n",
    "    eage = 40\n",
    "    esalary = 40000\n",
    "    \n",
    "    def disp(self,ename,eage,esalary):\n",
    "        print(\"employeename:%s\\nemployeeage:%s\\nempsalary:%s\"%(self.ename,self.eage,self.esalary))"
   ]
  },
  {
   "cell_type": "code",
   "execution_count": 77,
   "id": "ffb00858",
   "metadata": {},
   "outputs": [],
   "source": [
    "obj1 = employee()"
   ]
  },
  {
   "cell_type": "code",
   "execution_count": 78,
   "id": "7e9fed85",
   "metadata": {},
   "outputs": [
    {
     "name": "stdout",
     "output_type": "stream",
     "text": [
      "employeename:sanju\n",
      "employeeage:40\n",
      "empsalary:40000\n"
     ]
    }
   ],
   "source": [
    "obj1.disp(\"sanju\",40,40000)"
   ]
  },
  {
   "cell_type": "code",
   "execution_count": 79,
   "id": "386ca099",
   "metadata": {},
   "outputs": [
    {
     "ename": "NameError",
     "evalue": "name 'ename' is not defined",
     "output_type": "error",
     "traceback": [
      "\u001b[1;31m---------------------------------------------------------------------------\u001b[0m",
      "\u001b[1;31mNameError\u001b[0m                                 Traceback (most recent call last)",
      "Input \u001b[1;32mIn [79]\u001b[0m, in \u001b[0;36m<cell line: 1>\u001b[1;34m()\u001b[0m\n\u001b[1;32m----> 1\u001b[0m obj1\u001b[38;5;241m.\u001b[39mdisp(\u001b[43mename\u001b[49m,esalary,eage)\n",
      "\u001b[1;31mNameError\u001b[0m: name 'ename' is not defined"
     ]
    }
   ],
   "source": [
    "obj1.disp(ename,esalary,eage)"
   ]
  },
  {
   "cell_type": "code",
   "execution_count": 8,
   "id": "384e2d00",
   "metadata": {},
   "outputs": [],
   "source": [
    "class student:\n",
    "    sname = \"ramesh\"\n",
    "    sid = 19351005\n",
    "    sdept =\"mca\"\n",
    "    def disp(self,sname,sid,sdept):\n",
    "        print(\"studentname:%s\\nstudentid:%s\\nstudentdept:%s\"%(self.sname,self.sid,self.sdept))"
   ]
  },
  {
   "cell_type": "code",
   "execution_count": 9,
   "id": "e0ee3710",
   "metadata": {},
   "outputs": [],
   "source": [
    "obj = student()"
   ]
  },
  {
   "cell_type": "code",
   "execution_count": 10,
   "id": "75fa3aed",
   "metadata": {},
   "outputs": [
    {
     "data": {
      "text/plain": [
       "'mca'"
      ]
     },
     "execution_count": 10,
     "metadata": {},
     "output_type": "execute_result"
    }
   ],
   "source": [
    "obj.sdept"
   ]
  },
  {
   "cell_type": "code",
   "execution_count": 11,
   "id": "ac20e564",
   "metadata": {},
   "outputs": [
    {
     "data": {
      "text/plain": [
       "19351005"
      ]
     },
     "execution_count": 11,
     "metadata": {},
     "output_type": "execute_result"
    }
   ],
   "source": [
    "obj.sid"
   ]
  },
  {
   "cell_type": "code",
   "execution_count": 12,
   "id": "41c07463",
   "metadata": {},
   "outputs": [
    {
     "data": {
      "text/plain": [
       "'ramesh'"
      ]
     },
     "execution_count": 12,
     "metadata": {},
     "output_type": "execute_result"
    }
   ],
   "source": [
    "obj.sname"
   ]
  },
  {
   "cell_type": "code",
   "execution_count": 14,
   "id": "72451256",
   "metadata": {},
   "outputs": [
    {
     "name": "stdout",
     "output_type": "stream",
     "text": [
      "studentname:ramesh\n",
      "studentid:19351005\n",
      "studentdept:mca\n"
     ]
    }
   ],
   "source": [
    "obj.disp(\"\",9,\"\")"
   ]
  },
  {
   "cell_type": "code",
   "execution_count": null,
   "id": "ee7101d8",
   "metadata": {},
   "outputs": [],
   "source": []
  },
  {
   "cell_type": "code",
   "execution_count": null,
   "id": "2d2cde68",
   "metadata": {},
   "outputs": [],
   "source": []
  },
  {
   "cell_type": "code",
   "execution_count": null,
   "id": "58cdaa3e",
   "metadata": {},
   "outputs": [],
   "source": []
  },
  {
   "cell_type": "code",
   "execution_count": 82,
   "id": "95dd3211",
   "metadata": {},
   "outputs": [],
   "source": [
    "class add:\n",
    "    def sum_function(self,x,y):\n",
    "        sum  = x +y\n",
    "        print(sum)"
   ]
  },
  {
   "cell_type": "code",
   "execution_count": 83,
   "id": "39510ecb",
   "metadata": {},
   "outputs": [],
   "source": [
    "obj = add()"
   ]
  },
  {
   "cell_type": "code",
   "execution_count": 85,
   "id": "3bbe3e5c",
   "metadata": {},
   "outputs": [
    {
     "name": "stdout",
     "output_type": "stream",
     "text": [
      "50\n"
     ]
    }
   ],
   "source": [
    "obj.sum_function(20,30)"
   ]
  },
  {
   "cell_type": "code",
   "execution_count": 89,
   "id": "ad08d64d",
   "metadata": {},
   "outputs": [],
   "source": [
    "class multiple:\n",
    "    def sum_multiplication (self,a,b):\n",
    "        sum  =a*b\n",
    "        return(sum)"
   ]
  },
  {
   "cell_type": "code",
   "execution_count": 90,
   "id": "7555f6ad",
   "metadata": {},
   "outputs": [],
   "source": [
    "obj  = multiple()"
   ]
  },
  {
   "cell_type": "code",
   "execution_count": 92,
   "id": "8d8a2d9c",
   "metadata": {},
   "outputs": [
    {
     "data": {
      "text/plain": [
       "16"
      ]
     },
     "execution_count": 92,
     "metadata": {},
     "output_type": "execute_result"
    }
   ],
   "source": [
    "obj.sum_multiplication (4,4)"
   ]
  },
  {
   "cell_type": "code",
   "execution_count": 93,
   "id": "96aefc62",
   "metadata": {},
   "outputs": [],
   "source": [
    "class dived:\n",
    "    def sum_divided  (self,a,b):\n",
    "        sum  =a/b\n",
    "        return(sum)"
   ]
  },
  {
   "cell_type": "code",
   "execution_count": 95,
   "id": "95942525",
   "metadata": {},
   "outputs": [],
   "source": [
    "obj = dived()"
   ]
  },
  {
   "cell_type": "code",
   "execution_count": 96,
   "id": "c365f9fe",
   "metadata": {},
   "outputs": [
    {
     "data": {
      "text/plain": [
       "2.5"
      ]
     },
     "execution_count": 96,
     "metadata": {},
     "output_type": "execute_result"
    }
   ],
   "source": [
    "obj.sum_divided (5,2)"
   ]
  },
  {
   "cell_type": "code",
   "execution_count": 97,
   "id": "e42988e4",
   "metadata": {},
   "outputs": [
    {
     "data": {
      "text/plain": [
       "1.6666666666666667"
      ]
     },
     "execution_count": 97,
     "metadata": {},
     "output_type": "execute_result"
    }
   ],
   "source": [
    "obj.sum_divided (5,3)"
   ]
  },
  {
   "cell_type": "code",
   "execution_count": 3,
   "id": "a5f4d879",
   "metadata": {},
   "outputs": [],
   "source": [
    "class student:\n",
    "    name = \"uttam\"\n",
    "    rollno = 19351002\n",
    "    dept = \"bca\"\n",
    "    \n",
    "        "
   ]
  },
  {
   "cell_type": "code",
   "execution_count": 5,
   "id": "03c3e5ff",
   "metadata": {},
   "outputs": [],
   "source": [
    "obj = student()"
   ]
  },
  {
   "cell_type": "code",
   "execution_count": 7,
   "id": "c85b19da",
   "metadata": {},
   "outputs": [
    {
     "data": {
      "text/plain": [
       "'uttam'"
      ]
     },
     "execution_count": 7,
     "metadata": {},
     "output_type": "execute_result"
    }
   ],
   "source": [
    "obj.name"
   ]
  },
  {
   "cell_type": "code",
   "execution_count": 8,
   "id": "eaa31a20",
   "metadata": {},
   "outputs": [
    {
     "data": {
      "text/plain": [
       "19351002"
      ]
     },
     "execution_count": 8,
     "metadata": {},
     "output_type": "execute_result"
    }
   ],
   "source": [
    "obj.rollno"
   ]
  },
  {
   "cell_type": "code",
   "execution_count": 9,
   "id": "45efec21",
   "metadata": {},
   "outputs": [
    {
     "data": {
      "text/plain": [
       "'bca'"
      ]
     },
     "execution_count": 9,
     "metadata": {},
     "output_type": "execute_result"
    }
   ],
   "source": [
    "obj.dept"
   ]
  },
  {
   "cell_type": "code",
   "execution_count": 10,
   "id": "a1539732",
   "metadata": {},
   "outputs": [],
   "source": [
    "class collage:\n",
    "    name = \"hits\"\n",
    "    clgid = 33748\n",
    "    clgaddress = \"chennai,padur,603110\""
   ]
  },
  {
   "cell_type": "code",
   "execution_count": 11,
   "id": "c19c448f",
   "metadata": {},
   "outputs": [],
   "source": [
    "obj = collage()"
   ]
  },
  {
   "cell_type": "code",
   "execution_count": 12,
   "id": "b2b0ea19",
   "metadata": {},
   "outputs": [
    {
     "data": {
      "text/plain": [
       "'hits'"
      ]
     },
     "execution_count": 12,
     "metadata": {},
     "output_type": "execute_result"
    }
   ],
   "source": [
    "obj.name"
   ]
  },
  {
   "cell_type": "code",
   "execution_count": 13,
   "id": "7895f348",
   "metadata": {},
   "outputs": [
    {
     "data": {
      "text/plain": [
       "33748"
      ]
     },
     "execution_count": 13,
     "metadata": {},
     "output_type": "execute_result"
    }
   ],
   "source": [
    "obj.clgid"
   ]
  },
  {
   "cell_type": "code",
   "execution_count": 14,
   "id": "f9783461",
   "metadata": {},
   "outputs": [
    {
     "data": {
      "text/plain": [
       "'chennai,padur,603110'"
      ]
     },
     "execution_count": 14,
     "metadata": {},
     "output_type": "execute_result"
    }
   ],
   "source": [
    "obj.clgaddress"
   ]
  },
  {
   "cell_type": "code",
   "execution_count": 22,
   "id": "4e1e2bda",
   "metadata": {},
   "outputs": [],
   "source": [
    "class add:\n",
    "    def sum_functionadd (self,a,b):\n",
    "        sum = a+b\n",
    "        print(sum)"
   ]
  },
  {
   "cell_type": "code",
   "execution_count": 23,
   "id": "6478db0f",
   "metadata": {},
   "outputs": [],
   "source": [
    "obj = add()"
   ]
  },
  {
   "cell_type": "code",
   "execution_count": 25,
   "id": "40d175b2",
   "metadata": {},
   "outputs": [
    {
     "name": "stdout",
     "output_type": "stream",
     "text": [
      "4\n"
     ]
    }
   ],
   "source": [
    "obj.sum_functionadd (2,2)"
   ]
  },
  {
   "cell_type": "code",
   "execution_count": 5,
   "id": "0445d04b",
   "metadata": {},
   "outputs": [],
   "source": [
    "class multiple:\n",
    "    def x(self,c,d):\n",
    "        sum  = c*d\n",
    "        print(sum)"
   ]
  },
  {
   "cell_type": "code",
   "execution_count": 6,
   "id": "b97e0102",
   "metadata": {},
   "outputs": [],
   "source": [
    "obj = multiple()"
   ]
  },
  {
   "cell_type": "code",
   "execution_count": 7,
   "id": "9a145a38",
   "metadata": {},
   "outputs": [
    {
     "name": "stdout",
     "output_type": "stream",
     "text": [
      "9\n"
     ]
    }
   ],
   "source": [
    "obj.x(3,3)"
   ]
  },
  {
   "cell_type": "code",
   "execution_count": 43,
   "id": "3621963e",
   "metadata": {},
   "outputs": [],
   "source": [
    "class collage:\n",
    "    name = \"hindustan\"\n",
    "    clgid = 33748\n",
    "    clgaddress = \"chennai,padur,603110\"\n",
    "    \n",
    "    def collage(self,name = \"hindustan\"):\n",
    "        self.name = name\n",
    "        print(name+\" \"+\"university\")"
   ]
  },
  {
   "cell_type": "code",
   "execution_count": null,
   "id": "366c7b71",
   "metadata": {},
   "outputs": [],
   "source": [
    "\n",
    "    "
   ]
  },
  {
   "cell_type": "code",
   "execution_count": 44,
   "id": "8bbcd11c",
   "metadata": {},
   "outputs": [],
   "source": [
    "obj1 = collage()"
   ]
  },
  {
   "cell_type": "code",
   "execution_count": 45,
   "id": "78d87791",
   "metadata": {},
   "outputs": [
    {
     "data": {
      "text/plain": [
       "'chennai,padur,603110'"
      ]
     },
     "execution_count": 45,
     "metadata": {},
     "output_type": "execute_result"
    }
   ],
   "source": [
    "obj1.clgaddress"
   ]
  },
  {
   "cell_type": "code",
   "execution_count": 46,
   "id": "424d539f",
   "metadata": {},
   "outputs": [
    {
     "data": {
      "text/plain": [
       "<bound method collage.collage of <__main__.collage object at 0x0000026CC83612E0>>"
      ]
     },
     "execution_count": 46,
     "metadata": {},
     "output_type": "execute_result"
    }
   ],
   "source": [
    "obj1.collage"
   ]
  },
  {
   "cell_type": "code",
   "execution_count": 47,
   "id": "187d67e0",
   "metadata": {},
   "outputs": [
    {
     "data": {
      "text/plain": [
       "'hindustan'"
      ]
     },
     "execution_count": 47,
     "metadata": {},
     "output_type": "execute_result"
    }
   ],
   "source": [
    "obj1.name"
   ]
  },
  {
   "cell_type": "code",
   "execution_count": 50,
   "id": "621e2120",
   "metadata": {},
   "outputs": [
    {
     "name": "stdout",
     "output_type": "stream",
     "text": [
      "hindustan university\n"
     ]
    }
   ],
   "source": [
    "obj1.collage()"
   ]
  },
  {
   "cell_type": "code",
   "execution_count": 75,
   "id": "6ae54baa",
   "metadata": {},
   "outputs": [],
   "source": [
    "class bike:\n",
    "    name = \"pulser\"\n",
    "    serialno  = \"bdg563353\"\n",
    "    brand = \"bajaj\"\n",
    "    def bike(self,name = \"pulser\"):\n",
    "        self.name = name\n",
    "        print(name+\" \"+\"150 twin disk\")\n",
    "    \n",
    "    "
   ]
  },
  {
   "cell_type": "code",
   "execution_count": 76,
   "id": "0e05a149",
   "metadata": {},
   "outputs": [],
   "source": [
    "obj = bike()"
   ]
  },
  {
   "cell_type": "code",
   "execution_count": 77,
   "id": "dc8fa6c5",
   "metadata": {},
   "outputs": [
    {
     "data": {
      "text/plain": [
       "'pulser'"
      ]
     },
     "execution_count": 77,
     "metadata": {},
     "output_type": "execute_result"
    }
   ],
   "source": [
    "obj.name"
   ]
  },
  {
   "cell_type": "code",
   "execution_count": 78,
   "id": "da4bb5c4",
   "metadata": {},
   "outputs": [
    {
     "name": "stdout",
     "output_type": "stream",
     "text": [
      "pulser 150 twin disk\n"
     ]
    }
   ],
   "source": [
    "obj.bike()"
   ]
  },
  {
   "cell_type": "code",
   "execution_count": 79,
   "id": "dbc24093",
   "metadata": {},
   "outputs": [
    {
     "data": {
      "text/plain": [
       "'bdg563353'"
      ]
     },
     "execution_count": 79,
     "metadata": {},
     "output_type": "execute_result"
    }
   ],
   "source": [
    "obj.serialno"
   ]
  },
  {
   "cell_type": "code",
   "execution_count": 1,
   "id": "92f305e7",
   "metadata": {},
   "outputs": [],
   "source": [
    "class bike:\n",
    "       \n",
    "    def bike1(self,name = \"fz\",serial = \"bdgrty2345\",brand = \"hero\"):\n",
    "        self.name = name\n",
    "        self.serial = serial\n",
    "        self.brand = brand\n",
    "        print(name+\" \"+\"150 twin disk\",\"\\nserial no: \",serial,\"\\nBrand: \", brand)\n",
    "        print(brand + \"honda\")\n",
    "            \n",
    "    def bike2(self,name = \"pulser\",serial = \"bdgrty2345\",brand = \"bajaj\"):\n",
    "        self.name = name\n",
    "        self.serial = serial\n",
    "        self.brand = brand\n",
    "        print(name+\" \"+\"150 twin disk\",\"\\nserial no: \",serial,\"\\nBrand: \", brand)"
   ]
  },
  {
   "cell_type": "code",
   "execution_count": 2,
   "id": "b8a8442c",
   "metadata": {},
   "outputs": [],
   "source": [
    "obj2 = bike()"
   ]
  },
  {
   "cell_type": "code",
   "execution_count": 3,
   "id": "7fce4402",
   "metadata": {},
   "outputs": [
    {
     "name": "stdout",
     "output_type": "stream",
     "text": [
      "fz 150 twin disk \n",
      "serial no:  bdgrty2345 \n",
      "Brand:  hero\n",
      "herohonda\n"
     ]
    }
   ],
   "source": [
    "obj2.bike1()"
   ]
  },
  {
   "cell_type": "code",
   "execution_count": 92,
   "id": "f80b8c9d",
   "metadata": {},
   "outputs": [
    {
     "name": "stdout",
     "output_type": "stream",
     "text": [
      "pulser 150 twin disk \n",
      "serial no:  bdgrty2345 \n",
      "Brand:  bajaj\n"
     ]
    }
   ],
   "source": [
    "obj2.bike2()"
   ]
  },
  {
   "cell_type": "code",
   "execution_count": 93,
   "id": "aee01bde",
   "metadata": {},
   "outputs": [
    {
     "data": {
      "text/plain": [
       "'bdgrty2345'"
      ]
     },
     "execution_count": 93,
     "metadata": {},
     "output_type": "execute_result"
    }
   ],
   "source": [
    "obj2.serial"
   ]
  },
  {
   "cell_type": "code",
   "execution_count": 94,
   "id": "c274cbea",
   "metadata": {},
   "outputs": [
    {
     "data": {
      "text/plain": [
       "'bajaj'"
      ]
     },
     "execution_count": 94,
     "metadata": {},
     "output_type": "execute_result"
    }
   ],
   "source": [
    "obj2.brand"
   ]
  },
  {
   "cell_type": "code",
   "execution_count": 96,
   "id": "a557b9b5",
   "metadata": {},
   "outputs": [
    {
     "data": {
      "text/plain": [
       "'pulser'"
      ]
     },
     "execution_count": 96,
     "metadata": {},
     "output_type": "execute_result"
    }
   ],
   "source": [
    "obj2.name\n"
   ]
  },
  {
   "cell_type": "code",
   "execution_count": null,
   "id": "228f2a05",
   "metadata": {},
   "outputs": [],
   "source": [
    "class zoo:\n",
    "    def animal1(self,name = \"lion\",gender = \"male\",aid = \"lione212\"):\n",
    "        self.name = name\n",
    "        self.gender = gender\n",
    "        self.aid = aid"
   ]
  },
  {
   "cell_type": "code",
   "execution_count": 101,
   "id": "eaf5ad83",
   "metadata": {},
   "outputs": [
    {
     "name": "stdout",
     "output_type": "stream",
     "text": [
      "fz 150 twin disk \n",
      "serial no:  bdgrty2345 \n",
      "Brand:  hero\n",
      "herohonda\n"
     ]
    }
   ],
   "source": [
    "obj2.bike1()"
   ]
  },
  {
   "cell_type": "code",
   "execution_count": null,
   "id": "ad08891f",
   "metadata": {},
   "outputs": [],
   "source": []
  },
  {
   "cell_type": "code",
   "execution_count": null,
   "id": "9bad4d91",
   "metadata": {},
   "outputs": [],
   "source": []
  },
  {
   "cell_type": "code",
   "execution_count": null,
   "id": "3d4b8bd0",
   "metadata": {},
   "outputs": [],
   "source": []
  },
  {
   "cell_type": "code",
   "execution_count": 97,
   "id": "4e86eeb8",
   "metadata": {},
   "outputs": [
    {
     "name": "stdout",
     "output_type": "stream",
     "text": [
      "fz 150 twin disk \n",
      "serial no:  bdgrty2345 \n",
      "Brand:  honda\n"
     ]
    }
   ],
   "source": [
    "obj2.bike1(brand = \"honda\")"
   ]
  },
  {
   "cell_type": "code",
   "execution_count": null,
   "id": "2cf27ec9",
   "metadata": {},
   "outputs": [],
   "source": []
  },
  {
   "cell_type": "code",
   "execution_count": 1,
   "id": "a79e0ecb",
   "metadata": {},
   "outputs": [],
   "source": [
    "class bike:\n",
    "       \n",
    "    def bike1(self,name = \"fz\",serial = \"bdgrty2345\",brand = \"yamaha\"):\n",
    "        self.name = name\n",
    "        self.serial = serial\n",
    "        self.brand = brand\n",
    "        print(name+\" \"+\"150 twin disk\",\"\\nserial no: \",serial,\"\\nBrand: \", brand)\n",
    "            \n",
    "    def bike2(self,name = \"pulser\",serial = \"bdgrty2345\",brand = \"bajaj\"):\n",
    "        self.name = name\n",
    "        self.serial = serial\n",
    "        self.brand = brand\n",
    "        print(name+\" \"+\"150 twin disk\",\"\\nserial no: \",serial,\"\\nBrand: \", brand)"
   ]
  },
  {
   "cell_type": "code",
   "execution_count": 80,
   "id": "1e3004f1",
   "metadata": {},
   "outputs": [],
   "source": [
    "obj = bike()"
   ]
  },
  {
   "cell_type": "code",
   "execution_count": 81,
   "id": "13698831",
   "metadata": {},
   "outputs": [
    {
     "name": "stdout",
     "output_type": "stream",
     "text": [
      "fz 150 twin disk \n",
      "serial no:  bdgrty2345 \n",
      "Brand:  yamaha\n"
     ]
    }
   ],
   "source": [
    "obj.bike1()"
   ]
  },
  {
   "cell_type": "code",
   "execution_count": 82,
   "id": "2986cb80",
   "metadata": {},
   "outputs": [
    {
     "name": "stdout",
     "output_type": "stream",
     "text": [
      "pulser 150 twin disk \n",
      "serial no:  bdgrty2345 \n",
      "Brand:  bajaj\n"
     ]
    }
   ],
   "source": [
    "obj.bike2()"
   ]
  },
  {
   "cell_type": "code",
   "execution_count": 83,
   "id": "9100ab27",
   "metadata": {},
   "outputs": [],
   "source": [
    "class htop:\n",
    "    \n",
    "    def student(self,name = \"ramesh\",id = 3844747,course = \"python\"):\n",
    "        \n",
    "        self.name = name\n",
    "        self.id = id\n",
    "        self.course = \"python\"\n",
    "        return(\"\\n name:\",name,\"\\n id:\",id,\"\\n course:\",course)"
   ]
  },
  {
   "cell_type": "code",
   "execution_count": 84,
   "id": "495007da",
   "metadata": {},
   "outputs": [],
   "source": [
    "obj = htop()"
   ]
  },
  {
   "cell_type": "code",
   "execution_count": 24,
   "id": "de692551",
   "metadata": {},
   "outputs": [],
   "source": [
    "obj = htop()"
   ]
  },
  {
   "cell_type": "code",
   "execution_count": 86,
   "id": "72a980cc",
   "metadata": {},
   "outputs": [],
   "source": [
    "class htop:\n",
    "\n",
    "    name = \"ramesh\"\n",
    "    id = 3844747\n",
    "    course = \"python\"\n",
    "        \n",
    "        "
   ]
  },
  {
   "cell_type": "code",
   "execution_count": 87,
   "id": "767067c6",
   "metadata": {},
   "outputs": [],
   "source": [
    "obj = htop"
   ]
  },
  {
   "cell_type": "code",
   "execution_count": 88,
   "id": "78742dea",
   "metadata": {},
   "outputs": [
    {
     "data": {
      "text/plain": [
       "'ramesh'"
      ]
     },
     "execution_count": 88,
     "metadata": {},
     "output_type": "execute_result"
    }
   ],
   "source": [
    "obj.name"
   ]
  },
  {
   "cell_type": "code",
   "execution_count": 89,
   "id": "bcfe628d",
   "metadata": {},
   "outputs": [
    {
     "data": {
      "text/plain": [
       "3844747"
      ]
     },
     "execution_count": 89,
     "metadata": {},
     "output_type": "execute_result"
    }
   ],
   "source": [
    "obj.id"
   ]
  },
  {
   "cell_type": "code",
   "execution_count": 90,
   "id": "8d3eb26f",
   "metadata": {},
   "outputs": [
    {
     "data": {
      "text/plain": [
       "'python'"
      ]
     },
     "execution_count": 90,
     "metadata": {},
     "output_type": "execute_result"
    }
   ],
   "source": [
    "obj.course"
   ]
  },
  {
   "cell_type": "code",
   "execution_count": 91,
   "id": "f4fb0b8c",
   "metadata": {},
   "outputs": [],
   "source": [
    "class htop:\n",
    "\n",
    "    name = \"ramesh\"\n",
    "    id = 3844747\n",
    "    course = \"python\"\n",
    "    \n",
    "    def add():\n",
    "        print(name +\" \"+\"kumar\")\n",
    "        "
   ]
  },
  {
   "cell_type": "code",
   "execution_count": 92,
   "id": "62012257",
   "metadata": {},
   "outputs": [],
   "source": [
    "obj =htop"
   ]
  },
  {
   "cell_type": "code",
   "execution_count": 93,
   "id": "1bf684a2",
   "metadata": {},
   "outputs": [
    {
     "ename": "TypeError",
     "evalue": "'str' object is not callable",
     "output_type": "error",
     "traceback": [
      "\u001b[1;31m---------------------------------------------------------------------------\u001b[0m",
      "\u001b[1;31mTypeError\u001b[0m                                 Traceback (most recent call last)",
      "Input \u001b[1;32mIn [93]\u001b[0m, in \u001b[0;36m<cell line: 1>\u001b[1;34m()\u001b[0m\n\u001b[1;32m----> 1\u001b[0m \u001b[43mobj\u001b[49m\u001b[38;5;241;43m.\u001b[39;49m\u001b[43mname\u001b[49m\u001b[43m(\u001b[49m\u001b[38;5;124;43m\"\u001b[39;49m\u001b[38;5;124;43mkumar\u001b[39;49m\u001b[38;5;124;43m\"\u001b[39;49m\u001b[43m)\u001b[49m\n",
      "\u001b[1;31mTypeError\u001b[0m: 'str' object is not callable"
     ]
    }
   ],
   "source": [
    "obj.name(\"kumar\")"
   ]
  },
  {
   "cell_type": "code",
   "execution_count": 94,
   "id": "8558c2f4",
   "metadata": {},
   "outputs": [],
   "source": [
    "class bike:\n",
    "       \n",
    "    def bike1(self,name = \"fz\",serial = \"bdgrty2345\",brand = \"yamaha\"):\n",
    "        self.name = name\n",
    "        self.serial = serial\n",
    "        self.brand = brand\n",
    "        print(name+\" \"+\"150 twin disk\",\"\\nserial no: \",serial,\"\\nBrand: \", brand)\n",
    "            \n",
    "    def bike2(self,name = \"pulser\",serial = \"bdgrty2345\",brand = \"bajaj\"):\n",
    "        self.name = name\n",
    "        self.serial = serial\n",
    "        self.brand = brand\n",
    "        print(name+\" \"+\"150 twin disk\",\"\\nserial no: \",serial,\"\\nBrand: \", brand)"
   ]
  },
  {
   "cell_type": "code",
   "execution_count": 95,
   "id": "a9d1790c",
   "metadata": {},
   "outputs": [],
   "source": [
    "class hindustan:\n",
    "    \n",
    "    def student1(self,name = \"uttam\",id = 19351002,dept = \"bca\"):\n",
    "        self.name = name\n",
    "        self.id = id\n",
    "        self.dept = dept\n",
    "        print(name+\" \"+\"singh\",\"\\n id:\",id,\"\\n dept:\",dept)\n",
    "        \n",
    "    def bike2(self,name = \"pulser\",serial = \"bdgrty2345\",brand = \"bajaj\"):\n",
    "        self.name = name\n",
    "        self.serial = serial\n",
    "        self.brand = brand\n",
    "        print(name+\" \"+\"150 twin disk\",\"\\nserial no: \",serial,\"\\nBrand: \", brand)\n",
    "    \n",
    "        \n",
    "   \n",
    "        "
   ]
  },
  {
   "cell_type": "code",
   "execution_count": 96,
   "id": "9139f7fa",
   "metadata": {},
   "outputs": [],
   "source": [
    "obj = hindustan"
   ]
  },
  {
   "cell_type": "code",
   "execution_count": 99,
   "id": "09e7d950",
   "metadata": {},
   "outputs": [
    {
     "data": {
      "text/plain": [
       "<function __main__.hindustan.bike2(self, name='pulser', serial='bdgrty2345', brand='bajaj')>"
      ]
     },
     "execution_count": 99,
     "metadata": {},
     "output_type": "execute_result"
    }
   ],
   "source": [
    "obj.bike2"
   ]
  },
  {
   "cell_type": "code",
   "execution_count": 38,
   "id": "984921a7",
   "metadata": {},
   "outputs": [
    {
     "ename": "TypeError",
     "evalue": "bike2() missing 1 required positional argument: 'self'",
     "output_type": "error",
     "traceback": [
      "\u001b[1;31m---------------------------------------------------------------------------\u001b[0m",
      "\u001b[1;31mTypeError\u001b[0m                                 Traceback (most recent call last)",
      "Input \u001b[1;32mIn [38]\u001b[0m, in \u001b[0;36m<cell line: 1>\u001b[1;34m()\u001b[0m\n\u001b[1;32m----> 1\u001b[0m \u001b[43mobj\u001b[49m\u001b[38;5;241;43m.\u001b[39;49m\u001b[43mbike2\u001b[49m\u001b[43m(\u001b[49m\u001b[43m)\u001b[49m\n",
      "\u001b[1;31mTypeError\u001b[0m: bike2() missing 1 required positional argument: 'self'"
     ]
    }
   ],
   "source": [
    "obj.bike2()"
   ]
  },
  {
   "cell_type": "code",
   "execution_count": 35,
   "id": "e447ac11",
   "metadata": {},
   "outputs": [],
   "source": [
    "class bike:\n",
    "       \n",
    "    def bike1(self,name = \"fz\",serial = \"bdgrty2345\",brand = \"yamaha\"):\n",
    "        self.name = name\n",
    "        self.serial = serial\n",
    "        self.brand = brand\n",
    "        print(name+\" \"+\"150 twin disk\",\"\\nserial no: \",serial,\"\\nBrand: \", brand)\n",
    "            \n",
    "    def bike2(self,name = \"pulser\",serial = \"bdgrty2345\",brand = \"bajaj\"):\n",
    "        self.name = name\n",
    "        self.serial = serial\n",
    "        self.brand = brand\n",
    "        print(name+\" \"+\"150 twin disk\",\"\\nserial no: \",serial,\"\\nBrand: \", brand)"
   ]
  },
  {
   "cell_type": "code",
   "execution_count": 36,
   "id": "533c48b6",
   "metadata": {},
   "outputs": [],
   "source": [
    "obj = bike"
   ]
  },
  {
   "cell_type": "code",
   "execution_count": 37,
   "id": "b049b7d2",
   "metadata": {},
   "outputs": [
    {
     "ename": "TypeError",
     "evalue": "bike1() missing 1 required positional argument: 'self'",
     "output_type": "error",
     "traceback": [
      "\u001b[1;31m---------------------------------------------------------------------------\u001b[0m",
      "\u001b[1;31mTypeError\u001b[0m                                 Traceback (most recent call last)",
      "Input \u001b[1;32mIn [37]\u001b[0m, in \u001b[0;36m<cell line: 1>\u001b[1;34m()\u001b[0m\n\u001b[1;32m----> 1\u001b[0m \u001b[43mobj\u001b[49m\u001b[38;5;241;43m.\u001b[39;49m\u001b[43mbike1\u001b[49m\u001b[43m(\u001b[49m\u001b[43m)\u001b[49m\n",
      "\u001b[1;31mTypeError\u001b[0m: bike1() missing 1 required positional argument: 'self'"
     ]
    }
   ],
   "source": [
    "obj.bike1()"
   ]
  },
  {
   "cell_type": "code",
   "execution_count": 10,
   "id": "eb8a4c88",
   "metadata": {},
   "outputs": [],
   "source": [
    "class htop:\n",
    "\n",
    "    name = \"ramesh\",\"ram\",\"alan\"\n",
    "    id = 3844747\n",
    "    course = \"python\"\n",
    "def htop(*student):\n",
    "    print(\"older student is:\"+\" \"+student[2])\n",
    "    \n"
   ]
  },
  {
   "cell_type": "code",
   "execution_count": 11,
   "id": "5bf7e719",
   "metadata": {},
   "outputs": [
    {
     "name": "stdout",
     "output_type": "stream",
     "text": [
      "older student is: alan\n"
     ]
    }
   ],
   "source": [
    "htop(\"ramesh\",\"ram\",\"alan\")"
   ]
  },
  {
   "cell_type": "code",
   "execution_count": null,
   "id": "d880adad",
   "metadata": {},
   "outputs": [],
   "source": []
  },
  {
   "cell_type": "code",
   "execution_count": 20,
   "id": "a72a207d",
   "metadata": {},
   "outputs": [
    {
     "ename": "NameError",
     "evalue": "name 'self' is not defined",
     "output_type": "error",
     "traceback": [
      "\u001b[1;31m---------------------------------------------------------------------------\u001b[0m",
      "\u001b[1;31mNameError\u001b[0m                                 Traceback (most recent call last)",
      "Input \u001b[1;32mIn [20]\u001b[0m, in \u001b[0;36m<cell line: 1>\u001b[1;34m()\u001b[0m\n\u001b[1;32m----> 1\u001b[0m \u001b[38;5;28;01mclass\u001b[39;00m \u001b[38;5;21;01mhtop\u001b[39;00m:\n\u001b[0;32m      2\u001b[0m     name  \u001b[38;5;241m=\u001b[39m (\u001b[38;5;28mself\u001b[39m,\u001b[38;5;124m\"\u001b[39m\u001b[38;5;124malan\u001b[39m\u001b[38;5;124m\"\u001b[39m,\u001b[38;5;124m\"\u001b[39m\u001b[38;5;124mram\u001b[39m\u001b[38;5;124m\"\u001b[39m,\u001b[38;5;124m\"\u001b[39m\u001b[38;5;124mtom\u001b[39m\u001b[38;5;124m\"\u001b[39m)\n\u001b[0;32m      3\u001b[0m     \u001b[38;5;28mself\u001b[39m\u001b[38;5;241m.\u001b[39mname \u001b[38;5;241m=\u001b[39m name\n",
      "Input \u001b[1;32mIn [20]\u001b[0m, in \u001b[0;36mhtop\u001b[1;34m()\u001b[0m\n\u001b[0;32m      1\u001b[0m \u001b[38;5;28;01mclass\u001b[39;00m \u001b[38;5;21;01mhtop\u001b[39;00m:\n\u001b[1;32m----> 2\u001b[0m     name  \u001b[38;5;241m=\u001b[39m (\u001b[38;5;28;43mself\u001b[39;49m,\u001b[38;5;124m\"\u001b[39m\u001b[38;5;124malan\u001b[39m\u001b[38;5;124m\"\u001b[39m,\u001b[38;5;124m\"\u001b[39m\u001b[38;5;124mram\u001b[39m\u001b[38;5;124m\"\u001b[39m,\u001b[38;5;124m\"\u001b[39m\u001b[38;5;124mtom\u001b[39m\u001b[38;5;124m\"\u001b[39m)\n\u001b[0;32m      3\u001b[0m     \u001b[38;5;28mself\u001b[39m\u001b[38;5;241m.\u001b[39mname \u001b[38;5;241m=\u001b[39m name\n\u001b[0;32m      5\u001b[0m     \u001b[38;5;28;01mdef\u001b[39;00m \u001b[38;5;21mhtop\u001b[39m(\u001b[38;5;241m*\u001b[39mstudent):\n",
      "\u001b[1;31mNameError\u001b[0m: name 'self' is not defined"
     ]
    }
   ],
   "source": [
    "class htop:\n",
    "    name  = (self,\"alan\",\"ram\",\"tom\")\n",
    "    self.name = name\n",
    "    \n",
    "    def htop(*student):\n",
    "        print(\"older student is:\"+\" \"+student[1])\n",
    "        \n",
    "    "
   ]
  },
  {
   "cell_type": "code",
   "execution_count": 16,
   "id": "458c5ae8",
   "metadata": {},
   "outputs": [],
   "source": [
    "obj = htop"
   ]
  },
  {
   "cell_type": "code",
   "execution_count": 15,
   "id": "42c87295",
   "metadata": {},
   "outputs": [
    {
     "ename": "AttributeError",
     "evalue": "type object 'htop' has no attribute 'student'",
     "output_type": "error",
     "traceback": [
      "\u001b[1;31m---------------------------------------------------------------------------\u001b[0m",
      "\u001b[1;31mAttributeError\u001b[0m                            Traceback (most recent call last)",
      "Input \u001b[1;32mIn [15]\u001b[0m, in \u001b[0;36m<cell line: 1>\u001b[1;34m()\u001b[0m\n\u001b[1;32m----> 1\u001b[0m \u001b[43mobj\u001b[49m\u001b[38;5;241;43m.\u001b[39;49m\u001b[43mstudent\u001b[49m()\n",
      "\u001b[1;31mAttributeError\u001b[0m: type object 'htop' has no attribute 'student'"
     ]
    }
   ],
   "source": [
    "\n",
    "obj.student()"
   ]
  },
  {
   "cell_type": "code",
   "execution_count": 26,
   "id": "a4d5795a",
   "metadata": {},
   "outputs": [],
   "source": [
    "class hindustan:\n",
    "    \n",
    "    def student1(self,name = \"uttam\",id = 19351002,dept = \"bca\"):\n",
    "        self.name = name\n",
    "        self.id = id\n",
    "        self.dept = dept\n",
    "        print(name+\" \"+\"singh\",\"\\n id:\",id,\"\\n dept:\",dept)\n",
    "        \n",
    "    def bike2(self,name = \"pulser\",serial = \"bdgrty2345\",brand = \"bajaj\"):\n",
    "        self.name = name\n",
    "        self.serial = serial\n",
    "        self.brand = brand\n",
    "        print(name+\" \"+\"150 twin disk\",\"\\nserial no: \",serial,\"\\nBrand: \", brand)"
   ]
  },
  {
   "cell_type": "code",
   "execution_count": 28,
   "id": "c5f84512",
   "metadata": {},
   "outputs": [],
   "source": [
    "obj = hindustan()"
   ]
  },
  {
   "cell_type": "code",
   "execution_count": 31,
   "id": "bb1b7548",
   "metadata": {},
   "outputs": [
    {
     "name": "stdout",
     "output_type": "stream",
     "text": [
      "uttam singh \n",
      " id: 19351002 \n",
      " dept: bca\n"
     ]
    }
   ],
   "source": [
    "obj.student1()"
   ]
  },
  {
   "cell_type": "code",
   "execution_count": 33,
   "id": "6982c03c",
   "metadata": {},
   "outputs": [
    {
     "name": "stdout",
     "output_type": "stream",
     "text": [
      "pulser 150 twin disk \n",
      "serial no:  bdgrty2345 \n",
      "Brand:  bajaj\n"
     ]
    }
   ],
   "source": [
    "obj.bike2()"
   ]
  },
  {
   "cell_type": "code",
   "execution_count": 44,
   "id": "95fa74d7",
   "metadata": {},
   "outputs": [],
   "source": [
    "class dog:\n",
    "    def __inti__(self,color):\n",
    "        self.color = color"
   ]
  },
  {
   "cell_type": "code",
   "execution_count": 46,
   "id": "21e2bc74",
   "metadata": {},
   "outputs": [
    {
     "ename": "TypeError",
     "evalue": "dog() takes no arguments",
     "output_type": "error",
     "traceback": [
      "\u001b[1;31m---------------------------------------------------------------------------\u001b[0m",
      "\u001b[1;31mTypeError\u001b[0m                                 Traceback (most recent call last)",
      "Input \u001b[1;32mIn [46]\u001b[0m, in \u001b[0;36m<cell line: 1>\u001b[1;34m()\u001b[0m\n\u001b[1;32m----> 1\u001b[0m obj \u001b[38;5;241m=\u001b[39m \u001b[43mdog\u001b[49m\u001b[43m(\u001b[49m\u001b[38;5;124;43m\"\u001b[39;49m\u001b[38;5;124;43mblack\u001b[39;49m\u001b[38;5;124;43m\"\u001b[39;49m\u001b[43m)\u001b[49m\n",
      "\u001b[1;31mTypeError\u001b[0m: dog() takes no arguments"
     ]
    }
   ],
   "source": [
    "obj = dog(\"black\")"
   ]
  },
  {
   "cell_type": "code",
   "execution_count": 54,
   "id": "91c58c95",
   "metadata": {},
   "outputs": [],
   "source": [
    "class dog:\n",
    "    def __init__(self,color):\n",
    "        self.color = color\n",
    "        \n",
    "obj = dog(\"black\")"
   ]
  },
  {
   "cell_type": "code",
   "execution_count": 55,
   "id": "250ea5b6",
   "metadata": {},
   "outputs": [
    {
     "data": {
      "text/plain": [
       "'black'"
      ]
     },
     "execution_count": 55,
     "metadata": {},
     "output_type": "execute_result"
    }
   ],
   "source": [
    "obj.color"
   ]
  },
  {
   "cell_type": "code",
   "execution_count": 57,
   "id": "c31df21e",
   "metadata": {},
   "outputs": [],
   "source": [
    "obj = dog(\"white\")"
   ]
  },
  {
   "cell_type": "code",
   "execution_count": 58,
   "id": "ae760971",
   "metadata": {},
   "outputs": [
    {
     "data": {
      "text/plain": [
       "'white'"
      ]
     },
     "execution_count": 58,
     "metadata": {},
     "output_type": "execute_result"
    }
   ],
   "source": [
    "obj.color"
   ]
  },
  {
   "cell_type": "code",
   "execution_count": 61,
   "id": "8a9debbe",
   "metadata": {},
   "outputs": [],
   "source": [
    "class dog:\n",
    "    def __init__(self,color,age):\n",
    "        self.color = color\n",
    "        self.age = age\n",
    "        \n"
   ]
  },
  {
   "cell_type": "code",
   "execution_count": 65,
   "id": "ca974789",
   "metadata": {},
   "outputs": [],
   "source": [
    "obj = dog(\"black\",2)\n"
   ]
  },
  {
   "cell_type": "code",
   "execution_count": 66,
   "id": "f6c7cc92",
   "metadata": {},
   "outputs": [
    {
     "data": {
      "text/plain": [
       "'black'"
      ]
     },
     "execution_count": 66,
     "metadata": {},
     "output_type": "execute_result"
    }
   ],
   "source": [
    "obj.color"
   ]
  },
  {
   "cell_type": "code",
   "execution_count": 67,
   "id": "0c1546fe",
   "metadata": {},
   "outputs": [
    {
     "data": {
      "text/plain": [
       "2"
      ]
     },
     "execution_count": 67,
     "metadata": {},
     "output_type": "execute_result"
    }
   ],
   "source": [
    "obj.age"
   ]
  },
  {
   "cell_type": "code",
   "execution_count": 68,
   "id": "a95ef5f3",
   "metadata": {},
   "outputs": [],
   "source": [
    "class dog:\n",
    "    def __init__(self,color,age,name):\n",
    "        self.color = color\n",
    "        self.age = age\n",
    "        self.name = name"
   ]
  },
  {
   "cell_type": "code",
   "execution_count": 69,
   "id": "1f486c35",
   "metadata": {},
   "outputs": [],
   "source": [
    "obj = dog(\"white and black\",2,\"mani\")"
   ]
  },
  {
   "cell_type": "code",
   "execution_count": 70,
   "id": "82fa78d6",
   "metadata": {},
   "outputs": [
    {
     "data": {
      "text/plain": [
       "'white and black'"
      ]
     },
     "execution_count": 70,
     "metadata": {},
     "output_type": "execute_result"
    }
   ],
   "source": [
    "obj.color"
   ]
  },
  {
   "cell_type": "code",
   "execution_count": 71,
   "id": "17f145fa",
   "metadata": {},
   "outputs": [
    {
     "data": {
      "text/plain": [
       "2"
      ]
     },
     "execution_count": 71,
     "metadata": {},
     "output_type": "execute_result"
    }
   ],
   "source": [
    "obj.age"
   ]
  },
  {
   "cell_type": "code",
   "execution_count": 72,
   "id": "c737d936",
   "metadata": {},
   "outputs": [
    {
     "data": {
      "text/plain": [
       "'mani'"
      ]
     },
     "execution_count": 72,
     "metadata": {},
     "output_type": "execute_result"
    }
   ],
   "source": [
    "obj.name"
   ]
  },
  {
   "cell_type": "code",
   "execution_count": 73,
   "id": "0be29e6e",
   "metadata": {},
   "outputs": [],
   "source": [
    "obj = dog(\"brown\",4,\"rocky\")"
   ]
  },
  {
   "cell_type": "code",
   "execution_count": 75,
   "id": "99e2a367",
   "metadata": {},
   "outputs": [
    {
     "data": {
      "text/plain": [
       "'rocky'"
      ]
     },
     "execution_count": 75,
     "metadata": {},
     "output_type": "execute_result"
    }
   ],
   "source": [
    "obj.name"
   ]
  },
  {
   "cell_type": "code",
   "execution_count": 76,
   "id": "fb86f73e",
   "metadata": {},
   "outputs": [
    {
     "data": {
      "text/plain": [
       "4"
      ]
     },
     "execution_count": 76,
     "metadata": {},
     "output_type": "execute_result"
    }
   ],
   "source": [
    "obj.age"
   ]
  },
  {
   "cell_type": "code",
   "execution_count": 92,
   "id": "92cb12b5",
   "metadata": {},
   "outputs": [],
   "source": [
    "class dog:\n",
    "    def __init__(self,color,age,name):\n",
    "        self.color = color\n",
    "        self.age = age\n",
    "        self.name = name\n",
    "        \n",
    "    def display(self):\n",
    "            print(\"dog color:%s \\n dog age:%s \\n dog name: %s\"%(self.color,self.age,self.name))"
   ]
  },
  {
   "cell_type": "code",
   "execution_count": 93,
   "id": "3b2678df",
   "metadata": {},
   "outputs": [],
   "source": [
    "obj = dog(\"brown\",4,\"rocky\")"
   ]
  },
  {
   "cell_type": "code",
   "execution_count": 94,
   "id": "36a6c84e",
   "metadata": {},
   "outputs": [
    {
     "data": {
      "text/plain": [
       "'brown'"
      ]
     },
     "execution_count": 94,
     "metadata": {},
     "output_type": "execute_result"
    }
   ],
   "source": [
    "obj.color"
   ]
  },
  {
   "cell_type": "code",
   "execution_count": 95,
   "id": "e6f58304",
   "metadata": {},
   "outputs": [
    {
     "data": {
      "text/plain": [
       "'rocky'"
      ]
     },
     "execution_count": 95,
     "metadata": {},
     "output_type": "execute_result"
    }
   ],
   "source": [
    "obj.name"
   ]
  },
  {
   "cell_type": "code",
   "execution_count": 96,
   "id": "3d50503e",
   "metadata": {},
   "outputs": [
    {
     "name": "stdout",
     "output_type": "stream",
     "text": [
      "dog color:brown \n",
      " dog age:4 \n",
      " dog name: rocky\n"
     ]
    }
   ],
   "source": [
    "obj.display()"
   ]
  },
  {
   "cell_type": "code",
   "execution_count": 97,
   "id": "dbbf0fc6",
   "metadata": {},
   "outputs": [],
   "source": [
    "class dog:\n",
    "    def __init__(self,color = \"white\",age = 4,name = \"tom\"):\n",
    "        self.color = color\n",
    "        self.age = age\n",
    "        self.name = name\n",
    "        \n",
    "    def display(self):\n",
    "            print(\"dog color:%s \\n dog age:%s \\n dog name: %s\"%(self.color,self.age,self.name))"
   ]
  },
  {
   "cell_type": "code",
   "execution_count": 98,
   "id": "dfd84d81",
   "metadata": {},
   "outputs": [],
   "source": [
    "obj = dog()"
   ]
  },
  {
   "cell_type": "code",
   "execution_count": 99,
   "id": "3d29da73",
   "metadata": {},
   "outputs": [
    {
     "data": {
      "text/plain": [
       "4"
      ]
     },
     "execution_count": 99,
     "metadata": {},
     "output_type": "execute_result"
    }
   ],
   "source": [
    "obj.age"
   ]
  },
  {
   "cell_type": "code",
   "execution_count": 100,
   "id": "18fff82a",
   "metadata": {},
   "outputs": [
    {
     "data": {
      "text/plain": [
       "'white'"
      ]
     },
     "execution_count": 100,
     "metadata": {},
     "output_type": "execute_result"
    }
   ],
   "source": [
    "obj.color"
   ]
  },
  {
   "cell_type": "code",
   "execution_count": 101,
   "id": "63bef8fc",
   "metadata": {},
   "outputs": [
    {
     "data": {
      "text/plain": [
       "'tom'"
      ]
     },
     "execution_count": 101,
     "metadata": {},
     "output_type": "execute_result"
    }
   ],
   "source": [
    "obj.name"
   ]
  },
  {
   "cell_type": "code",
   "execution_count": 103,
   "id": "c3007c09",
   "metadata": {},
   "outputs": [
    {
     "name": "stdout",
     "output_type": "stream",
     "text": [
      "dog color:white \n",
      " dog age:4 \n",
      " dog name: tom\n"
     ]
    }
   ],
   "source": [
    "obj.display()"
   ]
  },
  {
   "cell_type": "code",
   "execution_count": 105,
   "id": "744ab571",
   "metadata": {},
   "outputs": [],
   "source": [
    "obj = dog(\"black and brown\",5,\"jeery\")"
   ]
  },
  {
   "cell_type": "code",
   "execution_count": 106,
   "id": "8793782e",
   "metadata": {},
   "outputs": [
    {
     "data": {
      "text/plain": [
       "5"
      ]
     },
     "execution_count": 106,
     "metadata": {},
     "output_type": "execute_result"
    }
   ],
   "source": [
    "obj.age"
   ]
  },
  {
   "cell_type": "code",
   "execution_count": 107,
   "id": "76ac4e84",
   "metadata": {},
   "outputs": [
    {
     "name": "stdout",
     "output_type": "stream",
     "text": [
      "dog color:black and brown \n",
      " dog age:5 \n",
      " dog name: jeery\n"
     ]
    }
   ],
   "source": [
    "obj.display()"
   ]
  },
  {
   "cell_type": "code",
   "execution_count": 125,
   "id": "3ba1d125",
   "metadata": {},
   "outputs": [],
   "source": [
    "class employee:\n",
    "    def __init__(self):\n",
    "        self.ename = \"sanju\"\n",
    "        self.eage = 40\n",
    "        self.esalary = 40000\n",
    "    \n",
    "    def disp(self):\n",
    "        \n",
    "        print(\"employeename:%s \\nemployeeage:%s \\nempsalary:%s\"%(self.ename,self.eage,self.esalary))"
   ]
  },
  {
   "cell_type": "code",
   "execution_count": 126,
   "id": "cf93a1f5",
   "metadata": {},
   "outputs": [],
   "source": [
    "obj=employee()"
   ]
  },
  {
   "cell_type": "code",
   "execution_count": 128,
   "id": "8799c074",
   "metadata": {},
   "outputs": [
    {
     "name": "stdout",
     "output_type": "stream",
     "text": [
      "employeename:sanju \n",
      "employeeage:40 \n",
      "empsalary:40000\n"
     ]
    }
   ],
   "source": [
    "obj.disp()"
   ]
  },
  {
   "cell_type": "code",
   "execution_count": 129,
   "id": "06876889",
   "metadata": {},
   "outputs": [
    {
     "data": {
      "text/plain": [
       "40"
      ]
     },
     "execution_count": 129,
     "metadata": {},
     "output_type": "execute_result"
    }
   ],
   "source": [
    "obj.eage"
   ]
  },
  {
   "cell_type": "code",
   "execution_count": 3,
   "id": "932174aa",
   "metadata": {},
   "outputs": [],
   "source": [
    "class student:\n",
    "    def __init__(self,name,age,salary):\n",
    "        self.name = name\n",
    "        self.age = age \n",
    "        self.salary = salary\n",
    "        "
   ]
  },
  {
   "cell_type": "code",
   "execution_count": 9,
   "id": "f545082b",
   "metadata": {},
   "outputs": [],
   "source": [
    "obj = student(\"ram\",21,36454)"
   ]
  },
  {
   "cell_type": "code",
   "execution_count": 10,
   "id": "527a9a3d",
   "metadata": {},
   "outputs": [
    {
     "data": {
      "text/plain": [
       "'ram'"
      ]
     },
     "execution_count": 10,
     "metadata": {},
     "output_type": "execute_result"
    }
   ],
   "source": [
    "obj.name"
   ]
  },
  {
   "cell_type": "code",
   "execution_count": 11,
   "id": "a7913abd",
   "metadata": {},
   "outputs": [
    {
     "data": {
      "text/plain": [
       "36454"
      ]
     },
     "execution_count": 11,
     "metadata": {},
     "output_type": "execute_result"
    }
   ],
   "source": [
    "obj.salary"
   ]
  },
  {
   "cell_type": "code",
   "execution_count": 12,
   "id": "410d50a0",
   "metadata": {},
   "outputs": [
    {
     "data": {
      "text/plain": [
       "21"
      ]
     },
     "execution_count": 12,
     "metadata": {},
     "output_type": "execute_result"
    }
   ],
   "source": [
    "obj.age"
   ]
  },
  {
   "cell_type": "code",
   "execution_count": 17,
   "id": "54058b55",
   "metadata": {},
   "outputs": [],
   "source": [
    "class htop:\n",
    "    def __init__(self,course,student_name,course_durations,fees):\n",
    "        self.course = course\n",
    "        self.student_name = student_name\n",
    "        self.course_durations = course_durations\n",
    "        self.fees = fees\n",
    "        "
   ]
  },
  {
   "cell_type": "code",
   "execution_count": 18,
   "id": "27a5858c",
   "metadata": {},
   "outputs": [],
   "source": [
    "obj = htop(\"python \",\"ramesh\",\"3 month\",10000)"
   ]
  },
  {
   "cell_type": "code",
   "execution_count": 19,
   "id": "193c6dbd",
   "metadata": {},
   "outputs": [
    {
     "data": {
      "text/plain": [
       "'python '"
      ]
     },
     "execution_count": 19,
     "metadata": {},
     "output_type": "execute_result"
    }
   ],
   "source": [
    "obj.course"
   ]
  },
  {
   "cell_type": "code",
   "execution_count": 20,
   "id": "0b559157",
   "metadata": {},
   "outputs": [
    {
     "data": {
      "text/plain": [
       "10000"
      ]
     },
     "execution_count": 20,
     "metadata": {},
     "output_type": "execute_result"
    }
   ],
   "source": [
    "obj.fees"
   ]
  },
  {
   "cell_type": "code",
   "execution_count": 21,
   "id": "9797e150",
   "metadata": {},
   "outputs": [
    {
     "data": {
      "text/plain": [
       "'ramesh'"
      ]
     },
     "execution_count": 21,
     "metadata": {},
     "output_type": "execute_result"
    }
   ],
   "source": [
    "obj.student_name"
   ]
  },
  {
   "cell_type": "code",
   "execution_count": 22,
   "id": "ee3d3719",
   "metadata": {},
   "outputs": [
    {
     "data": {
      "text/plain": [
       "'3 month'"
      ]
     },
     "execution_count": 22,
     "metadata": {},
     "output_type": "execute_result"
    }
   ],
   "source": [
    "obj.course_durations"
   ]
  },
  {
   "cell_type": "code",
   "execution_count": 50,
   "id": "cc4be856",
   "metadata": {},
   "outputs": [],
   "source": [
    "class htop:\n",
    "    def __init__(self,course,student_name,course_durations,fees):\n",
    "        self.course = course\n",
    "        self.student_name = student_name\n",
    "        self.course_durations = course_durations\n",
    "        self.fees = fees\n",
    "        \n",
    "    def disp(self):\n",
    "        print(\"course:%s \\nstudent_name:%s \\ncourse_durations:%s \\nfees:%s\" %(self.course ,self.student_name, self.course_durations,self.fees))\n",
    "        "
   ]
  },
  {
   "cell_type": "code",
   "execution_count": 51,
   "id": "bc9218dd",
   "metadata": {},
   "outputs": [],
   "source": [
    "obj = htop(\"python \",\"ramesh\",\"3 month\",10000)"
   ]
  },
  {
   "cell_type": "code",
   "execution_count": 52,
   "id": "616f414c",
   "metadata": {},
   "outputs": [
    {
     "data": {
      "text/plain": [
       "'3 month'"
      ]
     },
     "execution_count": 52,
     "metadata": {},
     "output_type": "execute_result"
    }
   ],
   "source": [
    "obj.course_durations"
   ]
  },
  {
   "cell_type": "code",
   "execution_count": 53,
   "id": "046088d3",
   "metadata": {},
   "outputs": [
    {
     "data": {
      "text/plain": [
       "'ramesh'"
      ]
     },
     "execution_count": 53,
     "metadata": {},
     "output_type": "execute_result"
    }
   ],
   "source": [
    "obj.student_name"
   ]
  },
  {
   "cell_type": "code",
   "execution_count": null,
   "id": "2d63cc7b",
   "metadata": {},
   "outputs": [],
   "source": []
  },
  {
   "cell_type": "code",
   "execution_count": 55,
   "id": "5681248d",
   "metadata": {},
   "outputs": [
    {
     "name": "stdout",
     "output_type": "stream",
     "text": [
      "course:python  \n",
      "student_name:ramesh \n",
      "course_durations:3 month \n",
      "fees:10000\n"
     ]
    }
   ],
   "source": [
    "obj.disp()"
   ]
  },
  {
   "cell_type": "code",
   "execution_count": 56,
   "id": "84899921",
   "metadata": {},
   "outputs": [
    {
     "data": {
      "text/plain": [
       "10000"
      ]
     },
     "execution_count": 56,
     "metadata": {},
     "output_type": "execute_result"
    }
   ],
   "source": [
    "obj.fees"
   ]
  },
  {
   "cell_type": "code",
   "execution_count": 61,
   "id": "e5d0e81a",
   "metadata": {},
   "outputs": [],
   "source": [
    "obj = htop(\"java\",\"mani\",\"4m\",\"12000\")"
   ]
  },
  {
   "cell_type": "code",
   "execution_count": 62,
   "id": "98d01628",
   "metadata": {},
   "outputs": [
    {
     "data": {
      "text/plain": [
       "'java'"
      ]
     },
     "execution_count": 62,
     "metadata": {},
     "output_type": "execute_result"
    }
   ],
   "source": [
    "obj.course"
   ]
  },
  {
   "cell_type": "code",
   "execution_count": 63,
   "id": "a625dbe9",
   "metadata": {},
   "outputs": [
    {
     "data": {
      "text/plain": [
       "'4m'"
      ]
     },
     "execution_count": 63,
     "metadata": {},
     "output_type": "execute_result"
    }
   ],
   "source": [
    "obj.course_durations"
   ]
  },
  {
   "cell_type": "code",
   "execution_count": 65,
   "id": "55b09adf",
   "metadata": {},
   "outputs": [
    {
     "name": "stdout",
     "output_type": "stream",
     "text": [
      "course:java \n",
      "student_name:mani \n",
      "course_durations:4m \n",
      "fees:12000\n"
     ]
    }
   ],
   "source": [
    "obj.disp()"
   ]
  },
  {
   "cell_type": "code",
   "execution_count": 66,
   "id": "f6d5fab0",
   "metadata": {},
   "outputs": [
    {
     "data": {
      "text/plain": [
       "'12000'"
      ]
     },
     "execution_count": 66,
     "metadata": {},
     "output_type": "execute_result"
    }
   ],
   "source": [
    "obj.fees"
   ]
  },
  {
   "cell_type": "code",
   "execution_count": 67,
   "id": "9e801608",
   "metadata": {},
   "outputs": [
    {
     "data": {
      "text/plain": [
       "'mani'"
      ]
     },
     "execution_count": 67,
     "metadata": {},
     "output_type": "execute_result"
    }
   ],
   "source": [
    "obj.student_name"
   ]
  },
  {
   "cell_type": "code",
   "execution_count": 20,
   "id": "863f60c6",
   "metadata": {},
   "outputs": [],
   "source": [
    "class htop:\n",
    "    def __init__(self,course = \".net\", student_name = \"sai\", course_durations = \"1year\", fees = 20000):\n",
    "        self.course = course\n",
    "        self.student_name = student_name\n",
    "        self.course_durations = course_durations\n",
    "        self.fees = fees\n",
    "        \n",
    "    def disp(self):\n",
    "        print(\"course:%s \\nstudent_name:%s \\ncourse_durations:%s \\nfees:%s\" %(self.course ,self.student_name, self.course_durations,self.fees))\n",
    "        "
   ]
  },
  {
   "cell_type": "code",
   "execution_count": 21,
   "id": "6b6cf9c3",
   "metadata": {},
   "outputs": [],
   "source": [
    "obj = htop()"
   ]
  },
  {
   "cell_type": "code",
   "execution_count": 22,
   "id": "e8a606fe",
   "metadata": {},
   "outputs": [
    {
     "name": "stdout",
     "output_type": "stream",
     "text": [
      "course:.net \n",
      "student_name:sai \n",
      "course_durations:1year \n",
      "fees:20000\n"
     ]
    }
   ],
   "source": [
    "obj.disp()"
   ]
  },
  {
   "cell_type": "code",
   "execution_count": 23,
   "id": "40fc9fe0",
   "metadata": {},
   "outputs": [
    {
     "data": {
      "text/plain": [
       "'1year'"
      ]
     },
     "execution_count": 23,
     "metadata": {},
     "output_type": "execute_result"
    }
   ],
   "source": [
    "obj.course_durations"
   ]
  },
  {
   "cell_type": "code",
   "execution_count": 92,
   "id": "e0c9d696",
   "metadata": {},
   "outputs": [
    {
     "data": {
      "text/plain": [
       "'.net'"
      ]
     },
     "execution_count": 92,
     "metadata": {},
     "output_type": "execute_result"
    }
   ],
   "source": [
    "obj.course"
   ]
  },
  {
   "cell_type": "code",
   "execution_count": 93,
   "id": "d1b46114",
   "metadata": {},
   "outputs": [
    {
     "data": {
      "text/plain": [
       "20000"
      ]
     },
     "execution_count": 93,
     "metadata": {},
     "output_type": "execute_result"
    }
   ],
   "source": [
    "obj.fees"
   ]
  },
  {
   "cell_type": "code",
   "execution_count": 94,
   "id": "459d8c25",
   "metadata": {},
   "outputs": [
    {
     "data": {
      "text/plain": [
       "'sai'"
      ]
     },
     "execution_count": 94,
     "metadata": {},
     "output_type": "execute_result"
    }
   ],
   "source": [
    "obj.student_name"
   ]
  },
  {
   "cell_type": "code",
   "execution_count": 15,
   "id": "b6f6f7cd",
   "metadata": {},
   "outputs": [],
   "source": [
    "class htop:\n",
    "    def __init__(self,course = \".net\", student_name = \"sai\", course_durations = \"1year\", fees = 20000):\n",
    "        self.course = course\n",
    "        self.student_name = student_name\n",
    "        self.course_durations = course_durations\n",
    "        self.fees = fees\n",
    "        \n",
    "    def disp(self):\n",
    "        print(\"course:%s \\nstudent_name:%s \\ncourse_durations:%s \\nfees:%s\" %(self.course ,self.student_name, self.course_durations,self.fees))\n",
    "        "
   ]
  },
  {
   "cell_type": "code",
   "execution_count": 16,
   "id": "369db100",
   "metadata": {},
   "outputs": [],
   "source": [
    "obj = htop(\"c++\",\"jon\",\"3m\",1300)"
   ]
  },
  {
   "cell_type": "code",
   "execution_count": 17,
   "id": "51b3b074",
   "metadata": {},
   "outputs": [
    {
     "data": {
      "text/plain": [
       "'c++'"
      ]
     },
     "execution_count": 17,
     "metadata": {},
     "output_type": "execute_result"
    }
   ],
   "source": [
    "obj.course"
   ]
  },
  {
   "cell_type": "code",
   "execution_count": 18,
   "id": "3f82dfd0",
   "metadata": {},
   "outputs": [
    {
     "data": {
      "text/plain": [
       "'3m'"
      ]
     },
     "execution_count": 18,
     "metadata": {},
     "output_type": "execute_result"
    }
   ],
   "source": [
    "obj.course_durations"
   ]
  },
  {
   "cell_type": "code",
   "execution_count": 19,
   "id": "644ca493",
   "metadata": {},
   "outputs": [
    {
     "name": "stdout",
     "output_type": "stream",
     "text": [
      "course:c++ \n",
      "student_name:jon \n",
      "course_durations:3m \n",
      "fees:1300\n"
     ]
    }
   ],
   "source": [
    "obj.disp()"
   ]
  },
  {
   "cell_type": "code",
   "execution_count": 105,
   "id": "931dab04",
   "metadata": {},
   "outputs": [
    {
     "data": {
      "text/plain": [
       "1300"
      ]
     },
     "execution_count": 105,
     "metadata": {},
     "output_type": "execute_result"
    }
   ],
   "source": [
    "obj.fees"
   ]
  },
  {
   "cell_type": "code",
   "execution_count": 106,
   "id": "b942af86",
   "metadata": {},
   "outputs": [
    {
     "data": {
      "text/plain": [
       "'jon'"
      ]
     },
     "execution_count": 106,
     "metadata": {},
     "output_type": "execute_result"
    }
   ],
   "source": [
    "obj.student_name"
   ]
  },
  {
   "cell_type": "code",
   "execution_count": 111,
   "id": "d00adc71",
   "metadata": {},
   "outputs": [],
   "source": [
    "class address:\n",
    "    homeno  =28\n",
    "    homestreet = \"mgr nager 2 main road\"\n",
    "    city = \"thiruporur\""
   ]
  },
  {
   "cell_type": "code",
   "execution_count": 112,
   "id": "afbe6a57",
   "metadata": {},
   "outputs": [],
   "source": [
    "obj = address"
   ]
  },
  {
   "cell_type": "code",
   "execution_count": 113,
   "id": "19b7b55c",
   "metadata": {},
   "outputs": [
    {
     "data": {
      "text/plain": [
       "'thiruporur'"
      ]
     },
     "execution_count": 113,
     "metadata": {},
     "output_type": "execute_result"
    }
   ],
   "source": [
    "obj.city"
   ]
  },
  {
   "cell_type": "code",
   "execution_count": 114,
   "id": "3972d5f7",
   "metadata": {},
   "outputs": [
    {
     "data": {
      "text/plain": [
       "28"
      ]
     },
     "execution_count": 114,
     "metadata": {},
     "output_type": "execute_result"
    }
   ],
   "source": [
    "obj.homeno\n"
   ]
  },
  {
   "cell_type": "code",
   "execution_count": 115,
   "id": "ecc46296",
   "metadata": {},
   "outputs": [
    {
     "data": {
      "text/plain": [
       "'mgr nager 2 main road'"
      ]
     },
     "execution_count": 115,
     "metadata": {},
     "output_type": "execute_result"
    }
   ],
   "source": [
    "obj.homestreet"
   ]
  },
  {
   "cell_type": "code",
   "execution_count": 118,
   "id": "f67785a8",
   "metadata": {},
   "outputs": [
    {
     "data": {
      "text/plain": [
       "[__main__.address, object]"
      ]
     },
     "execution_count": 118,
     "metadata": {},
     "output_type": "execute_result"
    }
   ],
   "source": [
    "obj.mro()"
   ]
  },
  {
   "cell_type": "code",
   "execution_count": 6,
   "id": "9c8d0d99",
   "metadata": {},
   "outputs": [],
   "source": [
    "class address:\n",
    "    homeno  =28\n",
    "    homestreet = \"mgr nager 2 main road\"\n",
    "    city = \"thiruporur\"\n",
    "    \n",
    "    "
   ]
  },
  {
   "cell_type": "code",
   "execution_count": 7,
   "id": "435aafe0",
   "metadata": {},
   "outputs": [],
   "source": [
    "obj = address()"
   ]
  },
  {
   "cell_type": "code",
   "execution_count": 10,
   "id": "4d6004a0",
   "metadata": {},
   "outputs": [
    {
     "data": {
      "text/plain": [
       "28"
      ]
     },
     "execution_count": 10,
     "metadata": {},
     "output_type": "execute_result"
    }
   ],
   "source": [
    "obj.homeno"
   ]
  },
  {
   "cell_type": "code",
   "execution_count": 9,
   "id": "e58de8a7",
   "metadata": {},
   "outputs": [
    {
     "data": {
      "text/plain": [
       "'thiruporur'"
      ]
     },
     "execution_count": 9,
     "metadata": {},
     "output_type": "execute_result"
    }
   ],
   "source": [
    "obj.city"
   ]
  },
  {
   "cell_type": "code",
   "execution_count": 19,
   "id": "b6c00143",
   "metadata": {},
   "outputs": [],
   "source": [
    "class calculation:\n",
    "    def __init__(self,a,b):\n",
    "        self.a = a\n",
    "        self.b = b\n",
    "        \n",
    "    def add(self):\n",
    "        sum =self.a+self.b\n",
    "        return(sum)\n",
    "    \n",
    "    def sub(self):\n",
    "        sub =self.a-self.b\n",
    "        return(sub)\n",
    "    \n",
    "    def multi(self):\n",
    "        mul =self.a*self.b\n",
    "        return(mul)\n",
    "    \n",
    "    def power(self):\n",
    "        po =self.a**self.b\n",
    "        return(po)\n",
    "            \n",
    "            \n",
    "            \n",
    "    "
   ]
  },
  {
   "cell_type": "code",
   "execution_count": 20,
   "id": "f87cc59c",
   "metadata": {},
   "outputs": [],
   "source": [
    "obj = calculation(2,3)"
   ]
  },
  {
   "cell_type": "code",
   "execution_count": 21,
   "id": "9fa42404",
   "metadata": {},
   "outputs": [
    {
     "data": {
      "text/plain": [
       "5"
      ]
     },
     "execution_count": 21,
     "metadata": {},
     "output_type": "execute_result"
    }
   ],
   "source": [
    "obj.add()"
   ]
  },
  {
   "cell_type": "code",
   "execution_count": 24,
   "id": "60c170fc",
   "metadata": {},
   "outputs": [
    {
     "data": {
      "text/plain": [
       "6"
      ]
     },
     "execution_count": 24,
     "metadata": {},
     "output_type": "execute_result"
    }
   ],
   "source": [
    "obj.multi()"
   ]
  },
  {
   "cell_type": "code",
   "execution_count": 26,
   "id": "018af3f2",
   "metadata": {},
   "outputs": [
    {
     "data": {
      "text/plain": [
       "8"
      ]
     },
     "execution_count": 26,
     "metadata": {},
     "output_type": "execute_result"
    }
   ],
   "source": [
    "obj.power()"
   ]
  },
  {
   "cell_type": "code",
   "execution_count": 27,
   "id": "3f894f77",
   "metadata": {},
   "outputs": [
    {
     "data": {
      "text/plain": [
       "-1"
      ]
     },
     "execution_count": 27,
     "metadata": {},
     "output_type": "execute_result"
    }
   ],
   "source": [
    "obj.sub()"
   ]
  },
  {
   "cell_type": "code",
   "execution_count": 1,
   "id": "1aeda04c",
   "metadata": {},
   "outputs": [
    {
     "name": "stdout",
     "output_type": "stream",
     "text": [
      "read .practice.repet!\tread .practice.repet!\tread .practice.repet!\t\n"
     ]
    }
   ],
   "source": [
    "python  = \"read .practice.repet!\\t\"\n",
    "print(python*3)\n"
   ]
  },
  {
   "cell_type": "code",
   "execution_count": 25,
   "id": "57c24ef1",
   "metadata": {},
   "outputs": [
    {
     "name": "stdout",
     "output_type": "stream",
     "text": [
      "read .practice.repet!\n",
      "read .practice.repet!\n",
      "read .practice.repet!\n"
     ]
    }
   ],
   "source": [
    "for i in range(3):\n",
    "    python  = ('read .practice.repet!')\n",
    "    print(python)\n",
    "    "
   ]
  },
  {
   "cell_type": "code",
   "execution_count": 12,
   "id": "164ae141",
   "metadata": {},
   "outputs": [],
   "source": [
    "#instance attribute\n",
    "class car:\n",
    "    def __init__(self):\n",
    "        self.brand = \"maruthi\"\n",
    "        "
   ]
  },
  {
   "cell_type": "code",
   "execution_count": 13,
   "id": "3d8fb510",
   "metadata": {},
   "outputs": [],
   "source": [
    "obj1 = car()\n",
    "obj2 = car()\n",
    "obj1.brand = \"bmw\""
   ]
  },
  {
   "cell_type": "code",
   "execution_count": 15,
   "id": "b9361164",
   "metadata": {},
   "outputs": [
    {
     "data": {
      "text/plain": [
       "'bmw'"
      ]
     },
     "execution_count": 15,
     "metadata": {},
     "output_type": "execute_result"
    }
   ],
   "source": [
    "obj1.brand"
   ]
  },
  {
   "cell_type": "code",
   "execution_count": 17,
   "id": "2b25776d",
   "metadata": {},
   "outputs": [
    {
     "data": {
      "text/plain": [
       "'maruthi'"
      ]
     },
     "execution_count": 17,
     "metadata": {},
     "output_type": "execute_result"
    }
   ],
   "source": [
    "obj2.brand"
   ]
  },
  {
   "cell_type": "code",
   "execution_count": 62,
   "id": "b7923071",
   "metadata": {},
   "outputs": [],
   "source": [
    "#instance attribute\n",
    "class car:\n",
    "    def __init__(self):\n",
    "        \n",
    "        self.brand = \"audi\""
   ]
  },
  {
   "cell_type": "code",
   "execution_count": 63,
   "id": "14952118",
   "metadata": {},
   "outputs": [],
   "source": [
    "obj = car()"
   ]
  },
  {
   "cell_type": "code",
   "execution_count": 64,
   "id": "549111e9",
   "metadata": {},
   "outputs": [
    {
     "data": {
      "text/plain": [
       "'audi'"
      ]
     },
     "execution_count": 64,
     "metadata": {},
     "output_type": "execute_result"
    }
   ],
   "source": [
    "obj.brand"
   ]
  },
  {
   "cell_type": "code",
   "execution_count": 65,
   "id": "da8651de",
   "metadata": {},
   "outputs": [],
   "source": [
    "obj . brand = \"mg\""
   ]
  },
  {
   "cell_type": "code",
   "execution_count": 66,
   "id": "ec3667d5",
   "metadata": {},
   "outputs": [
    {
     "data": {
      "text/plain": [
       "'mg'"
      ]
     },
     "execution_count": 66,
     "metadata": {},
     "output_type": "execute_result"
    }
   ],
   "source": [
    "obj.brand"
   ]
  },
  {
   "cell_type": "code",
   "execution_count": 67,
   "id": "55990cbb",
   "metadata": {},
   "outputs": [
    {
     "data": {
      "text/plain": [
       "'mg'"
      ]
     },
     "execution_count": 67,
     "metadata": {},
     "output_type": "execute_result"
    }
   ],
   "source": [
    "obj.brand"
   ]
  },
  {
   "cell_type": "code",
   "execution_count": 35,
   "id": "b072bbce",
   "metadata": {},
   "outputs": [],
   "source": [
    "class addingname:\n",
    "    def __init__(self,a,b):\n",
    "        self.a = a\n",
    "        self.b = b\n",
    "        \n",
    "    def addstr(self):\n",
    "        name = self.a+self.b\n",
    "        return name\n",
    "    \n",
    "        \n",
    "        "
   ]
  },
  {
   "cell_type": "code",
   "execution_count": 36,
   "id": "aca0a54c",
   "metadata": {},
   "outputs": [],
   "source": [
    "obj = addingname(\"ram\",\"kumar\")"
   ]
  },
  {
   "cell_type": "code",
   "execution_count": 38,
   "id": "2b2fca16",
   "metadata": {},
   "outputs": [
    {
     "data": {
      "text/plain": [
       "'ramkumar'"
      ]
     },
     "execution_count": 38,
     "metadata": {},
     "output_type": "execute_result"
    }
   ],
   "source": [
    "obj.addstr()"
   ]
  },
  {
   "cell_type": "code",
   "execution_count": 49,
   "id": "3ecf4d52",
   "metadata": {},
   "outputs": [
    {
     "name": "stdout",
     "output_type": "stream",
     "text": [
      "read .practice.repet!\n",
      "read .practice.repet!\n",
      "read .practice.repet!\n"
     ]
    }
   ],
   "source": [
    "#repeat \n",
    "for i in range(3):\n",
    "    print ('read .practice.repet!')\n",
    "    "
   ]
  },
  {
   "cell_type": "code",
   "execution_count": 55,
   "id": "14443430",
   "metadata": {},
   "outputs": [],
   "source": [
    "class hindustan:\n",
    "    def __init__(self,course,sname,srollno):\n",
    "        self.course = course\n",
    "        self.sname = sname\n",
    "        self.srollno = srollno"
   ]
  },
  {
   "cell_type": "code",
   "execution_count": 56,
   "id": "8c2afae7",
   "metadata": {},
   "outputs": [],
   "source": [
    "obj = hindustan(\"bca\",\"jon\",293939)"
   ]
  },
  {
   "cell_type": "code",
   "execution_count": 57,
   "id": "5342ed1f",
   "metadata": {},
   "outputs": [
    {
     "data": {
      "text/plain": [
       "'bca'"
      ]
     },
     "execution_count": 57,
     "metadata": {},
     "output_type": "execute_result"
    }
   ],
   "source": [
    "obj.course"
   ]
  },
  {
   "cell_type": "code",
   "execution_count": 60,
   "id": "220185e3",
   "metadata": {},
   "outputs": [
    {
     "data": {
      "text/plain": [
       "'jon'"
      ]
     },
     "execution_count": 60,
     "metadata": {},
     "output_type": "execute_result"
    }
   ],
   "source": [
    "obj.sname"
   ]
  },
  {
   "cell_type": "code",
   "execution_count": 61,
   "id": "e37a50a9",
   "metadata": {},
   "outputs": [
    {
     "data": {
      "text/plain": [
       "293939"
      ]
     },
     "execution_count": 61,
     "metadata": {},
     "output_type": "execute_result"
    }
   ],
   "source": [
    "obj.srollno"
   ]
  },
  {
   "cell_type": "code",
   "execution_count": 79,
   "id": "391a8844",
   "metadata": {},
   "outputs": [],
   "source": [
    "class hindustan :\n",
    "    def __init__(self,course = \"mca\",sname = \"tom\",srollnum = 23444445):\n",
    "        self.course = course\n",
    "        self.sname = sname\n",
    "        self.srollnum = srollnum\n",
    "    \n",
    "    def display(self):\n",
    "        print(\"course: %s \\n sname: %s \\n srollnum: %s \" % (self.course,self.sname,self.srollnum))"
   ]
  },
  {
   "cell_type": "code",
   "execution_count": 80,
   "id": "5780d496",
   "metadata": {},
   "outputs": [],
   "source": [
    "obj = hindustan()"
   ]
  },
  {
   "cell_type": "code",
   "execution_count": 81,
   "id": "4582fb2a",
   "metadata": {},
   "outputs": [
    {
     "data": {
      "text/plain": [
       "'mca'"
      ]
     },
     "execution_count": 81,
     "metadata": {},
     "output_type": "execute_result"
    }
   ],
   "source": [
    "obj.course"
   ]
  },
  {
   "cell_type": "code",
   "execution_count": 82,
   "id": "c8f7f13d",
   "metadata": {},
   "outputs": [
    {
     "name": "stdout",
     "output_type": "stream",
     "text": [
      "course: mca \n",
      " sname: tom \n",
      " srollnum: 23444445 \n"
     ]
    }
   ],
   "source": [
    "obj.display()"
   ]
  },
  {
   "cell_type": "code",
   "execution_count": 83,
   "id": "a5b982d9",
   "metadata": {},
   "outputs": [
    {
     "data": {
      "text/plain": [
       "'tom'"
      ]
     },
     "execution_count": 83,
     "metadata": {},
     "output_type": "execute_result"
    }
   ],
   "source": [
    "obj.sname"
   ]
  },
  {
   "cell_type": "code",
   "execution_count": 21,
   "id": "80587e21",
   "metadata": {},
   "outputs": [],
   "source": [
    "class tamilnadu:\n",
    "    def __init__(self,city_name = \"chennai\",pincode = 948899,special = \"beach\"):\n",
    "        self.city_name = city_name\n",
    "        self.pincode = pincode\n",
    "        self.special = special\n",
    "        \n",
    "    def display(self):\n",
    "        print(\"city_name: %s \\n pincode:%s \\n special:%s \" % (self.city_name,self.pincode,self.special))\n",
    "        \n",
    "    "
   ]
  },
  {
   "cell_type": "code",
   "execution_count": 25,
   "id": "544d5f7a",
   "metadata": {},
   "outputs": [],
   "source": [
    "obj = tamilnadu(\"trichy\",621214,\"mountain temple\")"
   ]
  },
  {
   "cell_type": "code",
   "execution_count": 26,
   "id": "923dbf3b",
   "metadata": {},
   "outputs": [
    {
     "name": "stdout",
     "output_type": "stream",
     "text": [
      "city_name: trichy \n",
      " pincode:621214 \n",
      " special:mountain temple \n"
     ]
    }
   ],
   "source": [
    "obj.display()"
   ]
  },
  {
   "cell_type": "code",
   "execution_count": 27,
   "id": "9cb9b8ec",
   "metadata": {},
   "outputs": [
    {
     "data": {
      "text/plain": [
       "621214"
      ]
     },
     "execution_count": 27,
     "metadata": {},
     "output_type": "execute_result"
    }
   ],
   "source": [
    "obj.pincode"
   ]
  },
  {
   "cell_type": "code",
   "execution_count": 32,
   "id": "46f83bf1",
   "metadata": {},
   "outputs": [],
   "source": [
    "class matahmatics:\n",
    "    def __init__(self,a,b):\n",
    "        self.a = a\n",
    "        self.b = b\n",
    "        \n",
    "    def add(self):\n",
    "        sum = self.a+self.b\n",
    "        print(sum)"
   ]
  },
  {
   "cell_type": "code",
   "execution_count": 36,
   "id": "b9d6ac41",
   "metadata": {},
   "outputs": [],
   "source": [
    "obj = matahmatics(2,3)"
   ]
  },
  {
   "cell_type": "code",
   "execution_count": 38,
   "id": "0d028a0c",
   "metadata": {},
   "outputs": [
    {
     "name": "stdout",
     "output_type": "stream",
     "text": [
      "5\n"
     ]
    }
   ],
   "source": [
    "obj.add()"
   ]
  },
  {
   "cell_type": "code",
   "execution_count": 49,
   "id": "0cc37cd0",
   "metadata": {},
   "outputs": [],
   "source": [
    "class addingstring:\n",
    "    def __init__(self,x,y):\n",
    "        self.x = x\n",
    "        self.y = y\n",
    "    \n",
    "    def name(self):\n",
    "        name = self.x+self.y\n",
    "        print(name)\n",
    "        \n",
    "    def display(self):\n",
    "        print(\"x:%s \\n y:%s \"%(self.x,self.y))\n",
    " "
   ]
  },
  {
   "cell_type": "code",
   "execution_count": 50,
   "id": "f7c4ba8e",
   "metadata": {},
   "outputs": [],
   "source": [
    "obj = addingstring(\"1935\",\"1005\")"
   ]
  },
  {
   "cell_type": "code",
   "execution_count": 51,
   "id": "b43f6398",
   "metadata": {},
   "outputs": [
    {
     "data": {
      "text/plain": [
       "'1935'"
      ]
     },
     "execution_count": 51,
     "metadata": {},
     "output_type": "execute_result"
    }
   ],
   "source": [
    "obj.x"
   ]
  },
  {
   "cell_type": "code",
   "execution_count": 52,
   "id": "b137af37",
   "metadata": {},
   "outputs": [
    {
     "data": {
      "text/plain": [
       "'1005'"
      ]
     },
     "execution_count": 52,
     "metadata": {},
     "output_type": "execute_result"
    }
   ],
   "source": [
    "obj.y"
   ]
  },
  {
   "cell_type": "code",
   "execution_count": 53,
   "id": "61732cb6",
   "metadata": {},
   "outputs": [
    {
     "name": "stdout",
     "output_type": "stream",
     "text": [
      "19351005\n"
     ]
    }
   ],
   "source": [
    "obj.name()"
   ]
  },
  {
   "cell_type": "code",
   "execution_count": 55,
   "id": "bd2d33ac",
   "metadata": {},
   "outputs": [
    {
     "name": "stdout",
     "output_type": "stream",
     "text": [
      "x:1935 \n",
      " y:1005 \n"
     ]
    }
   ],
   "source": [
    "obj.display()"
   ]
  },
  {
   "cell_type": "code",
   "execution_count": 56,
   "id": "b5c15549",
   "metadata": {},
   "outputs": [],
   "source": [
    "#instance attribute\n",
    "class name:\n",
    "    def __init__(self):\n",
    "        self.a = \"raju\"\n",
    "        "
   ]
  },
  {
   "cell_type": "code",
   "execution_count": 57,
   "id": "8b257519",
   "metadata": {},
   "outputs": [],
   "source": [
    "obj = name()"
   ]
  },
  {
   "cell_type": "code",
   "execution_count": 58,
   "id": "af3c51ec",
   "metadata": {},
   "outputs": [
    {
     "data": {
      "text/plain": [
       "'raju'"
      ]
     },
     "execution_count": 58,
     "metadata": {},
     "output_type": "execute_result"
    }
   ],
   "source": [
    "obj.a"
   ]
  },
  {
   "cell_type": "code",
   "execution_count": 60,
   "id": "886124d7",
   "metadata": {},
   "outputs": [],
   "source": [
    "obj.name= (\"bheem\")"
   ]
  },
  {
   "cell_type": "code",
   "execution_count": 61,
   "id": "b541a99c",
   "metadata": {},
   "outputs": [
    {
     "data": {
      "text/plain": [
       "'bheem'"
      ]
     },
     "execution_count": 61,
     "metadata": {},
     "output_type": "execute_result"
    }
   ],
   "source": [
    "obj.name"
   ]
  },
  {
   "cell_type": "code",
   "execution_count": 1,
   "id": "0f75f6b2",
   "metadata": {},
   "outputs": [],
   "source": [
    "class error(Exception):\n",
    "    def __init__(self, message):\n",
    "        self.message = message\n",
    "        super().__init__(self.message)\n"
   ]
  },
  {
   "cell_type": "code",
   "execution_count": 2,
   "id": "efedcb99",
   "metadata": {},
   "outputs": [
    {
     "ename": "TypeError",
     "evalue": "__init__() missing 1 required positional argument: 'message'",
     "output_type": "error",
     "traceback": [
      "\u001b[1;31m---------------------------------------------------------------------------\u001b[0m",
      "\u001b[1;31mTypeError\u001b[0m                                 Traceback (most recent call last)",
      "Input \u001b[1;32mIn [2]\u001b[0m, in \u001b[0;36m<cell line: 1>\u001b[1;34m()\u001b[0m\n\u001b[1;32m----> 1\u001b[0m on \u001b[38;5;241m=\u001b[39m\u001b[43merror\u001b[49m\u001b[43m(\u001b[49m\u001b[43m)\u001b[49m\n",
      "\u001b[1;31mTypeError\u001b[0m: __init__() missing 1 required positional argument: 'message'"
     ]
    }
   ],
   "source": [
    "on =error()"
   ]
  },
  {
   "cell_type": "code",
   "execution_count": null,
   "id": "c9ef9c94",
   "metadata": {},
   "outputs": [],
   "source": []
  }
 ],
 "metadata": {
  "kernelspec": {
   "display_name": "Python 3 (ipykernel)",
   "language": "python",
   "name": "python3"
  },
  "language_info": {
   "codemirror_mode": {
    "name": "ipython",
    "version": 3
   },
   "file_extension": ".py",
   "mimetype": "text/x-python",
   "name": "python",
   "nbconvert_exporter": "python",
   "pygments_lexer": "ipython3",
   "version": "3.9.12"
  }
 },
 "nbformat": 4,
 "nbformat_minor": 5
}

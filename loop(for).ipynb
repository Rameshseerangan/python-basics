{
 "cells": [
  {
   "cell_type": "code",
   "execution_count": 1,
   "id": "2ad858bf",
   "metadata": {},
   "outputs": [],
   "source": [
    "list1  = [\"ramesh\",\"dhinesh\",\"kumar\",\"nandha\",\"uttam\"]\n"
   ]
  },
  {
   "cell_type": "code",
   "execution_count": 2,
   "id": "e25166e9",
   "metadata": {},
   "outputs": [
    {
     "data": {
      "text/plain": [
       "['ramesh', 'dhinesh', 'kumar', 'nandha', 'uttam']"
      ]
     },
     "execution_count": 2,
     "metadata": {},
     "output_type": "execute_result"
    }
   ],
   "source": [
    "list1"
   ]
  },
  {
   "cell_type": "code",
   "execution_count": 3,
   "id": "78f06915",
   "metadata": {},
   "outputs": [
    {
     "name": "stdout",
     "output_type": "stream",
     "text": [
      "ramesh\n",
      "dhinesh\n",
      "kumar\n",
      "nandha\n",
      "uttam\n"
     ]
    }
   ],
   "source": [
    "for x in list1:\n",
    "    print(x)"
   ]
  },
  {
   "cell_type": "code",
   "execution_count": 4,
   "id": "393f4ff0",
   "metadata": {},
   "outputs": [
    {
     "name": "stdout",
     "output_type": "stream",
     "text": [
      "ramesh\n",
      "dhinesh\n",
      "kumar\n",
      "nandha\n",
      "uttam\n",
      "loop ended\n"
     ]
    }
   ],
   "source": [
    "for x in list1:\n",
    "    print(x)\n",
    "else:\n",
    "    print(\"loop ended\")\n",
    "       "
   ]
  },
  {
   "cell_type": "code",
   "execution_count": 12,
   "id": "01b115a1",
   "metadata": {},
   "outputs": [
    {
     "name": "stdout",
     "output_type": "stream",
     "text": [
      "hai\n",
      "ram\n",
      "jo\n",
      "mani\n",
      "dhurai\n"
     ]
    }
   ],
   "source": [
    "list2 = [\"hai\",\"ram\",\"jo\",\"mani\"]\n",
    "for x in list2:\n",
    "    print(x)\n",
    "else:\n",
    "    \n",
    "   print(\"dhurai\")\n",
    "\n"
   ]
  },
  {
   "cell_type": "code",
   "execution_count": 7,
   "id": "34a4d3f2",
   "metadata": {},
   "outputs": [],
   "source": [
    "str1 = 1,1,2,3"
   ]
  },
  {
   "cell_type": "code",
   "execution_count": 8,
   "id": "af4d1149",
   "metadata": {},
   "outputs": [
    {
     "name": "stdout",
     "output_type": "stream",
     "text": [
      "1\n",
      "1\n",
      "2\n",
      "3\n"
     ]
    }
   ],
   "source": [
    "for x in str1:\n",
    "    print(x)"
   ]
  },
  {
   "cell_type": "code",
   "execution_count": 9,
   "id": "d77c46ea",
   "metadata": {},
   "outputs": [
    {
     "data": {
      "text/plain": [
       "tuple"
      ]
     },
     "execution_count": 9,
     "metadata": {},
     "output_type": "execute_result"
    }
   ],
   "source": [
    "type(str1)"
   ]
  },
  {
   "cell_type": "code",
   "execution_count": null,
   "id": "15ac1174",
   "metadata": {},
   "outputs": [],
   "source": []
  },
  {
   "cell_type": "code",
   "execution_count": 15,
   "id": "447bf3fc",
   "metadata": {},
   "outputs": [
    {
     "data": {
      "text/plain": [
       "['ramesh', 'dhinesh', 'kumar', 'nandha', 'uttam']"
      ]
     },
     "execution_count": 15,
     "metadata": {},
     "output_type": "execute_result"
    }
   ],
   "source": [
    "list1"
   ]
  },
  {
   "cell_type": "code",
   "execution_count": 16,
   "id": "53e7d689",
   "metadata": {},
   "outputs": [
    {
     "name": "stdout",
     "output_type": "stream",
     "text": [
      "ramesh\n",
      "dhinesh\n",
      "kumar\n"
     ]
    }
   ],
   "source": [
    "for x in list1:\n",
    "    print(x)\n",
    "    if x == \"kumar\":\n",
    "        break"
   ]
  },
  {
   "cell_type": "code",
   "execution_count": 26,
   "id": "8096efac",
   "metadata": {},
   "outputs": [
    {
     "name": "stdout",
     "output_type": "stream",
     "text": [
      "1\n",
      "2\n",
      "3\n"
     ]
    }
   ],
   "source": [
    "list3 = [1,2,3,4,\"ram\",\"htop\"]\n",
    "for a in list3:\n",
    "    print(a)\n",
    "    if a == 3:\n",
    "        break"
   ]
  },
  {
   "cell_type": "code",
   "execution_count": 32,
   "id": "9607c65b",
   "metadata": {},
   "outputs": [
    {
     "name": "stdout",
     "output_type": "stream",
     "text": [
      "ramesh\n",
      "omkar\n"
     ]
    }
   ],
   "source": [
    "hindustan= [\"ramesh\",\"omkar\",\"uttam\",\"mani\"]\n",
    "for f in hindustan:\n",
    "    print(f)\n",
    "    if f == \"omkar\":\n",
    "        break"
   ]
  },
  {
   "cell_type": "code",
   "execution_count": 2,
   "id": "ef9a74eb",
   "metadata": {},
   "outputs": [
    {
     "name": "stdout",
     "output_type": "stream",
     "text": [
      "ramesh\n",
      "omkar\n",
      "uttam\n"
     ]
    }
   ],
   "source": [
    "hindustan= [\"ramesh\",\"omkar\",\"uttam\",\"mani\"]\n",
    "for hits in hindustan:\n",
    "    if hits == \"mani\":\n",
    "        break\n",
    "    print(hits)\n",
    "        "
   ]
  },
  {
   "cell_type": "code",
   "execution_count": 9,
   "id": "cf389b3b",
   "metadata": {},
   "outputs": [
    {
     "name": "stdout",
     "output_type": "stream",
     "text": [
      "ramesh\n"
     ]
    }
   ],
   "source": [
    "hindustan= [\"ramesh\",\"omkar\",\"uttam\",\"mani\"]\n",
    "for f in hindustan:\n",
    "  \n",
    "    if f == \"omkar\":\n",
    "        break\n",
    "    print(f)\n",
    "        "
   ]
  },
  {
   "cell_type": "code",
   "execution_count": 36,
   "id": "31dfbfa6",
   "metadata": {},
   "outputs": [
    {
     "name": "stdout",
     "output_type": "stream",
     "text": [
      "0\n",
      "1\n",
      "2\n",
      "3\n",
      "4\n",
      "5\n"
     ]
    }
   ],
   "source": [
    "for x in range(6):\n",
    "    print(x)"
   ]
  },
  {
   "cell_type": "code",
   "execution_count": 37,
   "id": "29ba15d1",
   "metadata": {},
   "outputs": [
    {
     "name": "stdout",
     "output_type": "stream",
     "text": [
      "2\n",
      "3\n",
      "4\n",
      "5\n"
     ]
    }
   ],
   "source": [
    "for x in range(2,6):\n",
    "    print(x)"
   ]
  },
  {
   "cell_type": "code",
   "execution_count": 41,
   "id": "480f91e3",
   "metadata": {},
   "outputs": [
    {
     "name": "stdout",
     "output_type": "stream",
     "text": [
      "0\n",
      "1\n",
      "2\n",
      "3\n",
      "4\n",
      "5\n"
     ]
    }
   ],
   "source": [
    "for m in range(len(\"ramesh\")):\n",
    "    print(m)"
   ]
  },
  {
   "cell_type": "code",
   "execution_count": 44,
   "id": "f41e2389",
   "metadata": {},
   "outputs": [
    {
     "name": "stdout",
     "output_type": "stream",
     "text": [
      "2\n",
      "5\n",
      "8\n",
      "11\n",
      "14\n"
     ]
    }
   ],
   "source": [
    "for x in range(2,16,3):\n",
    "    print(x)"
   ]
  },
  {
   "cell_type": "markdown",
   "id": "a6de4cdf",
   "metadata": {},
   "source": [
    "str1 = \"hello\"\n",
    "for "
   ]
  },
  {
   "cell_type": "code",
   "execution_count": 45,
   "id": "c0ba2daa",
   "metadata": {},
   "outputs": [
    {
     "name": "stdout",
     "output_type": "stream",
     "text": [
      "h index is 0\n",
      "e index is 1\n",
      "l index is 2\n",
      "l index is 2\n",
      "o index is 4\n"
     ]
    }
   ],
   "source": [
    "str1 = \"hello\"\n",
    "for x in str1:\n",
    "    print(x,\"index is\",str1.index(x))"
   ]
  },
  {
   "cell_type": "code",
   "execution_count": 46,
   "id": "b248e4f2",
   "metadata": {},
   "outputs": [
    {
     "name": "stdout",
     "output_type": "stream",
     "text": [
      "h index is 0\n",
      "t index is 1\n",
      "o index is 2\n",
      "p index is 3\n",
      "  index is 4\n",
      "s index is 5\n",
      "o index is 2\n",
      "l index is 7\n",
      "u index is 8\n",
      "t index is 1\n",
      "i index is 10\n",
      "o index is 2\n",
      "n index is 12\n"
     ]
    }
   ],
   "source": [
    "str2 = \"htop solution\"\n",
    "for x in str2:\n",
    "    print(x,\"index is\",str2.index(x))"
   ]
  },
  {
   "cell_type": "code",
   "execution_count": 48,
   "id": "5ed066e6",
   "metadata": {},
   "outputs": [
    {
     "name": "stdout",
     "output_type": "stream",
     "text": [
      "1 index is 0\n",
      "2 index is 1\n",
      "3 index is 2\n",
      "4 index is 3\n",
      "5 index is 4\n",
      "6 index is 5\n",
      "7 index is 6\n",
      "8 index is 7\n"
     ]
    }
   ],
   "source": [
    "str2 = 1,2,3,4,5,6,7,8\n",
    "for x in str2:\n",
    "    print(x,\"index is\",str2.index(x))"
   ]
  },
  {
   "cell_type": "code",
   "execution_count": 49,
   "id": "3a90be90",
   "metadata": {},
   "outputs": [
    {
     "name": "stdout",
     "output_type": "stream",
     "text": [
      "1\n",
      "3\n",
      "6\n",
      "10\n",
      "15\n",
      "21\n"
     ]
    }
   ],
   "source": [
    "l = [1,2,3,4,5,6]\n",
    "result = 0\n",
    "for x in l:\n",
    "    result +=x\n",
    "    print(result)"
   ]
  },
  {
   "cell_type": "code",
   "execution_count": 61,
   "id": "94a83be6",
   "metadata": {},
   "outputs": [
    {
     "name": "stdout",
     "output_type": "stream",
     "text": [
      "0\n",
      "0\n",
      "0\n",
      "0\n",
      "0\n",
      "0\n"
     ]
    }
   ],
   "source": [
    "l = [1,2,3,4,5,6]\n",
    "result = 0\n",
    "for x in l:\n",
    "    result *=x\n",
    "    print(result)"
   ]
  },
  {
   "cell_type": "code",
   "execution_count": 1,
   "id": "6978a4bc",
   "metadata": {},
   "outputs": [
    {
     "name": "stdout",
     "output_type": "stream",
     "text": [
      "h index is 0\n",
      "e index is 1\n",
      "l index is 2\n",
      "l index is 2\n",
      "o index is 4\n"
     ]
    }
   ],
   "source": [
    "str1 = \"hello\"\n",
    "for x in str1:\n",
    "    print(x,\"index is\",str1.index(x))"
   ]
  },
  {
   "cell_type": "code",
   "execution_count": 6,
   "id": "bb57e0a2",
   "metadata": {},
   "outputs": [
    {
     "name": "stdout",
     "output_type": "stream",
     "text": [
      "r index of 0\n",
      "g index of 1\n",
      "h index of 2\n",
      "g index of 1\n",
      "b index of 4\n",
      "k index of 5\n",
      "h index of 2\n",
      "h index of 2\n",
      "g index of 1\n",
      "y index of 9\n",
      "g index of 1\n",
      "f index of 11\n",
      "i index of 12\n",
      "v index of 13\n",
      "  index of 14\n",
      "f index of 11\n",
      "f index of 11\n",
      "y index of 9\n",
      "f index of 11\n",
      "t index of 19\n",
      "r index of 0\n",
      "o index of 21\n",
      "i index of 12\n",
      "d index of 23\n",
      "y index of 9\n",
      "t index of 19\n",
      "h index of 2\n",
      "g index of 1\n",
      "y index of 9\n"
     ]
    }
   ],
   "source": [
    "f = \"rghgbkhhgygfiv ffyftroidythgy\"\n",
    "for a in f:\n",
    "    print(a,\"index of\",f.index(a))\n",
    "    "
   ]
  },
  {
   "cell_type": "code",
   "execution_count": 9,
   "id": "045361dd",
   "metadata": {},
   "outputs": [
    {
     "name": "stdout",
     "output_type": "stream",
     "text": [
      "0\n",
      "1\n",
      "2\n",
      "3\n",
      "4\n",
      "5\n",
      "6\n",
      "7\n"
     ]
    }
   ],
   "source": [
    "for y in range(8):\n",
    "    print(y)"
   ]
  },
  {
   "cell_type": "code",
   "execution_count": 12,
   "id": "542da35a",
   "metadata": {},
   "outputs": [
    {
     "name": "stdout",
     "output_type": "stream",
     "text": [
      "0\n",
      "1\n",
      "2\n",
      "3\n"
     ]
    }
   ],
   "source": [
    "for y in range(len(\"htop\")):\n",
    "    print(y)\n"
   ]
  },
  {
   "cell_type": "code",
   "execution_count": 13,
   "id": "8008081d",
   "metadata": {},
   "outputs": [
    {
     "name": "stdout",
     "output_type": "stream",
     "text": [
      "1\n",
      "2\n",
      "3\n"
     ]
    }
   ],
   "source": [
    "list3 = [1,2,3,4,\"ram\",\"htop\"]\n",
    "for a in list3:\n",
    "    print(a)\n",
    "    if a == 3:\n",
    "        break"
   ]
  },
  {
   "cell_type": "code",
   "execution_count": 17,
   "id": "60ac1607",
   "metadata": {},
   "outputs": [
    {
     "name": "stdout",
     "output_type": "stream",
     "text": [
      "ramesh\n",
      "htop\n",
      "yiuwu\n"
     ]
    }
   ],
   "source": [
    "h = [\"ramesh\",\"htop\",\"yiuwu\",\"jsidj\"]\n",
    "for d in h:\n",
    "    print(d)\n",
    "    if d == \"yiuwu\":\n",
    "        break\n",
    "        "
   ]
  },
  {
   "cell_type": "code",
   "execution_count": 15,
   "id": "cf850117",
   "metadata": {},
   "outputs": [
    {
     "name": "stdout",
     "output_type": "stream",
     "text": [
      "1\n",
      "2\n",
      "6\n",
      "24\n",
      "120\n",
      "720\n"
     ]
    }
   ],
   "source": [
    "l = [1,2,3,4,5,6]\n",
    "result = 1\n",
    "for x in l:\n",
    "    result *=x\n",
    "    print(result)"
   ]
  },
  {
   "cell_type": "code",
   "execution_count": 8,
   "id": "1c3f48de",
   "metadata": {},
   "outputs": [
    {
     "name": "stdout",
     "output_type": "stream",
     "text": [
      "true\n"
     ]
    }
   ],
   "source": [
    "x =5\n",
    "y =10\n",
    "if x ==y:\n",
    "    print(\"false\")\n",
    "elif x !=y:\n",
    "    print(\"true\")\n",
    "else:\n",
    "    print(\"fake\")"
   ]
  },
  {
   "cell_type": "code",
   "execution_count": 11,
   "id": "3ef0e4c5",
   "metadata": {},
   "outputs": [
    {
     "name": "stdout",
     "output_type": "stream",
     "text": [
      "hii\n",
      "hii\n",
      "hii\n",
      "hii\n",
      "hii\n",
      "hii\n",
      "hii\n",
      "hii\n",
      "hii\n",
      "hii\n",
      "hii\n",
      "hii\n",
      "hii\n"
     ]
    }
   ],
   "source": [
    "str2 = \"htop solution\"\n",
    "for htop in str2:\n",
    "    print(\"hii\")"
   ]
  },
  {
   "cell_type": "code",
   "execution_count": null,
   "id": "c5f90f8d",
   "metadata": {},
   "outputs": [],
   "source": []
  }
 ],
 "metadata": {
  "kernelspec": {
   "display_name": "Python 3 (ipykernel)",
   "language": "python",
   "name": "python3"
  },
  "language_info": {
   "codemirror_mode": {
    "name": "ipython",
    "version": 3
   },
   "file_extension": ".py",
   "mimetype": "text/x-python",
   "name": "python",
   "nbconvert_exporter": "python",
   "pygments_lexer": "ipython3",
   "version": "3.9.12"
  }
 },
 "nbformat": 4,
 "nbformat_minor": 5
}

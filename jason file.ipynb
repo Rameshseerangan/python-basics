{
 "cells": [
  {
   "cell_type": "code",
   "execution_count": 17,
   "id": "c20cd131",
   "metadata": {},
   "outputs": [],
   "source": [
    "jason1 = {\n",
    "\t\"id\": \"0001\",\n",
    "\t\"type\": \"donut\",\n",
    "\t\"name\": \"Cake\",\n",
    "\t\"ppu\": 0.55,\n",
    "\t\"batters\":\n",
    "\t\t{\n",
    "\t\t\t\"batter\":\n",
    "\t\t\t\t[\n",
    "\t\t\t\t\t{ \"id\": \"1001\", \"type\": \"Regular\" },\n",
    "\t\t\t\t\t{ \"id\": \"1002\", \"type\": \"Chocolate\" },\n",
    "\t\t\t\t\t{ \"id\": \"1003\", \"type\": \"Blueberry\" },\n",
    "\t\t\t\t\t{ \"id\": \"1004\", \"type\": \"Devil's Food\" }\n",
    "\t\t\t\t]\n",
    "\t\t},\n",
    "\t\"topping\":\n",
    "\t\t[\n",
    "\t\t\t{ \"id\": \"5001\", \"type\": \"None\" },\n",
    "\t\t\t{ \"id\": \"5002\", \"type\": \"Glazed\" },\n",
    "\t\t\t{ \"id\": \"5005\", \"type\": \"Sugar\" },\n",
    "\t\t\t{ \"id\": \"5007\", \"type\": \"Powdered Sugar\" },\n",
    "\t\t\t{ \"id\": \"5006\", \"type\": \"Chocolate with Sprinkles\" },\n",
    "\t\t\t{ \"id\": \"5003\", \"type\": \"Chocolate\" },\n",
    "\t\t\t{ \"id\": \"5004\", \"type\": \"Maple\" }\n",
    "\t\t]\n",
    "}"
   ]
  },
  {
   "cell_type": "code",
   "execution_count": 4,
   "id": "28df9253",
   "metadata": {},
   "outputs": [
    {
     "name": "stdout",
     "output_type": "stream",
     "text": [
      "{'roll number': '19351005', 'dept': 'bca', 'name': 'ramesh', 'sec': 'a', 'course': {'subject': [{'sub code': 'bcb2434', 'sub name': 'english'}, {'sub code': 'bcb6345', 'sub name': 'data mining'}, {'sub code': 'bcb6345', 'sub name': 'data mining'}]}, 'lab': [{'sub code': 'bcb6355', 'sub name': 'pyhon'}, {'sub code': 'bcb2534', 'sub name': 'html'}]}\n"
     ]
    }
   ],
   "source": [
    "jason = {\n",
    "\t\"roll number\": \"19351005\",\n",
    "\t\"dept\": \"bca\",\n",
    "\t\"name\": \"ramesh\",\n",
    "\t\"sec\": \"a\",\n",
    "\t\"course\":\n",
    "\t\t{\n",
    "\t\t\t\"subject\":\n",
    "\t\t\t\t[\n",
    "\t\t\t\t\t{ \"sub code\": \"bcb2434\", \"sub name\": \"english\" },\n",
    "\t\t\t\t\t{ \"sub code\": \"bcb6345\", \"sub name\": \"data mining\" },\n",
    "\t\t\t\t\t{ \"sub code\": \"bcb6345\", \"sub name\": \"data mining\" },\n",
    "\t\t\t\t]\n",
    "\t\t},\n",
    "\t\"lab\":\n",
    "\t\t[\n",
    "\t\t\t{ \"sub code\": \"bcb6355\", \"sub name\": \"pyhon\" },\n",
    "\t\t\t{ \"sub code\": \"bcb2534\", \"sub name\": \"html\" },\n",
    "\t\t\t\n",
    "\t\t]\n",
    "}\n",
    "print(jason)"
   ]
  },
  {
   "cell_type": "code",
   "execution_count": 1,
   "id": "0149712a",
   "metadata": {},
   "outputs": [],
   "source": [
    "jason1 = {\n",
    "\t\"id\": \"0001\",\n",
    "\t\"type\": \"donut\",\n",
    "\t\"name\": \"Cake\",\n",
    "\t\"ppu\": 0.55,\n",
    "\t\"batters\":\n",
    "\t\t{\n",
    "\t\t\t\"batter\":\n",
    "\t\t\t\t[\n",
    "\t\t\t\t\t{ \"id\": \"1001\", \"type\": \"Regular\" },\n",
    "\t\t\t\t\t{ \"id\": \"1002\", \"type\": \"Chocolate\" },\n",
    "\t\t\t\t\t{ \"id\": \"1003\", \"type\": \"Blueberry\" },\n",
    "\t\t\t\t\t{ \"id\": \"1004\", \"type\": \"Devil's Food\" }\n",
    "\t\t\t\t]\n",
    "\t\t},\n",
    "\t\"topping\":\n",
    "\t\t[\n",
    "\t\t\t{ \"id\": \"5001\", \"type\": \"None\" },\n",
    "\t\t\t{ \"id\": \"5002\", \"type\": \"Glazed\" },\n",
    "\t\t\t{ \"id\": \"5005\", \"type\": \"Sugar\" },\n",
    "\t\t\t{ \"id\": \"5007\", \"type\": \"Powdered Sugar\" },\n",
    "\t\t\t{ \"id\": \"5006\", \"type\": \"Chocolate with Sprinkles\" },\n",
    "\t\t\t{ \"id\": \"5003\", \"type\": \"Chocolate\" },\n",
    "\t\t\t{ \"id\": \"5004\", \"type\": \"Maple\" }\n",
    "\t\t]\n",
    "}"
   ]
  },
  {
   "cell_type": "code",
   "execution_count": 2,
   "id": "5f7d4c7b",
   "metadata": {},
   "outputs": [
    {
     "name": "stdout",
     "output_type": "stream",
     "text": [
      "{'id': '0001', 'type': 'donut', 'name': 'Cake', 'ppu': 0.55, 'batters': {'batter': [{'id': '1001', 'type': 'Regular'}, {'id': '1002', 'type': 'Chocolate'}, {'id': '1003', 'type': 'Blueberry'}, {'id': '1004', 'type': \"Devil's Food\"}]}, 'topping': [{'id': '5001', 'type': 'None'}, {'id': '5002', 'type': 'Glazed'}, {'id': '5005', 'type': 'Sugar'}, {'id': '5007', 'type': 'Powdered Sugar'}, {'id': '5006', 'type': 'Chocolate with Sprinkles'}, {'id': '5003', 'type': 'Chocolate'}, {'id': '5004', 'type': 'Maple'}]}\n"
     ]
    }
   ],
   "source": [
    "print(jason1)"
   ]
  },
  {
   "cell_type": "code",
   "execution_count": 5,
   "id": "fd06160c",
   "metadata": {},
   "outputs": [
    {
     "name": "stdout",
     "output_type": "stream",
     "text": [
      "{'roll number': '19351005', 'dept': 'bca', 'name': 'ramesh', 'sec': 'a', 'course': {'subject': [{'sub code': 'bcb2434', 'sub name': 'english'}, {'sub code': 'bcb6345', 'sub name': 'data mining'}, {'sub code': 'bcb6345', 'sub name': 'data mining'}]}, 'lab': [{'sub code': 'bcb6355', 'sub name': 'pyhon'}, {'sub code': 'bcb2534', 'sub name': 'html'}]}\n"
     ]
    }
   ],
   "source": [
    "jason = {\n",
    "\t\"roll number\": \"19351005\",\n",
    "\t\"dept\": \"bca\",\n",
    "\t\"name\": \"ramesh\",\n",
    "\t\"sec\": \"a\",\n",
    "\t\"course\":\n",
    "\t\t{\n",
    "\t\t\t\"subject\":\n",
    "\t\t\t\t[\n",
    "\t\t\t\t\t{ \"sub code\": \"bcb2434\", \"sub name\": \"english\" },\n",
    "\t\t\t\t\t{ \"sub code\": \"bcb6345\", \"sub name\": \"data mining\" },\n",
    "\t\t\t\t\t{ \"sub code\": \"bcb6345\", \"sub name\": \"data mining\" },\n",
    "\t\t\t\t]\n",
    "\t\t},\n",
    "\t\"lab\":\n",
    "\t\t[\n",
    "\t\t\t{ \"sub code\": \"bcb6355\", \"sub name\": \"pyhon\" },\n",
    "\t\t\t{ \"sub code\": \"bcb2534\", \"sub name\": \"html\" },\n",
    "\t\t\t\n",
    "\t\t]\n",
    "}\n",
    "print(jason)"
   ]
  },
  {
   "cell_type": "code",
   "execution_count": 4,
   "id": "7656a04d",
   "metadata": {},
   "outputs": [],
   "source": [
    "jeson = (\"course\")"
   ]
  },
  {
   "cell_type": "code",
   "execution_count": 3,
   "id": "72507033",
   "metadata": {},
   "outputs": [],
   "source": [
    "sjason ={\"name\":\"ramesh\",\n",
    "         \"roll no\":19351005,\n",
    "        \"clg\":\"hindustan\"\n",
    "        }\n"
   ]
  },
  {
   "cell_type": "code",
   "execution_count": 8,
   "id": "acf70f1c",
   "metadata": {},
   "outputs": [
    {
     "data": {
      "text/plain": [
       "{'name': 'ramesh', 'roll no': 19351005, 'clg': 'hindustan'}"
      ]
     },
     "execution_count": 8,
     "metadata": {},
     "output_type": "execute_result"
    }
   ],
   "source": [
    "sjason"
   ]
  },
  {
   "cell_type": "code",
   "execution_count": 38,
   "id": "a636436d",
   "metadata": {},
   "outputs": [],
   "source": [
    "sjason = {\"sub\":{\"id\":7676}}\n",
    "\n",
    "       "
   ]
  },
  {
   "cell_type": "code",
   "execution_count": 39,
   "id": "a3d5751a",
   "metadata": {},
   "outputs": [
    {
     "data": {
      "text/plain": [
       "{'roll number': '19351005',\n",
       " 'dept': 'bca',\n",
       " 'name': 'ramesh',\n",
       " 'sec': 'a',\n",
       " 'course': {'subject': [{'sub code': 'bcb2434', 'sub name': 'english'},\n",
       "   {'sub code': 'bcb6345', 'sub name': 'data mining'},\n",
       "   {'sub code': 'bcb6345', 'sub name': 'data mining'}]},\n",
       " 'lab': [{'sub code': 'bcb6355', 'sub name': 'pyhon'},\n",
       "  {'sub code': 'bcb2534', 'sub name': 'html'}]}"
      ]
     },
     "execution_count": 39,
     "metadata": {},
     "output_type": "execute_result"
    }
   ],
   "source": [
    "jason"
   ]
  },
  {
   "cell_type": "code",
   "execution_count": 40,
   "id": "46747c40",
   "metadata": {},
   "outputs": [],
   "source": [
    "jason0 = {\n",
    "\t\"roll number\": \"19351005\",\n",
    "\t\"dept\": \"bca\",\n",
    "\t\"name\": \"ramesh\",\n",
    "\t\"sec\": \"a\",\n",
    "\t\"course\":\n",
    "\t\t{\n",
    "\t\t\t\"subject\":\n",
    "\t\t\t\t[\n",
    "\t\t\t\t\t{ \"sub code\": \"bcb2434\", \"sub name\": \"english\" },\n",
    "\t\t\t\t\t{ \"sub code\": \"bcb6345\", \"sub name\": \"data mining\" },\n",
    "\t\t\t\t\t{ \"sub code\": \"bcb6345\", \"sub name\": \"data mining\" },\n",
    "\t\t\t\t]\n",
    "\t\t},\n",
    "\t\"lab\":\n",
    "\t\t[\n",
    "\t\t\t{ \"sub code\": \"bcb6355\", \"sub name\": \"pyhon\" },\n",
    "\t\t\t{ \"sub code\": \"bcb2534\", \"sub name\": \"html\" },\n",
    "\t\t\t\n",
    "\t\t]\n",
    "}\n"
   ]
  },
  {
   "cell_type": "code",
   "execution_count": 41,
   "id": "348eda78",
   "metadata": {},
   "outputs": [
    {
     "data": {
      "text/plain": [
       "{'roll number': '19351005',\n",
       " 'dept': 'bca',\n",
       " 'name': 'ramesh',\n",
       " 'sec': 'a',\n",
       " 'course': {'subject': [{'sub code': 'bcb2434', 'sub name': 'english'},\n",
       "   {'sub code': 'bcb6345', 'sub name': 'data mining'},\n",
       "   {'sub code': 'bcb6345', 'sub name': 'data mining'}]},\n",
       " 'lab': [{'sub code': 'bcb6355', 'sub name': 'pyhon'},\n",
       "  {'sub code': 'bcb2534', 'sub name': 'html'}]}"
      ]
     },
     "execution_count": 41,
     "metadata": {},
     "output_type": "execute_result"
    }
   ],
   "source": [
    "jason0"
   ]
  },
  {
   "cell_type": "code",
   "execution_count": 43,
   "id": "0423cdd7",
   "metadata": {},
   "outputs": [
    {
     "data": {
      "text/plain": [
       "{'subject': [{'sub code': 'bcb2434', 'sub name': 'english'},\n",
       "  {'sub code': 'bcb6345', 'sub name': 'data mining'},\n",
       "  {'sub code': 'bcb6345', 'sub name': 'data mining'}]}"
      ]
     },
     "execution_count": 43,
     "metadata": {},
     "output_type": "execute_result"
    }
   ],
   "source": [
    "jason0.get(\"course\")"
   ]
  },
  {
   "cell_type": "code",
   "execution_count": 45,
   "id": "b4dc8cda",
   "metadata": {},
   "outputs": [
    {
     "data": {
      "text/plain": [
       "[{'sub code': 'bcb2434', 'sub name': 'english'},\n",
       " {'sub code': 'bcb6345', 'sub name': 'data mining'},\n",
       " {'sub code': 'bcb6345', 'sub name': 'data mining'}]"
      ]
     },
     "execution_count": 45,
     "metadata": {},
     "output_type": "execute_result"
    }
   ],
   "source": [
    "jason0.get(\"course\").get(\"subject\")"
   ]
  },
  {
   "cell_type": "code",
   "execution_count": 54,
   "id": "2dc4b168",
   "metadata": {},
   "outputs": [
    {
     "ename": "NameError",
     "evalue": "name 'subject' is not defined",
     "output_type": "error",
     "traceback": [
      "\u001b[1;31m---------------------------------------------------------------------------\u001b[0m",
      "\u001b[1;31mNameError\u001b[0m                                 Traceback (most recent call last)",
      "Input \u001b[1;32mIn [54]\u001b[0m, in \u001b[0;36m<cell line: 1>\u001b[1;34m()\u001b[0m\n\u001b[1;32m----> 1\u001b[0m jason[\u001b[43msubject\u001b[49m][\u001b[38;5;241m0\u001b[39m]\n",
      "\u001b[1;31mNameError\u001b[0m: name 'subject' is not defined"
     ]
    }
   ],
   "source": [
    "jason[subject][0]"
   ]
  },
  {
   "cell_type": "code",
   "execution_count": 5,
   "id": "bc2702b1",
   "metadata": {},
   "outputs": [],
   "source": [
    "final = {\n",
    "\t\"id\": \"0001\",\n",
    "\t\"type\": \"donut\",\n",
    "\t\"name\": \"Cake\",\n",
    "\t\"ppu\": 0.55,\n",
    "\t\"batters\":\n",
    "\t\t{\n",
    "\t\t\t\"batter\":\n",
    "\t\t\t\t[\n",
    "\t\t\t\t\t{ \"id\": \"1001\", \"type\": \"Regular\" },\n",
    "\t\t\t\t\t{ \"id\": \"1002\", \"type\": \"Chocolate\" },\n",
    "\t\t\t\t\t{ \"id\": \"1003\", \"type\": \"Blueberry\" },\n",
    "\t\t\t\t\t{ \"id\": \"1004\", \"type\": \"Devil's Food\" }\n",
    "\t\t\t\t]\n",
    "\t\t},\n",
    "\t\"topping\":\n",
    "\t\t[\n",
    "\t\t\t{ \"id\": \"5001\", \"type\": \"None\" },\n",
    "\t\t\t{ \"id\": \"5002\", \"type\": \"Glazed\" },\n",
    "\t\t\t{ \"id\": \"5005\", \"type\": \"Sugar\" },\n",
    "\t\t\t{ \"id\": \"5007\", \"type\": \"Powdered Sugar\" },\n",
    "\t\t\t{ \"id\": \"5006\", \"type\": \"Chocolate with Sprinkles\" },\n",
    "\t\t\t{ \"id\": \"5003\", \"type\": \"Chocolate\" },\n",
    "\t\t\t{ \"id\": \"5004\", \"type\": \"Maple\" }\n",
    "\t\t]\n",
    "}"
   ]
  },
  {
   "cell_type": "code",
   "execution_count": 6,
   "id": "98db49d8",
   "metadata": {},
   "outputs": [
    {
     "data": {
      "text/plain": [
       "{'id': '0001',\n",
       " 'type': 'donut',\n",
       " 'name': 'Cake',\n",
       " 'ppu': 0.55,\n",
       " 'batters': {'batter': [{'id': '1001', 'type': 'Regular'},\n",
       "   {'id': '1002', 'type': 'Chocolate'},\n",
       "   {'id': '1003', 'type': 'Blueberry'},\n",
       "   {'id': '1004', 'type': \"Devil's Food\"}]},\n",
       " 'topping': [{'id': '5001', 'type': 'None'},\n",
       "  {'id': '5002', 'type': 'Glazed'},\n",
       "  {'id': '5005', 'type': 'Sugar'},\n",
       "  {'id': '5007', 'type': 'Powdered Sugar'},\n",
       "  {'id': '5006', 'type': 'Chocolate with Sprinkles'},\n",
       "  {'id': '5003', 'type': 'Chocolate'},\n",
       "  {'id': '5004', 'type': 'Maple'}]}"
      ]
     },
     "execution_count": 6,
     "metadata": {},
     "output_type": "execute_result"
    }
   ],
   "source": [
    "final"
   ]
  },
  {
   "cell_type": "code",
   "execution_count": 8,
   "id": "7a2e8915",
   "metadata": {},
   "outputs": [
    {
     "data": {
      "text/plain": [
       "{'batter': [{'id': '1001', 'type': 'Regular'},\n",
       "  {'id': '1002', 'type': 'Chocolate'},\n",
       "  {'id': '1003', 'type': 'Blueberry'},\n",
       "  {'id': '1004', 'type': \"Devil's Food\"}]}"
      ]
     },
     "execution_count": 8,
     "metadata": {},
     "output_type": "execute_result"
    }
   ],
   "source": [
    "final[\"batters\"]"
   ]
  },
  {
   "cell_type": "code",
   "execution_count": 9,
   "id": "400949b6",
   "metadata": {},
   "outputs": [
    {
     "data": {
      "text/plain": [
       "[{'id': '1001', 'type': 'Regular'},\n",
       " {'id': '1002', 'type': 'Chocolate'},\n",
       " {'id': '1003', 'type': 'Blueberry'},\n",
       " {'id': '1004', 'type': \"Devil's Food\"}]"
      ]
     },
     "execution_count": 9,
     "metadata": {},
     "output_type": "execute_result"
    }
   ],
   "source": [
    "final[\"batters\"][\"batter\"]"
   ]
  },
  {
   "cell_type": "code",
   "execution_count": 13,
   "id": "141991b2",
   "metadata": {},
   "outputs": [
    {
     "data": {
      "text/plain": [
       "'1001'"
      ]
     },
     "execution_count": 13,
     "metadata": {},
     "output_type": "execute_result"
    }
   ],
   "source": [
    "final[\"batters\"][\"batter\"][0][\"id\"]"
   ]
  },
  {
   "cell_type": "code",
   "execution_count": 15,
   "id": "c0ee65a6",
   "metadata": {},
   "outputs": [
    {
     "data": {
      "text/plain": [
       "'1002'"
      ]
     },
     "execution_count": 15,
     "metadata": {},
     "output_type": "execute_result"
    }
   ],
   "source": [
    "final[\"batters\"][\"batter\"][1][\"id\"]"
   ]
  },
  {
   "cell_type": "code",
   "execution_count": 16,
   "id": "ac27c3c2",
   "metadata": {},
   "outputs": [
    {
     "data": {
      "text/plain": [
       "'Chocolate'"
      ]
     },
     "execution_count": 16,
     "metadata": {},
     "output_type": "execute_result"
    }
   ],
   "source": [
    "final[\"batters\"][\"batter\"][1][\"type\"]"
   ]
  },
  {
   "cell_type": "code",
   "execution_count": 18,
   "id": "db817deb",
   "metadata": {},
   "outputs": [
    {
     "data": {
      "text/plain": [
       "[{'id': '5001', 'type': 'None'},\n",
       " {'id': '5002', 'type': 'Glazed'},\n",
       " {'id': '5005', 'type': 'Sugar'},\n",
       " {'id': '5007', 'type': 'Powdered Sugar'},\n",
       " {'id': '5006', 'type': 'Chocolate with Sprinkles'},\n",
       " {'id': '5003', 'type': 'Chocolate'},\n",
       " {'id': '5004', 'type': 'Maple'}]"
      ]
     },
     "execution_count": 18,
     "metadata": {},
     "output_type": "execute_result"
    }
   ],
   "source": [
    "final[\"topping\"]"
   ]
  },
  {
   "cell_type": "code",
   "execution_count": 19,
   "id": "03ccc1b6",
   "metadata": {},
   "outputs": [
    {
     "data": {
      "text/plain": [
       "'5001'"
      ]
     },
     "execution_count": 19,
     "metadata": {},
     "output_type": "execute_result"
    }
   ],
   "source": [
    "final[\"topping\"][0][\"id\"]"
   ]
  },
  {
   "cell_type": "code",
   "execution_count": 20,
   "id": "65da8cdf",
   "metadata": {},
   "outputs": [
    {
     "data": {
      "text/plain": [
       "'Chocolate with Sprinkles'"
      ]
     },
     "execution_count": 20,
     "metadata": {},
     "output_type": "execute_result"
    }
   ],
   "source": [
    "final[\"topping\"][4][\"type\"]"
   ]
  },
  {
   "cell_type": "code",
   "execution_count": null,
   "id": "1cf82678",
   "metadata": {},
   "outputs": [],
   "source": []
  }
 ],
 "metadata": {
  "kernelspec": {
   "display_name": "Python 3 (ipykernel)",
   "language": "python",
   "name": "python3"
  },
  "language_info": {
   "codemirror_mode": {
    "name": "ipython",
    "version": 3
   },
   "file_extension": ".py",
   "mimetype": "text/x-python",
   "name": "python",
   "nbconvert_exporter": "python",
   "pygments_lexer": "ipython3",
   "version": "3.9.12"
  }
 },
 "nbformat": 4,
 "nbformat_minor": 5
}

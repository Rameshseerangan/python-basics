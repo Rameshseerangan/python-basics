{
 "cells": [
  {
   "cell_type": "code",
   "execution_count": 8,
   "id": "80b1ea6b",
   "metadata": {},
   "outputs": [
    {
     "name": "stdout",
     "output_type": "stream",
     "text": [
      "python is a high-level, general-purpose programming language. Its design philosophy emphasizes code readability with the use of significant indentation. Python is dynamically-typed and garbage-collected. It supports multiple programming paradigms, including structured, object-oriented and functional programming.\n"
     ]
    }
   ],
   "source": [
    "str1 = \"\"\"python is a high-level, general-purpose programming language. Its design philosophy emphasizes code readability with the use of significant indentation. Python is dynamically-typed and garbage-collected. It supports multiple programming paradigms, including structured, object-oriented and functional programming.\"\"\"\n",
    "print(str1)"
   ]
  },
  {
   "cell_type": "code",
   "execution_count": 9,
   "id": "52b53aa9",
   "metadata": {},
   "outputs": [
    {
     "data": {
      "text/plain": [
       "0"
      ]
     },
     "execution_count": 9,
     "metadata": {},
     "output_type": "execute_result"
    }
   ],
   "source": [
    "str1.find(\"python\")"
   ]
  },
  {
   "cell_type": "code",
   "execution_count": 10,
   "id": "59e7e93a",
   "metadata": {},
   "outputs": [
    {
     "data": {
      "text/plain": [
       "40"
      ]
     },
     "execution_count": 10,
     "metadata": {},
     "output_type": "execute_result"
    }
   ],
   "source": [
    "str1.find(\"programming\")"
   ]
  },
  {
   "cell_type": "code",
   "execution_count": 11,
   "id": "fd11268e",
   "metadata": {},
   "outputs": [
    {
     "data": {
      "text/plain": [
       "1"
      ]
     },
     "execution_count": 11,
     "metadata": {},
     "output_type": "execute_result"
    }
   ],
   "source": [
    "str1.count(\"python\")"
   ]
  },
  {
   "cell_type": "code",
   "execution_count": 12,
   "id": "00941be5",
   "metadata": {},
   "outputs": [
    {
     "data": {
      "text/plain": [
       "3"
      ]
     },
     "execution_count": 12,
     "metadata": {},
     "output_type": "execute_result"
    }
   ],
   "source": [
    "str1.count(\"programming\")"
   ]
  },
  {
   "cell_type": "code",
   "execution_count": 13,
   "id": "b6196078",
   "metadata": {},
   "outputs": [],
   "source": [
    "import re\n",
    "#regular expression"
   ]
  },
  {
   "cell_type": "code",
   "execution_count": 14,
   "id": "75403cac",
   "metadata": {},
   "outputs": [
    {
     "data": {
      "text/plain": [
       "['python']"
      ]
     },
     "execution_count": 14,
     "metadata": {},
     "output_type": "execute_result"
    }
   ],
   "source": [
    "re.findall(\"python\",str1)"
   ]
  },
  {
   "cell_type": "code",
   "execution_count": 15,
   "id": "07d41925",
   "metadata": {},
   "outputs": [
    {
     "data": {
      "text/plain": [
       "'python is a high-level, general-purpose programming language. Its design philosophy emphasizes code readability with the use of significant indentation. Python is dynamically-typed and garbage-collected. It supports multiple programming paradigms, including structured, object-oriented and functional programming.'"
      ]
     },
     "execution_count": 15,
     "metadata": {},
     "output_type": "execute_result"
    }
   ],
   "source": [
    "str1"
   ]
  },
  {
   "cell_type": "code",
   "execution_count": 16,
   "id": "23e93e76",
   "metadata": {},
   "outputs": [
    {
     "data": {
      "text/plain": [
       "'java is a high-level, general-purpose programming language. Its design philosophy emphasizes code readability with the use of significant indentation. Python is dynamically-typed and garbage-collected. It supports multiple programming paradigms, including structured, object-oriented and functional programming.'"
      ]
     },
     "execution_count": 16,
     "metadata": {},
     "output_type": "execute_result"
    }
   ],
   "source": [
    "re.sub(\"python\",\"java\",str1)"
   ]
  },
  {
   "cell_type": "code",
   "execution_count": 17,
   "id": "ae64685a",
   "metadata": {},
   "outputs": [
    {
     "data": {
      "text/plain": [
       "<re.Match object; span=(0, 6), match='python'>"
      ]
     },
     "execution_count": 17,
     "metadata": {},
     "output_type": "execute_result"
    }
   ],
   "source": [
    "re.search(\"python\",str1)"
   ]
  },
  {
   "cell_type": "code",
   "execution_count": 18,
   "id": "db258330",
   "metadata": {},
   "outputs": [
    {
     "data": {
      "text/plain": [
       "<re.Match object; span=(40, 52), match='programming '>"
      ]
     },
     "execution_count": 18,
     "metadata": {},
     "output_type": "execute_result"
    }
   ],
   "source": [
    "re.search(\"programming \",str1)"
   ]
  },
  {
   "cell_type": "code",
   "execution_count": 19,
   "id": "321b5f07",
   "metadata": {},
   "outputs": [
    {
     "data": {
      "text/plain": [
       "['python is a high-level',\n",
       " ' general-purpose programming language. Its design philosophy emphasizes code readability with the use of significant indentation. Python is dynamically-typed and garbage-collected. It supports multiple programming paradigms',\n",
       " ' including structured',\n",
       " ' object-oriented and functional programming.']"
      ]
     },
     "execution_count": 19,
     "metadata": {},
     "output_type": "execute_result"
    }
   ],
   "source": [
    "re.split(\",\",str1)"
   ]
  },
  {
   "cell_type": "code",
   "execution_count": 20,
   "id": "cbbdf869",
   "metadata": {},
   "outputs": [
    {
     "data": {
      "text/plain": [
       "'python is a high-level'"
      ]
     },
     "execution_count": 20,
     "metadata": {},
     "output_type": "execute_result"
    }
   ],
   "source": [
    "re.split(\",\",str1)[0]"
   ]
  },
  {
   "cell_type": "code",
   "execution_count": 21,
   "id": "2732132f",
   "metadata": {},
   "outputs": [
    {
     "data": {
      "text/plain": [
       "['py', 'hy', 'ty', 'Py', 'dy', 'ly', 'ty']"
      ]
     },
     "execution_count": 21,
     "metadata": {},
     "output_type": "execute_result"
    }
   ],
   "source": [
    "#wild-card operation\n",
    "re.findall(\".y\",str1)"
   ]
  },
  {
   "cell_type": "code",
   "execution_count": 22,
   "id": "10838737",
   "metadata": {},
   "outputs": [
    {
     "data": {
      "text/plain": [
       "['h-le',\n",
       " ', ge',\n",
       " 'pose',\n",
       " 'uage',\n",
       " 's de',\n",
       " 'hy e',\n",
       " 'size',\n",
       " 'code',\n",
       " ' the',\n",
       " ' use',\n",
       " 'inde',\n",
       " 'type',\n",
       " 'bage',\n",
       " 'olle',\n",
       " 'iple',\n",
       " 'ture',\n",
       " 'obje',\n",
       " 'orie']"
      ]
     },
     "execution_count": 22,
     "metadata": {},
     "output_type": "execute_result"
    }
   ],
   "source": [
    "re.findall(\"...e\",str1)"
   ]
  },
  {
   "cell_type": "code",
   "execution_count": 23,
   "id": "d95509d1",
   "metadata": {},
   "outputs": [
    {
     "data": {
      "text/plain": [
       "['',\n",
       " '',\n",
       " '',\n",
       " '',\n",
       " 'o',\n",
       " '',\n",
       " '',\n",
       " '',\n",
       " '',\n",
       " '',\n",
       " '',\n",
       " '',\n",
       " '',\n",
       " '',\n",
       " '',\n",
       " '',\n",
       " '',\n",
       " '',\n",
       " '',\n",
       " '',\n",
       " '',\n",
       " '',\n",
       " '',\n",
       " '',\n",
       " '',\n",
       " '',\n",
       " '',\n",
       " '',\n",
       " '',\n",
       " '',\n",
       " '',\n",
       " '',\n",
       " '',\n",
       " '',\n",
       " '',\n",
       " '',\n",
       " 'o',\n",
       " '',\n",
       " '',\n",
       " '',\n",
       " '',\n",
       " '',\n",
       " 'o',\n",
       " '',\n",
       " '',\n",
       " '',\n",
       " '',\n",
       " '',\n",
       " '',\n",
       " '',\n",
       " '',\n",
       " '',\n",
       " '',\n",
       " '',\n",
       " '',\n",
       " '',\n",
       " '',\n",
       " '',\n",
       " '',\n",
       " '',\n",
       " '',\n",
       " '',\n",
       " '',\n",
       " '',\n",
       " '',\n",
       " '',\n",
       " '',\n",
       " '',\n",
       " '',\n",
       " '',\n",
       " '',\n",
       " '',\n",
       " '',\n",
       " '',\n",
       " '',\n",
       " '',\n",
       " '',\n",
       " 'o',\n",
       " '',\n",
       " 'o',\n",
       " '',\n",
       " '',\n",
       " '',\n",
       " '',\n",
       " '',\n",
       " '',\n",
       " '',\n",
       " '',\n",
       " '',\n",
       " '',\n",
       " '',\n",
       " '',\n",
       " '',\n",
       " '',\n",
       " '',\n",
       " '',\n",
       " 'o',\n",
       " '',\n",
       " '',\n",
       " '',\n",
       " '',\n",
       " '',\n",
       " '',\n",
       " '',\n",
       " '',\n",
       " '',\n",
       " '',\n",
       " '',\n",
       " '',\n",
       " '',\n",
       " '',\n",
       " '',\n",
       " '',\n",
       " '',\n",
       " '',\n",
       " '',\n",
       " '',\n",
       " '',\n",
       " '',\n",
       " '',\n",
       " '',\n",
       " '',\n",
       " '',\n",
       " '',\n",
       " '',\n",
       " 'o',\n",
       " '',\n",
       " '',\n",
       " '',\n",
       " '',\n",
       " '',\n",
       " '',\n",
       " '',\n",
       " '',\n",
       " '',\n",
       " '',\n",
       " '',\n",
       " '',\n",
       " '',\n",
       " '',\n",
       " '',\n",
       " '',\n",
       " '',\n",
       " '',\n",
       " '',\n",
       " '',\n",
       " '',\n",
       " '',\n",
       " '',\n",
       " 'o',\n",
       " '',\n",
       " '',\n",
       " '',\n",
       " '',\n",
       " '',\n",
       " '',\n",
       " '',\n",
       " 'o',\n",
       " '',\n",
       " '',\n",
       " '',\n",
       " '',\n",
       " '',\n",
       " '',\n",
       " '',\n",
       " '',\n",
       " '',\n",
       " '',\n",
       " '',\n",
       " '',\n",
       " '',\n",
       " '',\n",
       " '',\n",
       " '',\n",
       " '',\n",
       " '',\n",
       " '',\n",
       " '',\n",
       " '',\n",
       " '',\n",
       " '',\n",
       " '',\n",
       " '',\n",
       " '',\n",
       " '',\n",
       " '',\n",
       " '',\n",
       " '',\n",
       " '',\n",
       " '',\n",
       " '',\n",
       " '',\n",
       " '',\n",
       " '',\n",
       " 'o',\n",
       " '',\n",
       " '',\n",
       " '',\n",
       " '',\n",
       " '',\n",
       " '',\n",
       " '',\n",
       " '',\n",
       " '',\n",
       " '',\n",
       " '',\n",
       " '',\n",
       " '',\n",
       " '',\n",
       " '',\n",
       " '',\n",
       " 'o',\n",
       " '',\n",
       " '',\n",
       " '',\n",
       " '',\n",
       " '',\n",
       " '',\n",
       " '',\n",
       " '',\n",
       " '',\n",
       " '',\n",
       " '',\n",
       " '',\n",
       " '',\n",
       " '',\n",
       " '',\n",
       " 'o',\n",
       " '',\n",
       " '',\n",
       " '',\n",
       " '',\n",
       " '',\n",
       " '',\n",
       " '',\n",
       " '',\n",
       " '',\n",
       " '',\n",
       " '',\n",
       " '',\n",
       " '',\n",
       " '',\n",
       " '',\n",
       " '',\n",
       " '',\n",
       " '',\n",
       " '',\n",
       " '',\n",
       " '',\n",
       " '',\n",
       " '',\n",
       " '',\n",
       " '',\n",
       " '',\n",
       " '',\n",
       " '',\n",
       " '',\n",
       " '',\n",
       " '',\n",
       " '',\n",
       " '',\n",
       " '',\n",
       " '',\n",
       " '',\n",
       " '',\n",
       " '',\n",
       " '',\n",
       " '',\n",
       " '',\n",
       " '',\n",
       " 'o',\n",
       " '',\n",
       " '',\n",
       " '',\n",
       " '',\n",
       " '',\n",
       " '',\n",
       " 'o',\n",
       " '',\n",
       " '',\n",
       " '',\n",
       " '',\n",
       " '',\n",
       " '',\n",
       " '',\n",
       " '',\n",
       " '',\n",
       " '',\n",
       " '',\n",
       " '',\n",
       " '',\n",
       " '',\n",
       " '',\n",
       " '',\n",
       " '',\n",
       " '',\n",
       " 'o',\n",
       " '',\n",
       " '',\n",
       " '',\n",
       " '',\n",
       " '',\n",
       " '',\n",
       " 'o',\n",
       " '',\n",
       " '',\n",
       " '',\n",
       " '',\n",
       " '',\n",
       " '',\n",
       " '',\n",
       " '',\n",
       " '',\n",
       " '']"
      ]
     },
     "execution_count": 23,
     "metadata": {},
     "output_type": "execute_result"
    }
   ],
   "source": [
    "#zero-or-move(*)\n",
    "\n",
    "re.findall(\"o*\",str1)"
   ]
  },
  {
   "cell_type": "code",
   "execution_count": 24,
   "id": "15416cba",
   "metadata": {},
   "outputs": [
    {
     "data": {
      "text/plain": [
       "'python is a high-level, general-purpose programming language. Its design philosophy emphasizes code readability with the use of significant indentation. Python is dynamically-typed and garbage-collected. It supports multiple programming paradigms, including structured, object-oriented and functional programming.'"
      ]
     },
     "execution_count": 24,
     "metadata": {},
     "output_type": "execute_result"
    }
   ],
   "source": [
    "str1"
   ]
  },
  {
   "cell_type": "code",
   "execution_count": 25,
   "id": "93a7e3f5",
   "metadata": {},
   "outputs": [
    {
     "data": {
      "text/plain": [
       "['on is a high-level, general-purpose programming language. Its design philosophy emphasizes code readability with the use of significant indentation. Python is dynamically-typed and garbage-collected. It supports multiple programming paradigms, including structured, object-oriented and functional programming.']"
      ]
     },
     "execution_count": 25,
     "metadata": {},
     "output_type": "execute_result"
    }
   ],
   "source": [
    "re.findall(\"o.*\",str1)"
   ]
  },
  {
   "cell_type": "code",
   "execution_count": 26,
   "id": "7a40e829",
   "metadata": {},
   "outputs": [
    {
     "data": {
      "text/plain": [
       "['mming language. Its design philosophy emphasizes code readability with the use of significant indentation. Python is dynamically-typed and garbage-collected. It supports multiple programming paradigms, including structured, object-oriented and functional programming.']"
      ]
     },
     "execution_count": 26,
     "metadata": {},
     "output_type": "execute_result"
    }
   ],
   "source": [
    "re.findall(\"mm.*\",str1)"
   ]
  },
  {
   "cell_type": "code",
   "execution_count": 27,
   "id": "452a8f37",
   "metadata": {},
   "outputs": [
    {
     "data": {
      "text/plain": [
       "'python is a high-level, general-purpose programming language. Its design philosophy emphasizes code readability with the use of significant indentation. Python is dynamically-typed and garbage-collected. It supports multiple programming paradigms, including structured, object-oriented and functional programming.'"
      ]
     },
     "execution_count": 27,
     "metadata": {},
     "output_type": "execute_result"
    }
   ],
   "source": [
    "str1"
   ]
  },
  {
   "cell_type": "code",
   "execution_count": 28,
   "id": "5dc16bf1",
   "metadata": {},
   "outputs": [
    {
     "data": {
      "text/plain": [
       "['is a high-level, general-purpose programming language']"
      ]
     },
     "execution_count": 28,
     "metadata": {},
     "output_type": "execute_result"
    }
   ],
   "source": [
    "re.findall(\"is.*language\",str1)"
   ]
  },
  {
   "cell_type": "code",
   "execution_count": 29,
   "id": "cc0037d4",
   "metadata": {},
   "outputs": [
    {
     "name": "stdout",
     "output_type": "stream",
     "text": [
      "code python is a high-level, general-purpose programming language. Its design philosophy emphasizes code readability with the use of significant indentation. Python is dynamically-typed and garbage-collected. It supports multiple programming paradigms, including structured, object-oriented and functional programming.\n"
     ]
    }
   ],
   "source": [
    "#zero-or-one(?)\n",
    "str1 = \"\"\"code python is a high-level, general-purpose programming language. Its design philosophy emphasizes code readability with the use of significant indentation. Python is dynamically-typed and garbage-collected. It supports multiple programming paradigms, including structured, object-oriented and functional programming.\"\"\"\n",
    "print(str1)"
   ]
  },
  {
   "cell_type": "code",
   "execution_count": 30,
   "id": "f289ac41",
   "metadata": {},
   "outputs": [
    {
     "data": {
      "text/plain": [
       "['code', 'code']"
      ]
     },
     "execution_count": 30,
     "metadata": {},
     "output_type": "execute_result"
    }
   ],
   "source": [
    "re.findall(\"code?\",str1)"
   ]
  },
  {
   "cell_type": "code",
   "execution_count": 31,
   "id": "af149295",
   "metadata": {},
   "outputs": [
    {
     "data": {
      "text/plain": [
       "['code ', 'code ']"
      ]
     },
     "execution_count": 31,
     "metadata": {},
     "output_type": "execute_result"
    }
   ],
   "source": [
    "re.findall(\"code.?\",str1)"
   ]
  },
  {
   "cell_type": "code",
   "execution_count": 32,
   "id": "2354c29c",
   "metadata": {},
   "outputs": [
    {
     "data": {
      "text/plain": [
       "['code', 'code']"
      ]
     },
     "execution_count": 32,
     "metadata": {},
     "output_type": "execute_result"
    }
   ],
   "source": [
    "re.findall(\"cod.?\",str1)"
   ]
  },
  {
   "cell_type": "code",
   "execution_count": 33,
   "id": "6202d442",
   "metadata": {},
   "outputs": [
    {
     "data": {
      "text/plain": [
       "['pyt']"
      ]
     },
     "execution_count": 33,
     "metadata": {},
     "output_type": "execute_result"
    }
   ],
   "source": [
    "re.findall(\"py.?\",str1)"
   ]
  },
  {
   "cell_type": "code",
   "execution_count": 34,
   "id": "9bcea4ac",
   "metadata": {},
   "outputs": [
    {
     "data": {
      "text/plain": [
       "['python is a high-level, general-purpose programming language. Its design philosophy emphasizes code readability with the use of significant indentation. Python is dynamically-typed and garbage-collected. It supports multiple programming paradigms, including structured, object-oriented and functional programming.']"
      ]
     },
     "execution_count": 34,
     "metadata": {},
     "output_type": "execute_result"
    }
   ],
   "source": [
    "re.findall(\"py.+\",str1)"
   ]
  },
  {
   "cell_type": "code",
   "execution_count": 35,
   "id": "b3d2abdd",
   "metadata": {},
   "outputs": [
    {
     "data": {
      "text/plain": [
       "['py']"
      ]
     },
     "execution_count": 35,
     "metadata": {},
     "output_type": "execute_result"
    }
   ],
   "source": [
    "re.findall(\"py+\",str1)"
   ]
  },
  {
   "cell_type": "code",
   "execution_count": 36,
   "id": "e398d42f",
   "metadata": {},
   "outputs": [
    {
     "data": {
      "text/plain": [
       "['purpose programming language. Its design philosophy emphasizes code readability with the use of significant indentation. Python is dynamically-typed and garbage-collected. It supports multiple programming paradigms, including structured, object-oriented and functional programming.']"
      ]
     },
     "execution_count": 36,
     "metadata": {},
     "output_type": "execute_result"
    }
   ],
   "source": [
    "re.findall(\"pur.+\",str1)"
   ]
  },
  {
   "cell_type": "code",
   "execution_count": 37,
   "id": "30f67798",
   "metadata": {},
   "outputs": [
    {
     "data": {
      "text/plain": [
       "['ca,cat,catt,cattt']"
      ]
     },
     "execution_count": 37,
     "metadata": {},
     "output_type": "execute_result"
    }
   ],
   "source": [
    "str2 = \"ca,cat,catt,cattt\"\n",
    "re.findall(\"ca.+\",str2)"
   ]
  },
  {
   "cell_type": "code",
   "execution_count": 38,
   "id": "42d4cfc1",
   "metadata": {},
   "outputs": [
    {
     "data": {
      "text/plain": [
       "['ca,', 'cat', 'cat', 'cat']"
      ]
     },
     "execution_count": 38,
     "metadata": {},
     "output_type": "execute_result"
    }
   ],
   "source": [
    "re.findall(\"ca.?\",str2)"
   ]
  },
  {
   "cell_type": "code",
   "execution_count": 39,
   "id": "1f1da688",
   "metadata": {},
   "outputs": [
    {
     "data": {
      "text/plain": [
       "['ca,', 'car', 'can', 'cam']"
      ]
     },
     "execution_count": 39,
     "metadata": {},
     "output_type": "execute_result"
    }
   ],
   "source": [
    "str3 = \"ca,car,can,camera\"\n",
    "re.findall(\"ca.?\",str3)"
   ]
  },
  {
   "cell_type": "code",
   "execution_count": 40,
   "id": "18c2bfd8",
   "metadata": {},
   "outputs": [
    {
     "data": {
      "text/plain": [
       "['ca,c', 'can,', 'came']"
      ]
     },
     "execution_count": 40,
     "metadata": {},
     "output_type": "execute_result"
    }
   ],
   "source": [
    "re.findall(\"ca..?\",str3)"
   ]
  },
  {
   "cell_type": "code",
   "execution_count": 41,
   "id": "8af5feb2",
   "metadata": {},
   "outputs": [
    {
     "name": "stdout",
     "output_type": "stream",
     "text": [
      "python is a high-level, general-purpose programming language. Its design philosophy emphasizes code readability with the use of significant indentation. Python is dynamically-typed and garbage-collected. It supports multiple programming paradigms, including structured, object-oriented and functional programming.\n"
     ]
    }
   ],
   "source": [
    "str1 = \"\"\"python is a high-level, general-purpose programming language. Its design philosophy emphasizes code readability with the use of significant indentation. Python is dynamically-typed and garbage-collected. It supports multiple programming paradigms, including structured, object-oriented and functional programming.\"\"\"\n",
    "print(str1)"
   ]
  },
  {
   "cell_type": "code",
   "execution_count": 42,
   "id": "15dc26c2",
   "metadata": {},
   "outputs": [
    {
     "data": {
      "text/plain": [
       "['python']"
      ]
     },
     "execution_count": 42,
     "metadata": {},
     "output_type": "execute_result"
    }
   ],
   "source": [
    "#starts  of str (^)\n",
    "re.findall(\"^\\s*python\",str1)"
   ]
  },
  {
   "cell_type": "code",
   "execution_count": 43,
   "id": "f844899f",
   "metadata": {},
   "outputs": [
    {
     "data": {
      "text/plain": [
       "['programming.']"
      ]
     },
     "execution_count": 43,
     "metadata": {},
     "output_type": "execute_result"
    }
   ],
   "source": [
    "#end of str($)\n",
    "re.findall(\"programming.$\",str1)"
   ]
  },
  {
   "cell_type": "code",
   "execution_count": 44,
   "id": "6d975f78",
   "metadata": {},
   "outputs": [
    {
     "data": {
      "text/plain": [
       "['python']"
      ]
     },
     "execution_count": 44,
     "metadata": {},
     "output_type": "execute_result"
    }
   ],
   "source": [
    "#or operator \n",
    "re.findall(\"python|programing\",str1)"
   ]
  },
  {
   "cell_type": "code",
   "execution_count": 45,
   "id": "b73d5858",
   "metadata": {},
   "outputs": [
    {
     "data": {
      "text/plain": [
       "'python is a high-level, general-purpose programming language. Its design philosophy emphasizes code readability with the use of significant indentation. Python is dynamically-typed and garbage-collected. It supports multiple programming paradigms, including structured, object-oriented and functional programming.'"
      ]
     },
     "execution_count": 45,
     "metadata": {},
     "output_type": "execute_result"
    }
   ],
   "source": [
    "str1"
   ]
  },
  {
   "cell_type": "code",
   "execution_count": 47,
   "id": "8572ce48",
   "metadata": {},
   "outputs": [],
   "source": [
    "import re\n"
   ]
  },
  {
   "cell_type": "code",
   "execution_count": 48,
   "id": "617da1f8",
   "metadata": {},
   "outputs": [
    {
     "data": {
      "text/plain": [
       "['python']"
      ]
     },
     "execution_count": 48,
     "metadata": {},
     "output_type": "execute_result"
    }
   ],
   "source": [
    "re.findall(\"python\",str1)"
   ]
  },
  {
   "cell_type": "code",
   "execution_count": 49,
   "id": "65949e5a",
   "metadata": {},
   "outputs": [
    {
     "data": {
      "text/plain": [
       "'.net is a high-level, general-purpose programming language. Its design philosophy emphasizes code readability with the use of significant indentation. Python is dynamically-typed and garbage-collected. It supports multiple programming paradigms, including structured, object-oriented and functional programming.'"
      ]
     },
     "execution_count": 49,
     "metadata": {},
     "output_type": "execute_result"
    }
   ],
   "source": [
    "re.sub(\"python\",\".net\",str1)"
   ]
  },
  {
   "cell_type": "code",
   "execution_count": 53,
   "id": "3943e589",
   "metadata": {},
   "outputs": [],
   "source": [
    "re.fullmatch(\"is\",str1)"
   ]
  },
  {
   "cell_type": "code",
   "execution_count": 56,
   "id": "86ef9a5b",
   "metadata": {},
   "outputs": [
    {
     "data": {
      "text/plain": [
       "['le',\n",
       " 've',\n",
       " 'ge',\n",
       " 'ne',\n",
       " 'se',\n",
       " 'ge',\n",
       " 'de',\n",
       " ' e',\n",
       " 'ze',\n",
       " 'de',\n",
       " 're',\n",
       " 'he',\n",
       " 'se',\n",
       " 'de',\n",
       " 'pe',\n",
       " 'ge',\n",
       " 'le',\n",
       " 'te',\n",
       " 'le',\n",
       " 're',\n",
       " 'je',\n",
       " 'ie',\n",
       " 'te']"
      ]
     },
     "execution_count": 56,
     "metadata": {},
     "output_type": "execute_result"
    }
   ],
   "source": [
    "re.findall(\".e\",str1)"
   ]
  },
  {
   "cell_type": "code",
   "execution_count": null,
   "id": "beb54a94",
   "metadata": {},
   "outputs": [],
   "source": []
  }
 ],
 "metadata": {
  "kernelspec": {
   "display_name": "Python 3 (ipykernel)",
   "language": "python",
   "name": "python3"
  },
  "language_info": {
   "codemirror_mode": {
    "name": "ipython",
    "version": 3
   },
   "file_extension": ".py",
   "mimetype": "text/x-python",
   "name": "python",
   "nbconvert_exporter": "python",
   "pygments_lexer": "ipython3",
   "version": "3.9.12"
  }
 },
 "nbformat": 4,
 "nbformat_minor": 5
}

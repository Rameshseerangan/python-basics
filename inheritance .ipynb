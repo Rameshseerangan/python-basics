{
 "cells": [
  {
   "cell_type": "code",
   "execution_count": 2,
   "id": "35efe620",
   "metadata": {},
   "outputs": [],
   "source": [
    "#inheritance(simple)\n",
    "class parent():\n",
    "    def function1(self):\n",
    "        print(\"hai\")\n",
    "class child(parent):\n",
    "    def function2(self):\n",
    "        print(\"hello\")\n",
    "        \n",
    "    "
   ]
  },
  {
   "cell_type": "code",
   "execution_count": 3,
   "id": "a46c4948",
   "metadata": {},
   "outputs": [],
   "source": [
    "obj = child()"
   ]
  },
  {
   "cell_type": "code",
   "execution_count": 5,
   "id": "2cfc6ca0",
   "metadata": {},
   "outputs": [
    {
     "name": "stdout",
     "output_type": "stream",
     "text": [
      "hai\n"
     ]
    }
   ],
   "source": [
    "obj.function1()"
   ]
  },
  {
   "cell_type": "code",
   "execution_count": 7,
   "id": "eb198caf",
   "metadata": {},
   "outputs": [
    {
     "name": "stdout",
     "output_type": "stream",
     "text": [
      "hello\n"
     ]
    }
   ],
   "source": [
    "obj.function2()"
   ]
  },
  {
   "cell_type": "code",
   "execution_count": 8,
   "id": "d03b53c5",
   "metadata": {},
   "outputs": [],
   "source": [
    "class parent():\n",
    "    def function1(self):\n",
    "        print(\"hai\")\n",
    "class child(parent):\n",
    "    def function2(self):\n",
    "        print(\"hello\")\n",
    "class grandchild(child):\n",
    "    def function3(self):\n",
    "        print(\"welcome\")"
   ]
  },
  {
   "cell_type": "code",
   "execution_count": 9,
   "id": "3346d811",
   "metadata": {},
   "outputs": [],
   "source": [
    "obj = grandchild()"
   ]
  },
  {
   "cell_type": "code",
   "execution_count": 11,
   "id": "504a4e4e",
   "metadata": {},
   "outputs": [
    {
     "name": "stdout",
     "output_type": "stream",
     "text": [
      "hai\n"
     ]
    }
   ],
   "source": [
    "obj.function1()"
   ]
  },
  {
   "cell_type": "code",
   "execution_count": 12,
   "id": "9684351e",
   "metadata": {},
   "outputs": [
    {
     "name": "stdout",
     "output_type": "stream",
     "text": [
      "hello\n"
     ]
    }
   ],
   "source": [
    "obj.function2()"
   ]
  },
  {
   "cell_type": "code",
   "execution_count": 13,
   "id": "285fbb51",
   "metadata": {},
   "outputs": [
    {
     "name": "stdout",
     "output_type": "stream",
     "text": [
      "welcome\n"
     ]
    }
   ],
   "source": [
    "obj.function3()"
   ]
  },
  {
   "cell_type": "code",
   "execution_count": null,
   "id": "a95bf92f",
   "metadata": {},
   "outputs": [],
   "source": [
    "#inheritance in the sens do we call multiple functions in one objects\n"
   ]
  },
  {
   "cell_type": "code",
   "execution_count": 1,
   "id": "8b8fe754",
   "metadata": {},
   "outputs": [],
   "source": [
    "#multilevelinheritance\n",
    "class mom():\n",
    "    momname = \" \"\n",
    "    def mom (self):\n",
    "        print(self.momname)\n",
    "class dad():\n",
    "    dadname = \" \"\n",
    "    def dad(self):\n",
    "        print(self.dadname)\n",
    "class son (mom,dad):\n",
    "    def parents(self):\n",
    "        print(\"dadname:\",self.dadname)\n",
    "        print(\"momname:\",self.momname)"
   ]
  },
  {
   "cell_type": "code",
   "execution_count": 2,
   "id": "0285e108",
   "metadata": {},
   "outputs": [],
   "source": [
    "obj = son()"
   ]
  },
  {
   "cell_type": "code",
   "execution_count": 3,
   "id": "50d5b1b0",
   "metadata": {},
   "outputs": [],
   "source": [
    "obj.dadname = \"jon\""
   ]
  },
  {
   "cell_type": "code",
   "execution_count": 4,
   "id": "9d147134",
   "metadata": {},
   "outputs": [],
   "source": [
    "obj.momname = \"jimmy\""
   ]
  },
  {
   "cell_type": "code",
   "execution_count": 5,
   "id": "3ba45ef7",
   "metadata": {},
   "outputs": [
    {
     "name": "stdout",
     "output_type": "stream",
     "text": [
      "dadname: jon\n",
      "momname: jimmy\n"
     ]
    }
   ],
   "source": [
    "obj.parents()"
   ]
  },
  {
   "cell_type": "code",
   "execution_count": 7,
   "id": "6f30f1e1",
   "metadata": {},
   "outputs": [
    {
     "data": {
      "text/plain": [
       "'jon'"
      ]
     },
     "execution_count": 7,
     "metadata": {},
     "output_type": "execute_result"
    }
   ],
   "source": [
    "obj.dadname"
   ]
  },
  {
   "cell_type": "code",
   "execution_count": 9,
   "id": "befff044",
   "metadata": {},
   "outputs": [
    {
     "name": "stdout",
     "output_type": "stream",
     "text": [
      "jimmy\n"
     ]
    }
   ],
   "source": [
    "obj.mom()"
   ]
  },
  {
   "cell_type": "code",
   "execution_count": 30,
   "id": "80d97714",
   "metadata": {},
   "outputs": [],
   "source": [
    "class mom():\n",
    "    momname = \"rani \"\n",
    "    def mom (self):\n",
    "        print(self.momname)\n",
    "class dad():\n",
    "    dadname = \"ravi\"\n",
    "    def dad(self):\n",
    "        print(self.dadname)\n",
    "class son (mom,dad):\n",
    "    def parents(self):\n",
    "        print(\"dadname:\",self.dadname)\n",
    "        print(\"momname:\",self.momname)"
   ]
  },
  {
   "cell_type": "code",
   "execution_count": 31,
   "id": "35c64a20",
   "metadata": {},
   "outputs": [],
   "source": [
    "obj = son()"
   ]
  },
  {
   "cell_type": "code",
   "execution_count": 32,
   "id": "3481670f",
   "metadata": {},
   "outputs": [
    {
     "name": "stdout",
     "output_type": "stream",
     "text": [
      "ravi\n"
     ]
    }
   ],
   "source": [
    "obj.dad()"
   ]
  },
  {
   "cell_type": "code",
   "execution_count": 33,
   "id": "13dd2345",
   "metadata": {},
   "outputs": [
    {
     "name": "stdout",
     "output_type": "stream",
     "text": [
      "rani \n"
     ]
    }
   ],
   "source": [
    "obj.mom()"
   ]
  },
  {
   "cell_type": "code",
   "execution_count": 34,
   "id": "858b25aa",
   "metadata": {},
   "outputs": [
    {
     "name": "stdout",
     "output_type": "stream",
     "text": [
      "dadname: ravi\n",
      "momname: rani \n"
     ]
    }
   ],
   "source": [
    "obj.parents()"
   ]
  },
  {
   "cell_type": "code",
   "execution_count": 40,
   "id": "59ef18d4",
   "metadata": {},
   "outputs": [],
   "source": [
    "obj = dad()"
   ]
  },
  {
   "cell_type": "code",
   "execution_count": 44,
   "id": "787654cf",
   "metadata": {},
   "outputs": [
    {
     "name": "stdout",
     "output_type": "stream",
     "text": [
      "ravi\n"
     ]
    }
   ],
   "source": [
    "obj.dad()"
   ]
  },
  {
   "cell_type": "code",
   "execution_count": 7,
   "id": "70b9d591",
   "metadata": {},
   "outputs": [],
   "source": [
    "class collage():\n",
    "    def clgname(self):\n",
    "        print(\"hindustan\")\n",
    "class student(collage):\n",
    "    def stdname(self):\n",
    "        print(\"ramesh\")"
   ]
  },
  {
   "cell_type": "code",
   "execution_count": 8,
   "id": "b2b667fe",
   "metadata": {},
   "outputs": [],
   "source": [
    "obj = collage()"
   ]
  },
  {
   "cell_type": "code",
   "execution_count": 9,
   "id": "7f97f411",
   "metadata": {},
   "outputs": [
    {
     "name": "stdout",
     "output_type": "stream",
     "text": [
      "hindustan\n"
     ]
    }
   ],
   "source": [
    "obj.clgname()"
   ]
  },
  {
   "cell_type": "code",
   "execution_count": 10,
   "id": "ef3e8b1c",
   "metadata": {},
   "outputs": [],
   "source": [
    "obj = student()"
   ]
  },
  {
   "cell_type": "code",
   "execution_count": 11,
   "id": "ebe9b153",
   "metadata": {},
   "outputs": [
    {
     "name": "stdout",
     "output_type": "stream",
     "text": [
      "ramesh\n"
     ]
    }
   ],
   "source": [
    "obj.stdname()"
   ]
  },
  {
   "cell_type": "code",
   "execution_count": 13,
   "id": "78232f60",
   "metadata": {},
   "outputs": [
    {
     "name": "stdout",
     "output_type": "stream",
     "text": [
      "hindustan\n"
     ]
    }
   ],
   "source": [
    "obj.clgname()"
   ]
  },
  {
   "cell_type": "code",
   "execution_count": 15,
   "id": "45e64afc",
   "metadata": {},
   "outputs": [
    {
     "name": "stdout",
     "output_type": "stream",
     "text": [
      "ramesh\n"
     ]
    }
   ],
   "source": [
    "obj.stdname()"
   ]
  },
  {
   "cell_type": "code",
   "execution_count": 18,
   "id": "a7ac8fca",
   "metadata": {},
   "outputs": [],
   "source": [
    "class dept():\n",
    "    def course(self):\n",
    "        print(\"bca\")\n",
    "class subject(dept):\n",
    "    def sub(self):\n",
    "        print(\"python\")"
   ]
  },
  {
   "cell_type": "code",
   "execution_count": 19,
   "id": "55013359",
   "metadata": {},
   "outputs": [],
   "source": [
    "obj = dept()"
   ]
  },
  {
   "cell_type": "code",
   "execution_count": 21,
   "id": "49333df8",
   "metadata": {},
   "outputs": [
    {
     "name": "stdout",
     "output_type": "stream",
     "text": [
      "bca\n"
     ]
    }
   ],
   "source": [
    "obj.course()\n"
   ]
  },
  {
   "cell_type": "code",
   "execution_count": 22,
   "id": "30a0676e",
   "metadata": {},
   "outputs": [],
   "source": [
    "obj = subject()"
   ]
  },
  {
   "cell_type": "code",
   "execution_count": 24,
   "id": "7b3616b5",
   "metadata": {},
   "outputs": [
    {
     "name": "stdout",
     "output_type": "stream",
     "text": [
      "bca\n"
     ]
    }
   ],
   "source": [
    "obj.course()"
   ]
  },
  {
   "cell_type": "code",
   "execution_count": 26,
   "id": "512ca7e9",
   "metadata": {},
   "outputs": [
    {
     "name": "stdout",
     "output_type": "stream",
     "text": [
      "python\n"
     ]
    }
   ],
   "source": [
    "obj.sub()"
   ]
  },
  {
   "cell_type": "code",
   "execution_count": 29,
   "id": "1d41d394",
   "metadata": {},
   "outputs": [],
   "source": [
    "class travels1():\n",
    "    def bus1(self):\n",
    "        print(\"sss traval\")\n",
    "class travels2(travels1):\n",
    "    def bus2(self):\n",
    "        print(\"rs travel\")\n",
    "class travels3(travels2):\n",
    "    def bus3(self):\n",
    "        print(\"tamil travel\")"
   ]
  },
  {
   "cell_type": "code",
   "execution_count": 35,
   "id": "7af49c08",
   "metadata": {},
   "outputs": [],
   "source": [
    "obj = travels3()"
   ]
  },
  {
   "cell_type": "code",
   "execution_count": 36,
   "id": "d7cbe5bd",
   "metadata": {},
   "outputs": [
    {
     "name": "stdout",
     "output_type": "stream",
     "text": [
      "sss traval\n"
     ]
    }
   ],
   "source": [
    "obj.bus1()"
   ]
  },
  {
   "cell_type": "code",
   "execution_count": 37,
   "id": "b5108f73",
   "metadata": {},
   "outputs": [
    {
     "name": "stdout",
     "output_type": "stream",
     "text": [
      "rs travel\n"
     ]
    }
   ],
   "source": [
    "obj.bus2()"
   ]
  },
  {
   "cell_type": "code",
   "execution_count": 38,
   "id": "89ff6ec3",
   "metadata": {},
   "outputs": [
    {
     "name": "stdout",
     "output_type": "stream",
     "text": [
      "tamil travel\n"
     ]
    }
   ],
   "source": [
    "obj.bus3()"
   ]
  },
  {
   "cell_type": "code",
   "execution_count": 61,
   "id": "87b682cf",
   "metadata": {},
   "outputs": [],
   "source": [
    "class collag():\n",
    "    collagename = \" \"\n",
    "    def clg(self):\n",
    "        print(self.collagename)\n",
    "class student():\n",
    "    studentname = \" \"\n",
    "    def std(self):\n",
    "        print(self.studentname)\n",
    "class dept():\n",
    "    deptname = \" \"\n",
    "    def dept(self):\n",
    "        print(self.deptname)\n",
    "class rollnum(collag,student,dept):\n",
    "    def deatils(self):\n",
    "        print(\"collagename:\",self.collagename)\n",
    "        print(\"studentname:\",self.studentname)\n",
    "        print(\"deptname:\",self.deptname)\n",
    "   "
   ]
  },
  {
   "cell_type": "code",
   "execution_count": 62,
   "id": "cb4c16e3",
   "metadata": {},
   "outputs": [],
   "source": [
    "obj = rollnum()"
   ]
  },
  {
   "cell_type": "code",
   "execution_count": 63,
   "id": "421c2229",
   "metadata": {},
   "outputs": [],
   "source": [
    "obj.collagename = \"hits\""
   ]
  },
  {
   "cell_type": "code",
   "execution_count": 64,
   "id": "2d29c91b",
   "metadata": {},
   "outputs": [
    {
     "name": "stdout",
     "output_type": "stream",
     "text": [
      "hits\n"
     ]
    }
   ],
   "source": [
    "obj.clg()"
   ]
  },
  {
   "cell_type": "code",
   "execution_count": 65,
   "id": "8184b7f7",
   "metadata": {},
   "outputs": [],
   "source": [
    "obj.studentname = \"haripriya\""
   ]
  },
  {
   "cell_type": "code",
   "execution_count": 66,
   "id": "8797b49b",
   "metadata": {},
   "outputs": [
    {
     "name": "stdout",
     "output_type": "stream",
     "text": [
      "haripriya\n"
     ]
    }
   ],
   "source": [
    "obj.std()"
   ]
  },
  {
   "cell_type": "code",
   "execution_count": 67,
   "id": "899cedac",
   "metadata": {},
   "outputs": [],
   "source": [
    "obj.deptname = \"bca\""
   ]
  },
  {
   "cell_type": "code",
   "execution_count": 68,
   "id": "dc80898e",
   "metadata": {},
   "outputs": [
    {
     "name": "stdout",
     "output_type": "stream",
     "text": [
      "bca\n"
     ]
    }
   ],
   "source": [
    "obj.dept()"
   ]
  },
  {
   "cell_type": "code",
   "execution_count": 69,
   "id": "3d1f6962",
   "metadata": {},
   "outputs": [
    {
     "name": "stdout",
     "output_type": "stream",
     "text": [
      "collagename: hits\n",
      "studentname: haripriya\n",
      "deptname: bca\n"
     ]
    }
   ],
   "source": [
    "obj.deatils()"
   ]
  },
  {
   "cell_type": "code",
   "execution_count": 70,
   "id": "afb07e06",
   "metadata": {},
   "outputs": [],
   "source": [
    "class collag():\n",
    "    collagename = \"kcg \"\n",
    "    def clg(self):\n",
    "        print(self.collagename)\n",
    "class student():\n",
    "    studentname = \"tom\"\n",
    "    def std(self):\n",
    "        print(self.studentname)\n",
    "class dept():\n",
    "    deptname = \"mca \"\n",
    "    def dept(self):\n",
    "        print(self.deptname)\n",
    "class rollnum(collag,student,dept):\n",
    "    def deatils(self):\n",
    "        print(\"collagename:\",self.collagename)\n",
    "        print(\"studentname:\",self.studentname)\n",
    "        print(\"deptname:\",self.deptname)\n",
    "   "
   ]
  },
  {
   "cell_type": "code",
   "execution_count": 71,
   "id": "686fb993",
   "metadata": {},
   "outputs": [],
   "source": [
    "obj = rollnum()"
   ]
  },
  {
   "cell_type": "code",
   "execution_count": 74,
   "id": "afd16417",
   "metadata": {},
   "outputs": [
    {
     "data": {
      "text/plain": [
       "'kcg '"
      ]
     },
     "execution_count": 74,
     "metadata": {},
     "output_type": "execute_result"
    }
   ],
   "source": [
    "obj.collagename"
   ]
  },
  {
   "cell_type": "code",
   "execution_count": 76,
   "id": "ea814c80",
   "metadata": {},
   "outputs": [
    {
     "name": "stdout",
     "output_type": "stream",
     "text": [
      "kcg \n"
     ]
    }
   ],
   "source": [
    "obj.clg()"
   ]
  },
  {
   "cell_type": "code",
   "execution_count": 77,
   "id": "c923864f",
   "metadata": {},
   "outputs": [
    {
     "data": {
      "text/plain": [
       "'tom'"
      ]
     },
     "execution_count": 77,
     "metadata": {},
     "output_type": "execute_result"
    }
   ],
   "source": [
    "obj.studentname"
   ]
  },
  {
   "cell_type": "code",
   "execution_count": 78,
   "id": "35cd168b",
   "metadata": {},
   "outputs": [
    {
     "name": "stdout",
     "output_type": "stream",
     "text": [
      "tom\n"
     ]
    }
   ],
   "source": [
    "obj.std()"
   ]
  },
  {
   "cell_type": "code",
   "execution_count": 80,
   "id": "726e625e",
   "metadata": {},
   "outputs": [
    {
     "data": {
      "text/plain": [
       "'mca '"
      ]
     },
     "execution_count": 80,
     "metadata": {},
     "output_type": "execute_result"
    }
   ],
   "source": [
    "obj.deptname"
   ]
  },
  {
   "cell_type": "code",
   "execution_count": 82,
   "id": "bcb79b3e",
   "metadata": {},
   "outputs": [
    {
     "name": "stdout",
     "output_type": "stream",
     "text": [
      "mca \n"
     ]
    }
   ],
   "source": [
    "obj.dept()"
   ]
  },
  {
   "cell_type": "code",
   "execution_count": 83,
   "id": "a1b22cc5",
   "metadata": {},
   "outputs": [
    {
     "name": "stdout",
     "output_type": "stream",
     "text": [
      "collagename: kcg \n",
      "studentname: tom\n",
      "deptname: mca \n"
     ]
    }
   ],
   "source": [
    "obj.deatils()"
   ]
  },
  {
   "cell_type": "code",
   "execution_count": null,
   "id": "b9a2496f",
   "metadata": {},
   "outputs": [],
   "source": []
  },
  {
   "cell_type": "code",
   "execution_count": 12,
   "id": "28f6436a",
   "metadata": {},
   "outputs": [],
   "source": [
    "class grandfather():\n",
    "    def __init__(self,gname):\n",
    "        self.gname = gname\n",
    "        \n",
    "class father(grandfather):\n",
    "    def __init__(self,fname,gname):\n",
    "        self.fname = fname\n",
    "        grandfather.__init__(self,gname)\n",
    "        \n",
    "class child(father):\n",
    "    def __init__(self,cname,fname,gname):\n",
    "        self.cname = cname\n",
    "        father.__init__(self,fname,gname)\n",
    "        \n",
    "    def printname(self):\n",
    "        print(\"grandfathername:\",self.gname)\n",
    "        print(\"fathername:\",self.fname)\n",
    "        print(\"sonrname:\",self.cname)\n",
    "        \n",
    "        \n",
    "        "
   ]
  },
  {
   "cell_type": "code",
   "execution_count": 13,
   "id": "df642653",
   "metadata": {},
   "outputs": [],
   "source": [
    "obj = child(\"ravi\",\"ram\",\"tom\")"
   ]
  },
  {
   "cell_type": "code",
   "execution_count": 15,
   "id": "3f3af0bd",
   "metadata": {},
   "outputs": [
    {
     "name": "stdout",
     "output_type": "stream",
     "text": [
      "grandfathername: tom\n",
      "fathername: ram\n",
      "sonrname: ravi\n"
     ]
    }
   ],
   "source": [
    "obj.printname()"
   ]
  },
  {
   "cell_type": "code",
   "execution_count": 16,
   "id": "609ccf4d",
   "metadata": {},
   "outputs": [
    {
     "data": {
      "text/plain": [
       "'ravi'"
      ]
     },
     "execution_count": 16,
     "metadata": {},
     "output_type": "execute_result"
    }
   ],
   "source": [
    "obj.cname"
   ]
  },
  {
   "cell_type": "code",
   "execution_count": 17,
   "id": "f5fc43fd",
   "metadata": {},
   "outputs": [
    {
     "data": {
      "text/plain": [
       "'ram'"
      ]
     },
     "execution_count": 17,
     "metadata": {},
     "output_type": "execute_result"
    }
   ],
   "source": [
    "obj.fname"
   ]
  },
  {
   "cell_type": "code",
   "execution_count": 18,
   "id": "d84d87bd",
   "metadata": {},
   "outputs": [
    {
     "data": {
      "text/plain": [
       "'tom'"
      ]
     },
     "execution_count": 18,
     "metadata": {},
     "output_type": "execute_result"
    }
   ],
   "source": [
    "obj.gname"
   ]
  },
  {
   "cell_type": "code",
   "execution_count": 41,
   "id": "306fa591",
   "metadata": {},
   "outputs": [],
   "source": [
    "class a():\n",
    "    \n",
    "    def __init__(self,ename):\n",
    "        self.ename = ename\n",
    "        \n",
    "class b(a):\n",
    "    \n",
    "    def __init__(self,ename,eage):\n",
    "        self.eage = eage\n",
    "        a.__init__(self,ename)\n",
    "        \n",
    "    def disp(self):\n",
    "        \n",
    "        print(\"name:\",self.ename)\n",
    "        print(\"age:\",self.eage)\n",
    "    "
   ]
  },
  {
   "cell_type": "code",
   "execution_count": 42,
   "id": "6a2e47b7",
   "metadata": {},
   "outputs": [],
   "source": [
    "obj = b(\"ram\",20)"
   ]
  },
  {
   "cell_type": "code",
   "execution_count": 43,
   "id": "e73cb32e",
   "metadata": {},
   "outputs": [
    {
     "data": {
      "text/plain": [
       "'ram'"
      ]
     },
     "execution_count": 43,
     "metadata": {},
     "output_type": "execute_result"
    }
   ],
   "source": [
    "obj.ename"
   ]
  },
  {
   "cell_type": "code",
   "execution_count": 44,
   "id": "e8bec740",
   "metadata": {},
   "outputs": [
    {
     "data": {
      "text/plain": [
       "20"
      ]
     },
     "execution_count": 44,
     "metadata": {},
     "output_type": "execute_result"
    }
   ],
   "source": [
    "obj.eage"
   ]
  },
  {
   "cell_type": "code",
   "execution_count": 18,
   "id": "eeefe712",
   "metadata": {},
   "outputs": [
    {
     "name": "stdout",
     "output_type": "stream",
     "text": [
      "name: ram\n",
      "age: 20\n"
     ]
    }
   ],
   "source": [
    "obj.disp()"
   ]
  },
  {
   "cell_type": "code",
   "execution_count": 71,
   "id": "ff011fe2",
   "metadata": {},
   "outputs": [],
   "source": [
    "class test():\n",
    "    \n",
    "    def __init__(self,ename):\n",
    "        self.ename = ename\n",
    "        \n",
    "class internaltest(test):\n",
    "    \n",
    "    def __init__(self,eage,ename):\n",
    "        self.eage = eage\n",
    "        a.__init__(self,ename)\n",
    "        \n",
    "    def disp(self):\n",
    "        \n",
    "        print(\"name:\",self.ename)\n",
    "        print(\"age:\",self.eage)\n",
    "    "
   ]
  },
  {
   "cell_type": "code",
   "execution_count": 76,
   "id": "83cb4f7e",
   "metadata": {},
   "outputs": [],
   "source": [
    "obj1 = internaltest(30,\"ramesh\")"
   ]
  },
  {
   "cell_type": "code",
   "execution_count": 77,
   "id": "99022f10",
   "metadata": {},
   "outputs": [
    {
     "data": {
      "text/plain": [
       "'ramesh'"
      ]
     },
     "execution_count": 77,
     "metadata": {},
     "output_type": "execute_result"
    }
   ],
   "source": [
    "obj1.ename"
   ]
  },
  {
   "cell_type": "code",
   "execution_count": 79,
   "id": "ddaa9bb7",
   "metadata": {},
   "outputs": [
    {
     "data": {
      "text/plain": [
       "30"
      ]
     },
     "execution_count": 79,
     "metadata": {},
     "output_type": "execute_result"
    }
   ],
   "source": [
    "obj1.eage"
   ]
  },
  {
   "cell_type": "code",
   "execution_count": 81,
   "id": "8768b4ae",
   "metadata": {},
   "outputs": [
    {
     "name": "stdout",
     "output_type": "stream",
     "text": [
      "name: ram\n",
      "age: 20\n"
     ]
    }
   ],
   "source": [
    "obj.disp()"
   ]
  },
  {
   "cell_type": "code",
   "execution_count": 86,
   "id": "577b02bb",
   "metadata": {},
   "outputs": [],
   "source": [
    "class a():\n",
    "    \n",
    "    def __init__(self,ename):\n",
    "        self.ename = ename\n",
    "        \n",
    "class b(a):\n",
    "    \n",
    "    def __init__(self,ename,eage):\n",
    "        self.eage = eage\n",
    "        a.__init__(self,ename)\n",
    "        \n",
    "    def disp(self):\n",
    "        \n",
    "        print(\"name:\",self.ename)\n",
    "        print(\"age:\",self.eage)\n",
    "    "
   ]
  },
  {
   "cell_type": "code",
   "execution_count": 87,
   "id": "7f9dc68c",
   "metadata": {},
   "outputs": [],
   "source": [
    "sam = b(\"ramesh\",24)"
   ]
  },
  {
   "cell_type": "code",
   "execution_count": 88,
   "id": "2add35f1",
   "metadata": {},
   "outputs": [
    {
     "name": "stdout",
     "output_type": "stream",
     "text": [
      "name: ramesh\n",
      "age: 24\n"
     ]
    }
   ],
   "source": [
    "sam.disp()"
   ]
  },
  {
   "cell_type": "code",
   "execution_count": 89,
   "id": "7e969df7",
   "metadata": {},
   "outputs": [],
   "source": [
    "class grandfather():\n",
    "    def __init__(self,gname):\n",
    "        self.gname = gname\n",
    "        \n",
    "class father(grandfather):\n",
    "    def __init__(self,fname,gname):\n",
    "        self.fname = fname\n",
    "        grandfather.__init__(self,gname)\n",
    "        \n",
    "class child(father):\n",
    "    def __init__(self,cname,fname,gname):\n",
    "        self.cname = cname\n",
    "        father.__init__(self,fname,gname)\n",
    "        \n",
    "    def printname(self):\n",
    "        print(\"grandfathername:\",self.gname)\n",
    "        print(\"fathername:\",self.fname)\n",
    "        print(\"sonrname:\",self.cname)\n",
    "        \n",
    "        \n",
    "        "
   ]
  },
  {
   "cell_type": "code",
   "execution_count": 92,
   "id": "73fbe64c",
   "metadata": {},
   "outputs": [],
   "source": [
    "gf =child(\"ram\",\"ramesh\",\"rameshkumar\")"
   ]
  },
  {
   "cell_type": "code",
   "execution_count": 93,
   "id": "0abdc364",
   "metadata": {},
   "outputs": [
    {
     "data": {
      "text/plain": [
       "'rameshkumar'"
      ]
     },
     "execution_count": 93,
     "metadata": {},
     "output_type": "execute_result"
    }
   ],
   "source": [
    "gf.gname"
   ]
  },
  {
   "cell_type": "code",
   "execution_count": 94,
   "id": "75dbb24c",
   "metadata": {},
   "outputs": [
    {
     "data": {
      "text/plain": [
       "'ramesh'"
      ]
     },
     "execution_count": 94,
     "metadata": {},
     "output_type": "execute_result"
    }
   ],
   "source": [
    "gf.fname"
   ]
  },
  {
   "cell_type": "code",
   "execution_count": 95,
   "id": "bd3f28ea",
   "metadata": {},
   "outputs": [
    {
     "data": {
      "text/plain": [
       "'ram'"
      ]
     },
     "execution_count": 95,
     "metadata": {},
     "output_type": "execute_result"
    }
   ],
   "source": [
    "gf.cname"
   ]
  },
  {
   "cell_type": "code",
   "execution_count": 96,
   "id": "0393aae1",
   "metadata": {},
   "outputs": [
    {
     "name": "stdout",
     "output_type": "stream",
     "text": [
      "grandfathername: rameshkumar\n",
      "fathername: ramesh\n",
      "sonrname: ram\n"
     ]
    }
   ],
   "source": [
    "gf.printname()"
   ]
  },
  {
   "cell_type": "code",
   "execution_count": 15,
   "id": "7546b6db",
   "metadata": {},
   "outputs": [],
   "source": [
    "class simple():\n",
    "    def simmple1(self):\n",
    "        print(\"hai\")\n",
    "class simple2(simple):\n",
    "    def simmple2(self):\n",
    "        print(\"how are you\")\n",
    "    "
   ]
  },
  {
   "cell_type": "code",
   "execution_count": 16,
   "id": "cf273f83",
   "metadata": {},
   "outputs": [],
   "source": [
    "obj = simple2()"
   ]
  },
  {
   "cell_type": "code",
   "execution_count": 14,
   "id": "4d22061e",
   "metadata": {},
   "outputs": [
    {
     "name": "stdout",
     "output_type": "stream",
     "text": [
      "how are you\n"
     ]
    }
   ],
   "source": [
    "obj.simmple2()"
   ]
  },
  {
   "cell_type": "code",
   "execution_count": 17,
   "id": "a04d0ed2",
   "metadata": {},
   "outputs": [
    {
     "name": "stdout",
     "output_type": "stream",
     "text": [
      "hai\n"
     ]
    }
   ],
   "source": [
    "obj.simmple1()"
   ]
  },
  {
   "cell_type": "code",
   "execution_count": 18,
   "id": "e92c4f44",
   "metadata": {},
   "outputs": [],
   "source": [
    "class bike():\n",
    "    def bajaj(self):\n",
    "        print(\"pulser\")\n",
    "class car(bike):\n",
    "    def honda(self):\n",
    "        print(\"civic\")"
   ]
  },
  {
   "cell_type": "code",
   "execution_count": 19,
   "id": "89b033aa",
   "metadata": {},
   "outputs": [],
   "source": [
    "obj = car()"
   ]
  },
  {
   "cell_type": "code",
   "execution_count": 21,
   "id": "561cd564",
   "metadata": {},
   "outputs": [
    {
     "name": "stdout",
     "output_type": "stream",
     "text": [
      "pulser\n"
     ]
    }
   ],
   "source": [
    "obj.bajaj()"
   ]
  },
  {
   "cell_type": "code",
   "execution_count": 23,
   "id": "5ffe4a29",
   "metadata": {},
   "outputs": [
    {
     "name": "stdout",
     "output_type": "stream",
     "text": [
      "civic\n"
     ]
    }
   ],
   "source": [
    "obj.honda()"
   ]
  },
  {
   "cell_type": "code",
   "execution_count": 117,
   "id": "28ae44d8",
   "metadata": {},
   "outputs": [],
   "source": [
    "class bike():\n",
    "    bikename = \"re \"\n",
    "    def bajaj(self):\n",
    "        print(self.bikename)\n",
    "class car():\n",
    "    carname = \"wvw \"\n",
    "    def car(self):\n",
    "        print(self.carname)\n",
    "class train():\n",
    "    trainname = \"exp \"\n",
    "    def train(self):\n",
    "        print(self.trainname)  \n",
    "class vehicle(bike,car,train):\n",
    "    def display(self):\n",
    "        print(\"bikename:\" , self.bikename)\n",
    "        print(\"carname:\" , self.carname)\n",
    "        print(\"trainname:\" , self.trainname)\n"
   ]
  },
  {
   "cell_type": "code",
   "execution_count": 118,
   "id": "0cfc8fc0",
   "metadata": {},
   "outputs": [],
   "source": [
    "info =bike()"
   ]
  },
  {
   "cell_type": "code",
   "execution_count": 123,
   "id": "2b771e78",
   "metadata": {},
   "outputs": [
    {
     "name": "stdout",
     "output_type": "stream",
     "text": [
      "re \n"
     ]
    }
   ],
   "source": [
    "info.bajaj()"
   ]
  },
  {
   "cell_type": "code",
   "execution_count": 109,
   "id": "c4748315",
   "metadata": {},
   "outputs": [],
   "source": []
  },
  {
   "cell_type": "code",
   "execution_count": null,
   "id": "4baa9149",
   "metadata": {},
   "outputs": [],
   "source": []
  },
  {
   "cell_type": "code",
   "execution_count": null,
   "id": "e8132c0f",
   "metadata": {},
   "outputs": [],
   "source": []
  },
  {
   "cell_type": "code",
   "execution_count": null,
   "id": "ce897b19",
   "metadata": {},
   "outputs": [],
   "source": []
  },
  {
   "cell_type": "code",
   "execution_count": 112,
   "id": "9abc9049",
   "metadata": {},
   "outputs": [],
   "source": [
    "info =vehicle()"
   ]
  },
  {
   "cell_type": "code",
   "execution_count": 102,
   "id": "8e458c23",
   "metadata": {},
   "outputs": [],
   "source": [
    "obj.bajaj = (\"pulser\")"
   ]
  },
  {
   "cell_type": "code",
   "execution_count": 3,
   "id": "0b3fe100",
   "metadata": {},
   "outputs": [],
   "source": [
    "class bike():\n",
    "    bikename = \"pulser \"\n",
    "    def bajaj(self):\n",
    "        print(self.bikename)\n",
    "class car():\n",
    "    carname = \"kiwd\"\n",
    "    def car(self):\n",
    "        print(self.carname)\n",
    "class train():\n",
    "    trainname = \"trichyexp \"\n",
    "    def train(self):\n",
    "        print(self.trainname)\n",
    "class vehicle(bike,car,train):\n",
    "    def display(self):\n",
    "        print(\"bikename:\" , self.bikename)\n",
    "        print(\"carname:\" , self.carname)\n",
    "        print(\"trainname:\" , self.trainname)"
   ]
  },
  {
   "cell_type": "code",
   "execution_count": 4,
   "id": "fc771706",
   "metadata": {},
   "outputs": [],
   "source": [
    "obj = vehicle ()"
   ]
  },
  {
   "cell_type": "code",
   "execution_count": 5,
   "id": "5f778ee0",
   "metadata": {},
   "outputs": [
    {
     "name": "stdout",
     "output_type": "stream",
     "text": [
      "pulser \n"
     ]
    }
   ],
   "source": [
    "obj.bajaj()"
   ]
  },
  {
   "cell_type": "code",
   "execution_count": 6,
   "id": "700b07b7",
   "metadata": {},
   "outputs": [
    {
     "data": {
      "text/plain": [
       "'pulser '"
      ]
     },
     "execution_count": 6,
     "metadata": {},
     "output_type": "execute_result"
    }
   ],
   "source": [
    "obj.bikename"
   ]
  },
  {
   "cell_type": "code",
   "execution_count": 7,
   "id": "f67f0e92",
   "metadata": {},
   "outputs": [
    {
     "name": "stdout",
     "output_type": "stream",
     "text": [
      "kiwd\n"
     ]
    }
   ],
   "source": [
    "obj.car()"
   ]
  },
  {
   "cell_type": "code",
   "execution_count": 8,
   "id": "9efe31b9",
   "metadata": {},
   "outputs": [
    {
     "data": {
      "text/plain": [
       "'kiwd'"
      ]
     },
     "execution_count": 8,
     "metadata": {},
     "output_type": "execute_result"
    }
   ],
   "source": [
    "obj.carname"
   ]
  },
  {
   "cell_type": "code",
   "execution_count": 9,
   "id": "1dd48ef1",
   "metadata": {},
   "outputs": [
    {
     "name": "stdout",
     "output_type": "stream",
     "text": [
      "trichyexp \n"
     ]
    }
   ],
   "source": [
    "obj.train()"
   ]
  },
  {
   "cell_type": "code",
   "execution_count": 10,
   "id": "dcd347e2",
   "metadata": {},
   "outputs": [
    {
     "data": {
      "text/plain": [
       "'trichyexp '"
      ]
     },
     "execution_count": 10,
     "metadata": {},
     "output_type": "execute_result"
    }
   ],
   "source": [
    "obj.trainname"
   ]
  },
  {
   "cell_type": "code",
   "execution_count": 2,
   "id": "95622cad",
   "metadata": {},
   "outputs": [],
   "source": [
    "class bike():\n",
    "    \n",
    "    bikename = \" \"\n",
    "    def bajaj(self):\n",
    "        self.bikename = bikename\n",
    "        print(self.bikename)\n",
    "        \n",
    "class car():\n",
    "    carname = \"\"\n",
    "    \n",
    "    def car(self):\n",
    "        self.carname = carname\n",
    "        print(self.carname)\n",
    "        \n",
    "class train():\n",
    "    trainname = \" \"\n",
    "    def trainfn(self):\n",
    "        self.trainname = trainname\n",
    "        print(self.trainname)\n",
    "class vehicle(bike,car,train):\n",
    "    def display(self):\n",
    "        print(\"bikename:\" , self.bikename)\n",
    "        print(\"carname:\" , self.carname)\n",
    "        print(\"trainname:\" , self.trainname)"
   ]
  },
  {
   "cell_type": "code",
   "execution_count": 3,
   "id": "7a1ae9f7",
   "metadata": {},
   "outputs": [],
   "source": [
    "obj = vehicle()"
   ]
  },
  {
   "cell_type": "code",
   "execution_count": 4,
   "id": "d87bd2e6",
   "metadata": {},
   "outputs": [],
   "source": [
    "obj.bikename = \"pulser\""
   ]
  },
  {
   "cell_type": "code",
   "execution_count": 5,
   "id": "9e2e39ab",
   "metadata": {},
   "outputs": [],
   "source": [
    "obj.carname = \"kiwd\""
   ]
  },
  {
   "cell_type": "code",
   "execution_count": 6,
   "id": "447b583b",
   "metadata": {},
   "outputs": [],
   "source": [
    "obj.trainname = \"trichyexp\""
   ]
  },
  {
   "cell_type": "code",
   "execution_count": 7,
   "id": "cadc11bd",
   "metadata": {},
   "outputs": [
    {
     "name": "stdout",
     "output_type": "stream",
     "text": [
      "bikename: pulser\n",
      "carname: kiwd\n",
      "trainname: trichyexp\n"
     ]
    }
   ],
   "source": [
    "obj.display()"
   ]
  },
  {
   "cell_type": "code",
   "execution_count": 8,
   "id": "b1869c2d",
   "metadata": {},
   "outputs": [
    {
     "ename": "TypeError",
     "evalue": "'str' object is not callable",
     "output_type": "error",
     "traceback": [
      "\u001b[1;31m---------------------------------------------------------------------------\u001b[0m",
      "\u001b[1;31mTypeError\u001b[0m                                 Traceback (most recent call last)",
      "Input \u001b[1;32mIn [8]\u001b[0m, in \u001b[0;36m<cell line: 1>\u001b[1;34m()\u001b[0m\n\u001b[1;32m----> 1\u001b[0m \u001b[43mobj\u001b[49m\u001b[38;5;241;43m.\u001b[39;49m\u001b[43mbikename\u001b[49m\u001b[43m(\u001b[49m\u001b[43m)\u001b[49m\n",
      "\u001b[1;31mTypeError\u001b[0m: 'str' object is not callable"
     ]
    }
   ],
   "source": [
    "obj.bikename()"
   ]
  },
  {
   "cell_type": "code",
   "execution_count": 9,
   "id": "f9cec244",
   "metadata": {},
   "outputs": [
    {
     "ename": "TypeError",
     "evalue": "'str' object is not callable",
     "output_type": "error",
     "traceback": [
      "\u001b[1;31m---------------------------------------------------------------------------\u001b[0m",
      "\u001b[1;31mTypeError\u001b[0m                                 Traceback (most recent call last)",
      "Input \u001b[1;32mIn [9]\u001b[0m, in \u001b[0;36m<cell line: 1>\u001b[1;34m()\u001b[0m\n\u001b[1;32m----> 1\u001b[0m \u001b[43mobj\u001b[49m\u001b[38;5;241;43m.\u001b[39;49m\u001b[43mcarname\u001b[49m\u001b[43m(\u001b[49m\u001b[43m)\u001b[49m\n",
      "\u001b[1;31mTypeError\u001b[0m: 'str' object is not callable"
     ]
    }
   ],
   "source": [
    "obj.carname()"
   ]
  },
  {
   "cell_type": "code",
   "execution_count": 19,
   "id": "5e199dc7",
   "metadata": {},
   "outputs": [
    {
     "ename": "NameError",
     "evalue": "name 'bikename' is not defined",
     "output_type": "error",
     "traceback": [
      "\u001b[1;31m---------------------------------------------------------------------------\u001b[0m",
      "\u001b[1;31mNameError\u001b[0m                                 Traceback (most recent call last)",
      "Input \u001b[1;32mIn [19]\u001b[0m, in \u001b[0;36m<cell line: 1>\u001b[1;34m()\u001b[0m\n\u001b[1;32m----> 1\u001b[0m \u001b[43mobj\u001b[49m\u001b[38;5;241;43m.\u001b[39;49m\u001b[43mbajaj\u001b[49m\u001b[43m(\u001b[49m\u001b[43m)\u001b[49m\n",
      "Input \u001b[1;32mIn [11]\u001b[0m, in \u001b[0;36mbike.bajaj\u001b[1;34m(self)\u001b[0m\n\u001b[0;32m      4\u001b[0m \u001b[38;5;28;01mdef\u001b[39;00m \u001b[38;5;21mbajaj\u001b[39m(\u001b[38;5;28mself\u001b[39m):\n\u001b[1;32m----> 5\u001b[0m     \u001b[38;5;28mself\u001b[39m\u001b[38;5;241m.\u001b[39mbikename \u001b[38;5;241m=\u001b[39m \u001b[43mbikename\u001b[49m\n\u001b[0;32m      6\u001b[0m     \u001b[38;5;28mprint\u001b[39m(\u001b[38;5;28mself\u001b[39m\u001b[38;5;241m.\u001b[39mbikename)\n",
      "\u001b[1;31mNameError\u001b[0m: name 'bikename' is not defined"
     ]
    }
   ],
   "source": [
    "obj.bajaj()"
   ]
  },
  {
   "cell_type": "code",
   "execution_count": 20,
   "id": "5a7870c8",
   "metadata": {},
   "outputs": [
    {
     "ename": "NameError",
     "evalue": "name 'carname' is not defined",
     "output_type": "error",
     "traceback": [
      "\u001b[1;31m---------------------------------------------------------------------------\u001b[0m",
      "\u001b[1;31mNameError\u001b[0m                                 Traceback (most recent call last)",
      "Input \u001b[1;32mIn [20]\u001b[0m, in \u001b[0;36m<cell line: 1>\u001b[1;34m()\u001b[0m\n\u001b[1;32m----> 1\u001b[0m \u001b[43mobj\u001b[49m\u001b[38;5;241;43m.\u001b[39;49m\u001b[43mcar\u001b[49m\u001b[43m(\u001b[49m\u001b[43m)\u001b[49m\n",
      "Input \u001b[1;32mIn [11]\u001b[0m, in \u001b[0;36mcar.car\u001b[1;34m(self)\u001b[0m\n\u001b[0;32m     11\u001b[0m \u001b[38;5;28;01mdef\u001b[39;00m \u001b[38;5;21mcar\u001b[39m(\u001b[38;5;28mself\u001b[39m):\n\u001b[1;32m---> 12\u001b[0m     \u001b[38;5;28mself\u001b[39m\u001b[38;5;241m.\u001b[39mcarname \u001b[38;5;241m=\u001b[39m \u001b[43mcarname\u001b[49m\n\u001b[0;32m     13\u001b[0m     \u001b[38;5;28mprint\u001b[39m(\u001b[38;5;28mself\u001b[39m\u001b[38;5;241m.\u001b[39mcarname)\n",
      "\u001b[1;31mNameError\u001b[0m: name 'carname' is not defined"
     ]
    }
   ],
   "source": [
    "obj.car()"
   ]
  },
  {
   "cell_type": "code",
   "execution_count": 21,
   "id": "9255a6e9",
   "metadata": {},
   "outputs": [
    {
     "data": {
      "text/plain": [
       "'pulser'"
      ]
     },
     "execution_count": 21,
     "metadata": {},
     "output_type": "execute_result"
    }
   ],
   "source": [
    "obj.bikename"
   ]
  },
  {
   "cell_type": "code",
   "execution_count": 22,
   "id": "b719f43b",
   "metadata": {},
   "outputs": [
    {
     "data": {
      "text/plain": [
       "'kiwd'"
      ]
     },
     "execution_count": 22,
     "metadata": {},
     "output_type": "execute_result"
    }
   ],
   "source": [
    "obj.carname"
   ]
  },
  {
   "cell_type": "code",
   "execution_count": 23,
   "id": "8fdf6ca1",
   "metadata": {},
   "outputs": [
    {
     "data": {
      "text/plain": [
       "'trichyexp'"
      ]
     },
     "execution_count": 23,
     "metadata": {},
     "output_type": "execute_result"
    }
   ],
   "source": [
    "obj.trainname"
   ]
  },
  {
   "cell_type": "code",
   "execution_count": 24,
   "id": "8281b6ba",
   "metadata": {},
   "outputs": [
    {
     "name": "stdout",
     "output_type": "stream",
     "text": [
      "bikename: pulser\n",
      "carname: kiwd\n",
      "trainname: trichyexp\n"
     ]
    }
   ],
   "source": [
    "obj.display()"
   ]
  },
  {
   "cell_type": "code",
   "execution_count": 25,
   "id": "26513045",
   "metadata": {},
   "outputs": [
    {
     "ename": "NameError",
     "evalue": "name 'trainname' is not defined",
     "output_type": "error",
     "traceback": [
      "\u001b[1;31m---------------------------------------------------------------------------\u001b[0m",
      "\u001b[1;31mNameError\u001b[0m                                 Traceback (most recent call last)",
      "Input \u001b[1;32mIn [25]\u001b[0m, in \u001b[0;36m<cell line: 1>\u001b[1;34m()\u001b[0m\n\u001b[1;32m----> 1\u001b[0m \u001b[43mobj\u001b[49m\u001b[38;5;241;43m.\u001b[39;49m\u001b[43mtrainfn\u001b[49m\u001b[43m(\u001b[49m\u001b[43m)\u001b[49m\n",
      "Input \u001b[1;32mIn [11]\u001b[0m, in \u001b[0;36mtrain.trainfn\u001b[1;34m(self)\u001b[0m\n\u001b[0;32m     17\u001b[0m \u001b[38;5;28;01mdef\u001b[39;00m \u001b[38;5;21mtrainfn\u001b[39m(\u001b[38;5;28mself\u001b[39m):\n\u001b[1;32m---> 18\u001b[0m     \u001b[38;5;28mself\u001b[39m\u001b[38;5;241m.\u001b[39mtrainname \u001b[38;5;241m=\u001b[39m \u001b[43mtrainname\u001b[49m\n\u001b[0;32m     19\u001b[0m     \u001b[38;5;28mprint\u001b[39m(\u001b[38;5;28mself\u001b[39m\u001b[38;5;241m.\u001b[39mtrainname)\n",
      "\u001b[1;31mNameError\u001b[0m: name 'trainname' is not defined"
     ]
    }
   ],
   "source": [
    "obj.trainfn()"
   ]
  },
  {
   "cell_type": "code",
   "execution_count": 26,
   "id": "9a0845e9",
   "metadata": {},
   "outputs": [],
   "source": [
    "class a():\n",
    "    \n",
    "    def __init__(self,ename):\n",
    "        self.ename = ename\n",
    "        \n",
    "class b(a):\n",
    "    \n",
    "    def __init__(self,ename,eage):\n",
    "        self.eage = eage\n",
    "        super().__init__(ename)\n",
    "        \n",
    "    def disp(self):\n",
    "        \n",
    "        print(\"name:\",self.ename)\n",
    "        print(\"age:\",self.eage)\n",
    "    "
   ]
  },
  {
   "cell_type": "code",
   "execution_count": 27,
   "id": "8a2c3a32",
   "metadata": {},
   "outputs": [],
   "source": [
    "obj = b(\"ram\",40)"
   ]
  },
  {
   "cell_type": "code",
   "execution_count": 28,
   "id": "ecbb5d44",
   "metadata": {},
   "outputs": [
    {
     "name": "stdout",
     "output_type": "stream",
     "text": [
      "name: ram\n",
      "age: 40\n"
     ]
    }
   ],
   "source": [
    "obj.disp()"
   ]
  },
  {
   "cell_type": "code",
   "execution_count": 29,
   "id": "2e78a0e9",
   "metadata": {},
   "outputs": [
    {
     "data": {
      "text/plain": [
       "40"
      ]
     },
     "execution_count": 29,
     "metadata": {},
     "output_type": "execute_result"
    }
   ],
   "source": [
    "obj.eage"
   ]
  },
  {
   "cell_type": "code",
   "execution_count": 30,
   "id": "b34eed9c",
   "metadata": {},
   "outputs": [
    {
     "data": {
      "text/plain": [
       "'ram'"
      ]
     },
     "execution_count": 30,
     "metadata": {},
     "output_type": "execute_result"
    }
   ],
   "source": [
    "obj.ename"
   ]
  },
  {
   "cell_type": "code",
   "execution_count": null,
   "id": "ca31388a",
   "metadata": {},
   "outputs": [],
   "source": [
    "  \n",
    "        \n",
    "        "
   ]
  },
  {
   "cell_type": "code",
   "execution_count": 31,
   "id": "79797a1d",
   "metadata": {},
   "outputs": [],
   "source": [
    "class bike():\n",
    "    def __init__(self,bikename):\n",
    "        self.bikename = bikename\n",
    "\n",
    "  "
   ]
  },
  {
   "cell_type": "code",
   "execution_count": 32,
   "id": "380c9e22",
   "metadata": {},
   "outputs": [],
   "source": [
    "class bike():\n",
    "    bikename = \" \"\n",
    "    def bikefn(self):\n",
    "        print(self.bikename)\n",
    "        \n",
    "class car():\n",
    "    carname = \"\"\n",
    "    def carfn(self):\n",
    "        print(self.carname)\n",
    "        \n",
    "class train():\n",
    "    trainname = \" \"\n",
    "    def trainfn(self):\n",
    "        print(self.trainname)\n",
    "        \n",
    "class vehicle(bike,car,train):\n",
    "    def display(self):\n",
    "        print(\"bikename:\" , self.bikename)\n",
    "        print(\"carname:\" , self.carname)\n",
    "        print(\"trainname:\" , self.trainname)"
   ]
  },
  {
   "cell_type": "code",
   "execution_count": 33,
   "id": "e7be4f34",
   "metadata": {},
   "outputs": [],
   "source": [
    "obj3 = vehicle()"
   ]
  },
  {
   "cell_type": "code",
   "execution_count": 34,
   "id": "7fbae3fe",
   "metadata": {},
   "outputs": [],
   "source": [
    "obj3.carname = \"BMW\""
   ]
  },
  {
   "cell_type": "code",
   "execution_count": 35,
   "id": "df4899b2",
   "metadata": {},
   "outputs": [
    {
     "name": "stdout",
     "output_type": "stream",
     "text": [
      "BMW\n"
     ]
    }
   ],
   "source": [
    "obj3.carfn()"
   ]
  },
  {
   "cell_type": "code",
   "execution_count": 36,
   "id": "0c849fbf",
   "metadata": {},
   "outputs": [],
   "source": [
    "obj3.bikename = \"fz\"\n"
   ]
  },
  {
   "cell_type": "code",
   "execution_count": 37,
   "id": "dfbc15eb",
   "metadata": {},
   "outputs": [
    {
     "name": "stdout",
     "output_type": "stream",
     "text": [
      "fz\n"
     ]
    }
   ],
   "source": [
    "obj3.bikefn()"
   ]
  },
  {
   "cell_type": "code",
   "execution_count": 38,
   "id": "0bde1021",
   "metadata": {},
   "outputs": [],
   "source": [
    "obj3.trainname = \"chola exp\""
   ]
  },
  {
   "cell_type": "code",
   "execution_count": 39,
   "id": "fd7a829f",
   "metadata": {},
   "outputs": [
    {
     "name": "stdout",
     "output_type": "stream",
     "text": [
      "chola exp\n"
     ]
    }
   ],
   "source": [
    "obj3.trainfn()"
   ]
  },
  {
   "cell_type": "code",
   "execution_count": 40,
   "id": "f2808b84",
   "metadata": {},
   "outputs": [
    {
     "name": "stdout",
     "output_type": "stream",
     "text": [
      "bikename: fz\n",
      "carname: BMW\n",
      "trainname: chola exp\n"
     ]
    }
   ],
   "source": [
    "obj3.display()"
   ]
  },
  {
   "cell_type": "code",
   "execution_count": 41,
   "id": "62030102",
   "metadata": {},
   "outputs": [],
   "source": [
    "class car():\n",
    "    def __init__(self,carname):\n",
    "            self.carname = carname\n"
   ]
  },
  {
   "cell_type": "code",
   "execution_count": 42,
   "id": "94c07ead",
   "metadata": {},
   "outputs": [],
   "source": [
    "obj =car(\"bme\")"
   ]
  },
  {
   "cell_type": "code",
   "execution_count": null,
   "id": "b591b61e",
   "metadata": {},
   "outputs": [],
   "source": []
  },
  {
   "cell_type": "code",
   "execution_count": 43,
   "id": "7d6f4580",
   "metadata": {},
   "outputs": [
    {
     "data": {
      "text/plain": [
       "'bme'"
      ]
     },
     "execution_count": 43,
     "metadata": {},
     "output_type": "execute_result"
    }
   ],
   "source": [
    "obj.carname"
   ]
  },
  {
   "cell_type": "code",
   "execution_count": 44,
   "id": "76b6450f",
   "metadata": {},
   "outputs": [],
   "source": [
    "class car():\n",
    "    def __init__(self,carname):\n",
    "            self.carname = carname\n",
    "\n",
    "class collage(car):\n",
    "    def __init__(self,collagename,carname):\n",
    "        self.collagename = collagename\n",
    "        super().__init__(carname)\n",
    "    "
   ]
  },
  {
   "cell_type": "code",
   "execution_count": 45,
   "id": "22ae67cb",
   "metadata": {},
   "outputs": [],
   "source": [
    "obj = collage(\"htop\",\"audi\")"
   ]
  },
  {
   "cell_type": "code",
   "execution_count": 46,
   "id": "c36ccadb",
   "metadata": {},
   "outputs": [
    {
     "data": {
      "text/plain": [
       "'audi'"
      ]
     },
     "execution_count": 46,
     "metadata": {},
     "output_type": "execute_result"
    }
   ],
   "source": [
    "obj.carname"
   ]
  },
  {
   "cell_type": "code",
   "execution_count": 47,
   "id": "4837f3f0",
   "metadata": {},
   "outputs": [
    {
     "data": {
      "text/plain": [
       "'htop'"
      ]
     },
     "execution_count": 47,
     "metadata": {},
     "output_type": "execute_result"
    }
   ],
   "source": [
    "obj.collagename"
   ]
  },
  {
   "cell_type": "code",
   "execution_count": 48,
   "id": "67fb9b3a",
   "metadata": {},
   "outputs": [],
   "source": [
    "class car():\n",
    "    def __init__(self,carname):\n",
    "            self.carname = carname\n",
    "\n",
    "class collage(car):\n",
    "    def __init__(self,collagename,carname):\n",
    "        self.collagename = collagename\n",
    "        super().__init__(carname)\n",
    "\n",
    "class student(collage):\n",
    "    def __init__(self,studentname,collagename,carname):\n",
    "        self.studentname = studentname\n",
    "        super().__init__(collagename,carname)\n",
    "    "
   ]
  },
  {
   "cell_type": "code",
   "execution_count": 49,
   "id": "b31b518b",
   "metadata": {},
   "outputs": [],
   "source": [
    "obj = student(\"ramesh\",\"htop\",\"bmw\")"
   ]
  },
  {
   "cell_type": "code",
   "execution_count": 50,
   "id": "4e0f2c82",
   "metadata": {},
   "outputs": [
    {
     "data": {
      "text/plain": [
       "'bmw'"
      ]
     },
     "execution_count": 50,
     "metadata": {},
     "output_type": "execute_result"
    }
   ],
   "source": [
    "obj.carname"
   ]
  },
  {
   "cell_type": "code",
   "execution_count": 51,
   "id": "9f672469",
   "metadata": {},
   "outputs": [
    {
     "data": {
      "text/plain": [
       "'htop'"
      ]
     },
     "execution_count": 51,
     "metadata": {},
     "output_type": "execute_result"
    }
   ],
   "source": [
    "obj.collagename"
   ]
  },
  {
   "cell_type": "code",
   "execution_count": 52,
   "id": "368938d3",
   "metadata": {},
   "outputs": [
    {
     "data": {
      "text/plain": [
       "'ramesh'"
      ]
     },
     "execution_count": 52,
     "metadata": {},
     "output_type": "execute_result"
    }
   ],
   "source": [
    "obj.studentname"
   ]
  },
  {
   "cell_type": "code",
   "execution_count": 53,
   "id": "d1494a51",
   "metadata": {},
   "outputs": [],
   "source": [
    "class car():\n",
    "    def __init__(self,carname):\n",
    "            self.carname = carname\n",
    "\n",
    "class collage(car):\n",
    "    def __init__(self,collagename,carname):\n",
    "        self.collagename = collagename\n",
    "        super().__init__(carname)\n",
    "\n",
    "class student(collage):\n",
    "    def __init__(self,studentname,collagename,carname):\n",
    "        self.studentname = studentname\n",
    "        super().__init__(collagename,carname)\n",
    "    \n",
    "    def display(self):\n",
    "        print(\"carname:\",self.carname)\n",
    "        print(\"collagename:\",self.collagename)\n",
    "        print(\"studentname:\",self.studentname)"
   ]
  },
  {
   "cell_type": "code",
   "execution_count": 54,
   "id": "1668f5ce",
   "metadata": {},
   "outputs": [],
   "source": [
    "obj =student(\"benz\",\"hits\",\"tom\")"
   ]
  },
  {
   "cell_type": "code",
   "execution_count": 55,
   "id": "79dcce09",
   "metadata": {},
   "outputs": [
    {
     "data": {
      "text/plain": [
       "'tom'"
      ]
     },
     "execution_count": 55,
     "metadata": {},
     "output_type": "execute_result"
    }
   ],
   "source": [
    "obj.carname"
   ]
  },
  {
   "cell_type": "code",
   "execution_count": 56,
   "id": "e749f5f6",
   "metadata": {},
   "outputs": [
    {
     "data": {
      "text/plain": [
       "'hits'"
      ]
     },
     "execution_count": 56,
     "metadata": {},
     "output_type": "execute_result"
    }
   ],
   "source": [
    "obj.collagename"
   ]
  },
  {
   "cell_type": "code",
   "execution_count": 57,
   "id": "9413cb9d",
   "metadata": {},
   "outputs": [
    {
     "data": {
      "text/plain": [
       "'benz'"
      ]
     },
     "execution_count": 57,
     "metadata": {},
     "output_type": "execute_result"
    }
   ],
   "source": [
    "obj.studentname"
   ]
  },
  {
   "cell_type": "code",
   "execution_count": 58,
   "id": "b6f8fc1b",
   "metadata": {},
   "outputs": [
    {
     "name": "stdout",
     "output_type": "stream",
     "text": [
      "carname: tom\n",
      "collagename: hits\n",
      "studentname: benz\n"
     ]
    }
   ],
   "source": [
    "obj.display()"
   ]
  },
  {
   "cell_type": "code",
   "execution_count": 59,
   "id": "7ebfed34",
   "metadata": {},
   "outputs": [],
   "source": [
    "class name():\n",
    "    def __init__(self,studentname):\n",
    "        self.studentname = studentname\n",
    "class staf(name):\n",
    "    def __init__(self,stafname,studentname):\n",
    "        self.stafname = stafname\n",
    "        super().__init__(studentname)\n",
    "        \n",
    "    def display(self):\n",
    "        print(\"stafname:\",self.stafname)\n",
    "        print(\"studentname:\",self.studentname)\n",
    "\n",
    "    "
   ]
  },
  {
   "cell_type": "code",
   "execution_count": 60,
   "id": "a2739b90",
   "metadata": {},
   "outputs": [],
   "source": [
    "obj = staf(\"jp\",\"ram\")"
   ]
  },
  {
   "cell_type": "code",
   "execution_count": 61,
   "id": "309ab508",
   "metadata": {},
   "outputs": [
    {
     "data": {
      "text/plain": [
       "'jp'"
      ]
     },
     "execution_count": 61,
     "metadata": {},
     "output_type": "execute_result"
    }
   ],
   "source": [
    "obj.stafname"
   ]
  },
  {
   "cell_type": "code",
   "execution_count": 62,
   "id": "24f24601",
   "metadata": {},
   "outputs": [
    {
     "data": {
      "text/plain": [
       "'ram'"
      ]
     },
     "execution_count": 62,
     "metadata": {},
     "output_type": "execute_result"
    }
   ],
   "source": [
    "obj.studentname"
   ]
  },
  {
   "cell_type": "code",
   "execution_count": 63,
   "id": "6490a768",
   "metadata": {},
   "outputs": [
    {
     "name": "stdout",
     "output_type": "stream",
     "text": [
      "stafname: jp\n",
      "studentname: ram\n"
     ]
    }
   ],
   "source": [
    "obj.display()"
   ]
  },
  {
   "cell_type": "code",
   "execution_count": 64,
   "id": "86066294",
   "metadata": {},
   "outputs": [],
   "source": [
    "class a():\n",
    "    \n",
    "    def __init__(self,ename):\n",
    "        self.ename = ename\n",
    "        \n",
    "class b(a):\n",
    "    \n",
    "    def __init__(self,eage,ename):\n",
    "        self.eage = eage\n",
    "        a.__init__(self,ename)\n",
    "        \n",
    "    def disp(self):\n",
    "        \n",
    "        print(\"name:\",self.ename)\n",
    "        print(\"age:\",self.eage)\n",
    "    "
   ]
  },
  {
   "cell_type": "code",
   "execution_count": 65,
   "id": "d4fb02d1",
   "metadata": {},
   "outputs": [],
   "source": [
    "obj = b(\"ram\",23)"
   ]
  },
  {
   "cell_type": "code",
   "execution_count": 66,
   "id": "ab6caf71",
   "metadata": {},
   "outputs": [
    {
     "name": "stdout",
     "output_type": "stream",
     "text": [
      "name: 23\n",
      "age: ram\n"
     ]
    }
   ],
   "source": [
    "obj.disp()"
   ]
  },
  {
   "cell_type": "code",
   "execution_count": 67,
   "id": "4a633a81",
   "metadata": {},
   "outputs": [
    {
     "data": {
      "text/plain": [
       "'ram'"
      ]
     },
     "execution_count": 67,
     "metadata": {},
     "output_type": "execute_result"
    }
   ],
   "source": [
    "obj.eage"
   ]
  },
  {
   "cell_type": "code",
   "execution_count": 68,
   "id": "ce9cf468",
   "metadata": {},
   "outputs": [
    {
     "data": {
      "text/plain": [
       "23"
      ]
     },
     "execution_count": 68,
     "metadata": {},
     "output_type": "execute_result"
    }
   ],
   "source": [
    "obj.ename"
   ]
  },
  {
   "cell_type": "code",
   "execution_count": 69,
   "id": "0e7a45f8",
   "metadata": {},
   "outputs": [],
   "source": [
    "class a():\n",
    "    \n",
    "    def __init__(self,ename):\n",
    "        self.ename = ename\n",
    "        \n",
    "class b(a):\n",
    "    \n",
    "    def __init__(self,ename,eage):\n",
    "        self.eage = eage\n",
    "        a.__init__(self,ename)\n",
    "        \n",
    "    def disp(self):\n",
    "        \n",
    "        print(\"name:\",self.ename)\n",
    "        print(\"age:\",self.eage)\n",
    "    "
   ]
  },
  {
   "cell_type": "code",
   "execution_count": 70,
   "id": "0b851f86",
   "metadata": {},
   "outputs": [],
   "source": [
    "x = b(\"ram\",20)"
   ]
  },
  {
   "cell_type": "code",
   "execution_count": 71,
   "id": "b53415b3",
   "metadata": {},
   "outputs": [
    {
     "data": {
      "text/plain": [
       "'ram'"
      ]
     },
     "execution_count": 71,
     "metadata": {},
     "output_type": "execute_result"
    }
   ],
   "source": [
    "x.ename"
   ]
  },
  {
   "cell_type": "code",
   "execution_count": 72,
   "id": "5e925979",
   "metadata": {},
   "outputs": [
    {
     "data": {
      "text/plain": [
       "20"
      ]
     },
     "execution_count": 72,
     "metadata": {},
     "output_type": "execute_result"
    }
   ],
   "source": [
    "x.eage"
   ]
  },
  {
   "cell_type": "code",
   "execution_count": 73,
   "id": "288b429a",
   "metadata": {},
   "outputs": [
    {
     "name": "stdout",
     "output_type": "stream",
     "text": [
      "name: ram\n",
      "age: 20\n"
     ]
    }
   ],
   "source": [
    "x.disp()"
   ]
  },
  {
   "cell_type": "code",
   "execution_count": 130,
   "id": "1968ea02",
   "metadata": {},
   "outputs": [],
   "source": [
    "class bike():\n",
    "    bikename = \"re \"\n",
    "    def bajaj(self):\n",
    "        print(self.bikename)\n",
    "class car():\n",
    "    carname = \"wvw \"\n",
    "    def car(self):\n",
    "        print(self.carname)\n",
    "class train():\n",
    "    trainname = \"exp \"\n",
    "    def train(self):\n",
    "        print(self.trainname)  \n",
    "class vehicle(bike,car,train):\n",
    "    def display(self):\n",
    "        print(\"bikename:\" , self.bikename)\n",
    "        print(\"carname:\" , self.carname)\n",
    "        print(\"trainname:\" , self.trainname)"
   ]
  },
  {
   "cell_type": "code",
   "execution_count": null,
   "id": "6a5fff39",
   "metadata": {},
   "outputs": [],
   "source": []
  },
  {
   "cell_type": "code",
   "execution_count": null,
   "id": "e2d0aadf",
   "metadata": {},
   "outputs": [],
   "source": []
  },
  {
   "cell_type": "code",
   "execution_count": null,
   "id": "95d8b584",
   "metadata": {},
   "outputs": [],
   "source": []
  },
  {
   "cell_type": "code",
   "execution_count": null,
   "id": "72e4b5ca",
   "metadata": {},
   "outputs": [],
   "source": []
  },
  {
   "cell_type": "code",
   "execution_count": null,
   "id": "584df0ff",
   "metadata": {},
   "outputs": [],
   "source": []
  }
 ],
 "metadata": {
  "kernelspec": {
   "display_name": "Python 3 (ipykernel)",
   "language": "python",
   "name": "python3"
  },
  "language_info": {
   "codemirror_mode": {
    "name": "ipython",
    "version": 3
   },
   "file_extension": ".py",
   "mimetype": "text/x-python",
   "name": "python",
   "nbconvert_exporter": "python",
   "pygments_lexer": "ipython3",
   "version": "3.9.12"
  }
 },
 "nbformat": 4,
 "nbformat_minor": 5
}
